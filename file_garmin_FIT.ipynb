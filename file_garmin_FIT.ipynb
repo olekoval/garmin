{
 "cells": [
  {
   "cell_type": "code",
   "execution_count": 52,
   "id": "1de15175",
   "metadata": {},
   "outputs": [
    {
     "data": {
      "text/html": [
       "<div>\n",
       "<style scoped>\n",
       "    .dataframe tbody tr th:only-of-type {\n",
       "        vertical-align: middle;\n",
       "    }\n",
       "\n",
       "    .dataframe tbody tr th {\n",
       "        vertical-align: top;\n",
       "    }\n",
       "\n",
       "    .dataframe thead th {\n",
       "        text-align: right;\n",
       "    }\n",
       "</style>\n",
       "<table border=\"1\" class=\"dataframe\">\n",
       "  <thead>\n",
       "    <tr style=\"text-align: right;\">\n",
       "      <th></th>\n",
       "      <th>time_only</th>\n",
       "      <th>heart_rate</th>\n",
       "      <th>heart_rate_rolling_avg</th>\n",
       "    </tr>\n",
       "  </thead>\n",
       "  <tbody>\n",
       "    <tr>\n",
       "      <th>293</th>\n",
       "      <td>04:08:00</td>\n",
       "      <td>155</td>\n",
       "      <td>154.8</td>\n",
       "    </tr>\n",
       "  </tbody>\n",
       "</table>\n",
       "</div>"
      ],
      "text/plain": [
       "    time_only  heart_rate  heart_rate_rolling_avg\n",
       "293  04:08:00         155                   154.8"
      ]
     },
     "execution_count": 52,
     "metadata": {},
     "output_type": "execute_result"
    }
   ],
   "source": [
    "# pip install fitparse\n",
    "\n",
    "from fitparse import FitFile\n",
    "import pandas as pd\n",
    "import plotly.express as px\n",
    "import plotly.graph_objects as go\n",
    "\n",
    "# Відкрити FIT файл\n",
    "fitfile = FitFile('17003786880_ACTIVITY.fit')\n",
    "\n",
    "# Ініціалізуємо список для зберігання даних\n",
    "records = []\n",
    "\n",
    "# Перебираємо записи у файлі\n",
    "for record in fitfile.get_messages('record'):\n",
    "    record_data = {}\n",
    "    for record_field in record:\n",
    "        record_data[record_field.name] = record_field.value\n",
    "    records.append(record_data)\n",
    "\n",
    "# Створюємо DataFrame з отриманих записів\n",
    "df = pd.DataFrame(records)\n",
    "\n",
    "df['time_only'] = df['timestamp'].dt.time\n",
    "# Обчислення ковзного середнього зі вікном в 3 рядки (наприклад)\n",
    "df['heart_rate_rolling_avg'] = df['heart_rate'].rolling(window=5).mean()\n",
    "\n",
    "\n",
    "start_time = pd.to_datetime('04:08:00').time()\n",
    "end_time = pd.to_datetime('04:15:00').time()\n",
    "\n",
    "# Фільтруємо DataFrame за інтервалом часу\n",
    "df_filtered = df[(df['time_only'] >= start_time) & (df['time_only'] <= end_time)]\n",
    "\n",
    "\n",
    "dff = df_filtered[['time_only', 'heart_rate', 'heart_rate_rolling_avg']]\n",
    "dff.head(1)"
   ]
  },
  {
   "cell_type": "code",
   "execution_count": 53,
   "id": "a4f9dd4b",
   "metadata": {},
   "outputs": [
    {
     "data": {
      "application/vnd.plotly.v1+json": {
       "config": {
        "plotlyServerURL": "https://plot.ly"
       },
       "data": [
        {
         "mode": "lines",
         "name": "Heart Rate",
         "type": "scatter",
         "x": [
          "04:08:00",
          "04:08:07",
          "04:08:15",
          "04:08:25",
          "04:08:33",
          "04:08:42",
          "04:08:49",
          "04:08:55",
          "04:09:02",
          "04:09:09",
          "04:09:16",
          "04:09:22",
          "04:09:30",
          "04:09:35",
          "04:09:42",
          "04:09:49",
          "04:09:55",
          "04:10:02",
          "04:10:07",
          "04:10:11",
          "04:10:18",
          "04:10:19",
          "04:10:27",
          "04:10:33",
          "04:10:34",
          "04:10:42",
          "04:10:50",
          "04:10:57",
          "04:11:04",
          "04:11:11",
          "04:11:18",
          "04:11:25",
          "04:11:32",
          "04:11:40",
          "04:11:47",
          "04:11:53",
          "04:12:00",
          "04:12:07",
          "04:12:13",
          "04:12:19",
          "04:12:25",
          "04:12:30",
          "04:12:34",
          "04:12:41",
          "04:12:49",
          "04:12:52",
          "04:12:59",
          "04:13:06",
          "04:13:13",
          "04:13:15",
          "04:13:20",
          "04:13:26",
          "04:13:33",
          "04:13:41",
          "04:13:48",
          "04:13:55",
          "04:14:02",
          "04:14:10",
          "04:14:19",
          "04:14:26",
          "04:14:33",
          "04:14:38",
          "04:14:45",
          "04:14:51",
          "04:14:58"
         ],
         "y": [
          155,
          157,
          159,
          157,
          156,
          156,
          155,
          155,
          153,
          155,
          154,
          157,
          157,
          160,
          162,
          163,
          162,
          162,
          159,
          162,
          161,
          164,
          164,
          164,
          163,
          162,
          163,
          164,
          166,
          166,
          166,
          165,
          166,
          166,
          164,
          165,
          164,
          163,
          162,
          160,
          160,
          163,
          160,
          159,
          160,
          157,
          157,
          157,
          157,
          160,
          157,
          158,
          157,
          157,
          158,
          157,
          156,
          158,
          156,
          157,
          155,
          152,
          152,
          155,
          153
         ]
        },
        {
         "mode": "lines",
         "name": "Heart Rate Rolling Avg",
         "type": "scatter",
         "x": [
          "04:08:00",
          "04:08:07",
          "04:08:15",
          "04:08:25",
          "04:08:33",
          "04:08:42",
          "04:08:49",
          "04:08:55",
          "04:09:02",
          "04:09:09",
          "04:09:16",
          "04:09:22",
          "04:09:30",
          "04:09:35",
          "04:09:42",
          "04:09:49",
          "04:09:55",
          "04:10:02",
          "04:10:07",
          "04:10:11",
          "04:10:18",
          "04:10:19",
          "04:10:27",
          "04:10:33",
          "04:10:34",
          "04:10:42",
          "04:10:50",
          "04:10:57",
          "04:11:04",
          "04:11:11",
          "04:11:18",
          "04:11:25",
          "04:11:32",
          "04:11:40",
          "04:11:47",
          "04:11:53",
          "04:12:00",
          "04:12:07",
          "04:12:13",
          "04:12:19",
          "04:12:25",
          "04:12:30",
          "04:12:34",
          "04:12:41",
          "04:12:49",
          "04:12:52",
          "04:12:59",
          "04:13:06",
          "04:13:13",
          "04:13:15",
          "04:13:20",
          "04:13:26",
          "04:13:33",
          "04:13:41",
          "04:13:48",
          "04:13:55",
          "04:14:02",
          "04:14:10",
          "04:14:19",
          "04:14:26",
          "04:14:33",
          "04:14:38",
          "04:14:45",
          "04:14:51",
          "04:14:58"
         ],
         "y": [
          154.8,
          155.2,
          156.2,
          156.6,
          156.8,
          157,
          156.6,
          155.8,
          155,
          154.8,
          154.4,
          154.8,
          155.2,
          156.6,
          158,
          159.8,
          160.8,
          161.8,
          161.6,
          161.6,
          161.2,
          161.6,
          162,
          163,
          163.2,
          163.4,
          163.2,
          163.2,
          163.6,
          164.2,
          165,
          165.4,
          165.8,
          165.8,
          165.4,
          165.2,
          165,
          164.4,
          163.6,
          162.8,
          161.8,
          161.6,
          161,
          160.4,
          160.4,
          159.8,
          158.6,
          158,
          157.6,
          157.6,
          157.6,
          157.8,
          157.8,
          157.8,
          157.4,
          157.4,
          157,
          157.2,
          157,
          156.8,
          156.4,
          155.6,
          154.4,
          154.2,
          153.4
         ]
        }
       ],
       "layout": {
        "showlegend": false,
        "template": {
         "data": {
          "bar": [
           {
            "error_x": {
             "color": "#2a3f5f"
            },
            "error_y": {
             "color": "#2a3f5f"
            },
            "marker": {
             "line": {
              "color": "#E5ECF6",
              "width": 0.5
             },
             "pattern": {
              "fillmode": "overlay",
              "size": 10,
              "solidity": 0.2
             }
            },
            "type": "bar"
           }
          ],
          "barpolar": [
           {
            "marker": {
             "line": {
              "color": "#E5ECF6",
              "width": 0.5
             },
             "pattern": {
              "fillmode": "overlay",
              "size": 10,
              "solidity": 0.2
             }
            },
            "type": "barpolar"
           }
          ],
          "carpet": [
           {
            "aaxis": {
             "endlinecolor": "#2a3f5f",
             "gridcolor": "white",
             "linecolor": "white",
             "minorgridcolor": "white",
             "startlinecolor": "#2a3f5f"
            },
            "baxis": {
             "endlinecolor": "#2a3f5f",
             "gridcolor": "white",
             "linecolor": "white",
             "minorgridcolor": "white",
             "startlinecolor": "#2a3f5f"
            },
            "type": "carpet"
           }
          ],
          "choropleth": [
           {
            "colorbar": {
             "outlinewidth": 0,
             "ticks": ""
            },
            "type": "choropleth"
           }
          ],
          "contour": [
           {
            "colorbar": {
             "outlinewidth": 0,
             "ticks": ""
            },
            "colorscale": [
             [
              0,
              "#0d0887"
             ],
             [
              0.1111111111111111,
              "#46039f"
             ],
             [
              0.2222222222222222,
              "#7201a8"
             ],
             [
              0.3333333333333333,
              "#9c179e"
             ],
             [
              0.4444444444444444,
              "#bd3786"
             ],
             [
              0.5555555555555556,
              "#d8576b"
             ],
             [
              0.6666666666666666,
              "#ed7953"
             ],
             [
              0.7777777777777778,
              "#fb9f3a"
             ],
             [
              0.8888888888888888,
              "#fdca26"
             ],
             [
              1,
              "#f0f921"
             ]
            ],
            "type": "contour"
           }
          ],
          "contourcarpet": [
           {
            "colorbar": {
             "outlinewidth": 0,
             "ticks": ""
            },
            "type": "contourcarpet"
           }
          ],
          "heatmap": [
           {
            "colorbar": {
             "outlinewidth": 0,
             "ticks": ""
            },
            "colorscale": [
             [
              0,
              "#0d0887"
             ],
             [
              0.1111111111111111,
              "#46039f"
             ],
             [
              0.2222222222222222,
              "#7201a8"
             ],
             [
              0.3333333333333333,
              "#9c179e"
             ],
             [
              0.4444444444444444,
              "#bd3786"
             ],
             [
              0.5555555555555556,
              "#d8576b"
             ],
             [
              0.6666666666666666,
              "#ed7953"
             ],
             [
              0.7777777777777778,
              "#fb9f3a"
             ],
             [
              0.8888888888888888,
              "#fdca26"
             ],
             [
              1,
              "#f0f921"
             ]
            ],
            "type": "heatmap"
           }
          ],
          "heatmapgl": [
           {
            "colorbar": {
             "outlinewidth": 0,
             "ticks": ""
            },
            "colorscale": [
             [
              0,
              "#0d0887"
             ],
             [
              0.1111111111111111,
              "#46039f"
             ],
             [
              0.2222222222222222,
              "#7201a8"
             ],
             [
              0.3333333333333333,
              "#9c179e"
             ],
             [
              0.4444444444444444,
              "#bd3786"
             ],
             [
              0.5555555555555556,
              "#d8576b"
             ],
             [
              0.6666666666666666,
              "#ed7953"
             ],
             [
              0.7777777777777778,
              "#fb9f3a"
             ],
             [
              0.8888888888888888,
              "#fdca26"
             ],
             [
              1,
              "#f0f921"
             ]
            ],
            "type": "heatmapgl"
           }
          ],
          "histogram": [
           {
            "marker": {
             "pattern": {
              "fillmode": "overlay",
              "size": 10,
              "solidity": 0.2
             }
            },
            "type": "histogram"
           }
          ],
          "histogram2d": [
           {
            "colorbar": {
             "outlinewidth": 0,
             "ticks": ""
            },
            "colorscale": [
             [
              0,
              "#0d0887"
             ],
             [
              0.1111111111111111,
              "#46039f"
             ],
             [
              0.2222222222222222,
              "#7201a8"
             ],
             [
              0.3333333333333333,
              "#9c179e"
             ],
             [
              0.4444444444444444,
              "#bd3786"
             ],
             [
              0.5555555555555556,
              "#d8576b"
             ],
             [
              0.6666666666666666,
              "#ed7953"
             ],
             [
              0.7777777777777778,
              "#fb9f3a"
             ],
             [
              0.8888888888888888,
              "#fdca26"
             ],
             [
              1,
              "#f0f921"
             ]
            ],
            "type": "histogram2d"
           }
          ],
          "histogram2dcontour": [
           {
            "colorbar": {
             "outlinewidth": 0,
             "ticks": ""
            },
            "colorscale": [
             [
              0,
              "#0d0887"
             ],
             [
              0.1111111111111111,
              "#46039f"
             ],
             [
              0.2222222222222222,
              "#7201a8"
             ],
             [
              0.3333333333333333,
              "#9c179e"
             ],
             [
              0.4444444444444444,
              "#bd3786"
             ],
             [
              0.5555555555555556,
              "#d8576b"
             ],
             [
              0.6666666666666666,
              "#ed7953"
             ],
             [
              0.7777777777777778,
              "#fb9f3a"
             ],
             [
              0.8888888888888888,
              "#fdca26"
             ],
             [
              1,
              "#f0f921"
             ]
            ],
            "type": "histogram2dcontour"
           }
          ],
          "mesh3d": [
           {
            "colorbar": {
             "outlinewidth": 0,
             "ticks": ""
            },
            "type": "mesh3d"
           }
          ],
          "parcoords": [
           {
            "line": {
             "colorbar": {
              "outlinewidth": 0,
              "ticks": ""
             }
            },
            "type": "parcoords"
           }
          ],
          "pie": [
           {
            "automargin": true,
            "type": "pie"
           }
          ],
          "scatter": [
           {
            "fillpattern": {
             "fillmode": "overlay",
             "size": 10,
             "solidity": 0.2
            },
            "type": "scatter"
           }
          ],
          "scatter3d": [
           {
            "line": {
             "colorbar": {
              "outlinewidth": 0,
              "ticks": ""
             }
            },
            "marker": {
             "colorbar": {
              "outlinewidth": 0,
              "ticks": ""
             }
            },
            "type": "scatter3d"
           }
          ],
          "scattercarpet": [
           {
            "marker": {
             "colorbar": {
              "outlinewidth": 0,
              "ticks": ""
             }
            },
            "type": "scattercarpet"
           }
          ],
          "scattergeo": [
           {
            "marker": {
             "colorbar": {
              "outlinewidth": 0,
              "ticks": ""
             }
            },
            "type": "scattergeo"
           }
          ],
          "scattergl": [
           {
            "marker": {
             "colorbar": {
              "outlinewidth": 0,
              "ticks": ""
             }
            },
            "type": "scattergl"
           }
          ],
          "scattermapbox": [
           {
            "marker": {
             "colorbar": {
              "outlinewidth": 0,
              "ticks": ""
             }
            },
            "type": "scattermapbox"
           }
          ],
          "scatterpolar": [
           {
            "marker": {
             "colorbar": {
              "outlinewidth": 0,
              "ticks": ""
             }
            },
            "type": "scatterpolar"
           }
          ],
          "scatterpolargl": [
           {
            "marker": {
             "colorbar": {
              "outlinewidth": 0,
              "ticks": ""
             }
            },
            "type": "scatterpolargl"
           }
          ],
          "scatterternary": [
           {
            "marker": {
             "colorbar": {
              "outlinewidth": 0,
              "ticks": ""
             }
            },
            "type": "scatterternary"
           }
          ],
          "surface": [
           {
            "colorbar": {
             "outlinewidth": 0,
             "ticks": ""
            },
            "colorscale": [
             [
              0,
              "#0d0887"
             ],
             [
              0.1111111111111111,
              "#46039f"
             ],
             [
              0.2222222222222222,
              "#7201a8"
             ],
             [
              0.3333333333333333,
              "#9c179e"
             ],
             [
              0.4444444444444444,
              "#bd3786"
             ],
             [
              0.5555555555555556,
              "#d8576b"
             ],
             [
              0.6666666666666666,
              "#ed7953"
             ],
             [
              0.7777777777777778,
              "#fb9f3a"
             ],
             [
              0.8888888888888888,
              "#fdca26"
             ],
             [
              1,
              "#f0f921"
             ]
            ],
            "type": "surface"
           }
          ],
          "table": [
           {
            "cells": {
             "fill": {
              "color": "#EBF0F8"
             },
             "line": {
              "color": "white"
             }
            },
            "header": {
             "fill": {
              "color": "#C8D4E3"
             },
             "line": {
              "color": "white"
             }
            },
            "type": "table"
           }
          ]
         },
         "layout": {
          "annotationdefaults": {
           "arrowcolor": "#2a3f5f",
           "arrowhead": 0,
           "arrowwidth": 1
          },
          "autotypenumbers": "strict",
          "coloraxis": {
           "colorbar": {
            "outlinewidth": 0,
            "ticks": ""
           }
          },
          "colorscale": {
           "diverging": [
            [
             0,
             "#8e0152"
            ],
            [
             0.1,
             "#c51b7d"
            ],
            [
             0.2,
             "#de77ae"
            ],
            [
             0.3,
             "#f1b6da"
            ],
            [
             0.4,
             "#fde0ef"
            ],
            [
             0.5,
             "#f7f7f7"
            ],
            [
             0.6,
             "#e6f5d0"
            ],
            [
             0.7,
             "#b8e186"
            ],
            [
             0.8,
             "#7fbc41"
            ],
            [
             0.9,
             "#4d9221"
            ],
            [
             1,
             "#276419"
            ]
           ],
           "sequential": [
            [
             0,
             "#0d0887"
            ],
            [
             0.1111111111111111,
             "#46039f"
            ],
            [
             0.2222222222222222,
             "#7201a8"
            ],
            [
             0.3333333333333333,
             "#9c179e"
            ],
            [
             0.4444444444444444,
             "#bd3786"
            ],
            [
             0.5555555555555556,
             "#d8576b"
            ],
            [
             0.6666666666666666,
             "#ed7953"
            ],
            [
             0.7777777777777778,
             "#fb9f3a"
            ],
            [
             0.8888888888888888,
             "#fdca26"
            ],
            [
             1,
             "#f0f921"
            ]
           ],
           "sequentialminus": [
            [
             0,
             "#0d0887"
            ],
            [
             0.1111111111111111,
             "#46039f"
            ],
            [
             0.2222222222222222,
             "#7201a8"
            ],
            [
             0.3333333333333333,
             "#9c179e"
            ],
            [
             0.4444444444444444,
             "#bd3786"
            ],
            [
             0.5555555555555556,
             "#d8576b"
            ],
            [
             0.6666666666666666,
             "#ed7953"
            ],
            [
             0.7777777777777778,
             "#fb9f3a"
            ],
            [
             0.8888888888888888,
             "#fdca26"
            ],
            [
             1,
             "#f0f921"
            ]
           ]
          },
          "colorway": [
           "#636efa",
           "#EF553B",
           "#00cc96",
           "#ab63fa",
           "#FFA15A",
           "#19d3f3",
           "#FF6692",
           "#B6E880",
           "#FF97FF",
           "#FECB52"
          ],
          "font": {
           "color": "#2a3f5f"
          },
          "geo": {
           "bgcolor": "white",
           "lakecolor": "white",
           "landcolor": "#E5ECF6",
           "showlakes": true,
           "showland": true,
           "subunitcolor": "white"
          },
          "hoverlabel": {
           "align": "left"
          },
          "hovermode": "closest",
          "mapbox": {
           "style": "light"
          },
          "paper_bgcolor": "white",
          "plot_bgcolor": "#E5ECF6",
          "polar": {
           "angularaxis": {
            "gridcolor": "white",
            "linecolor": "white",
            "ticks": ""
           },
           "bgcolor": "#E5ECF6",
           "radialaxis": {
            "gridcolor": "white",
            "linecolor": "white",
            "ticks": ""
           }
          },
          "scene": {
           "xaxis": {
            "backgroundcolor": "#E5ECF6",
            "gridcolor": "white",
            "gridwidth": 2,
            "linecolor": "white",
            "showbackground": true,
            "ticks": "",
            "zerolinecolor": "white"
           },
           "yaxis": {
            "backgroundcolor": "#E5ECF6",
            "gridcolor": "white",
            "gridwidth": 2,
            "linecolor": "white",
            "showbackground": true,
            "ticks": "",
            "zerolinecolor": "white"
           },
           "zaxis": {
            "backgroundcolor": "#E5ECF6",
            "gridcolor": "white",
            "gridwidth": 2,
            "linecolor": "white",
            "showbackground": true,
            "ticks": "",
            "zerolinecolor": "white"
           }
          },
          "shapedefaults": {
           "line": {
            "color": "#2a3f5f"
           }
          },
          "ternary": {
           "aaxis": {
            "gridcolor": "white",
            "linecolor": "white",
            "ticks": ""
           },
           "baxis": {
            "gridcolor": "white",
            "linecolor": "white",
            "ticks": ""
           },
           "bgcolor": "#E5ECF6",
           "caxis": {
            "gridcolor": "white",
            "linecolor": "white",
            "ticks": ""
           }
          },
          "title": {
           "x": 0.05
          },
          "xaxis": {
           "automargin": true,
           "gridcolor": "white",
           "linecolor": "white",
           "ticks": "",
           "title": {
            "standoff": 15
           },
           "zerolinecolor": "white",
           "zerolinewidth": 2
          },
          "yaxis": {
           "automargin": true,
           "gridcolor": "white",
           "linecolor": "white",
           "ticks": "",
           "title": {
            "standoff": 15
           },
           "zerolinecolor": "white",
           "zerolinewidth": 2
          }
         }
        }
       }
      },
      "text/html": [
       "<div>                            <div id=\"87331871-e516-4b4f-8378-38f0aea9ba29\" class=\"plotly-graph-div\" style=\"height:525px; width:100%;\"></div>            <script type=\"text/javascript\">                require([\"plotly\"], function(Plotly) {                    window.PLOTLYENV=window.PLOTLYENV || {};                                    if (document.getElementById(\"87331871-e516-4b4f-8378-38f0aea9ba29\")) {                    Plotly.newPlot(                        \"87331871-e516-4b4f-8378-38f0aea9ba29\",                        [{\"mode\":\"lines\",\"name\":\"Heart Rate\",\"x\":[\"04:08:00\",\"04:08:07\",\"04:08:15\",\"04:08:25\",\"04:08:33\",\"04:08:42\",\"04:08:49\",\"04:08:55\",\"04:09:02\",\"04:09:09\",\"04:09:16\",\"04:09:22\",\"04:09:30\",\"04:09:35\",\"04:09:42\",\"04:09:49\",\"04:09:55\",\"04:10:02\",\"04:10:07\",\"04:10:11\",\"04:10:18\",\"04:10:19\",\"04:10:27\",\"04:10:33\",\"04:10:34\",\"04:10:42\",\"04:10:50\",\"04:10:57\",\"04:11:04\",\"04:11:11\",\"04:11:18\",\"04:11:25\",\"04:11:32\",\"04:11:40\",\"04:11:47\",\"04:11:53\",\"04:12:00\",\"04:12:07\",\"04:12:13\",\"04:12:19\",\"04:12:25\",\"04:12:30\",\"04:12:34\",\"04:12:41\",\"04:12:49\",\"04:12:52\",\"04:12:59\",\"04:13:06\",\"04:13:13\",\"04:13:15\",\"04:13:20\",\"04:13:26\",\"04:13:33\",\"04:13:41\",\"04:13:48\",\"04:13:55\",\"04:14:02\",\"04:14:10\",\"04:14:19\",\"04:14:26\",\"04:14:33\",\"04:14:38\",\"04:14:45\",\"04:14:51\",\"04:14:58\"],\"y\":[155,157,159,157,156,156,155,155,153,155,154,157,157,160,162,163,162,162,159,162,161,164,164,164,163,162,163,164,166,166,166,165,166,166,164,165,164,163,162,160,160,163,160,159,160,157,157,157,157,160,157,158,157,157,158,157,156,158,156,157,155,152,152,155,153],\"type\":\"scatter\"},{\"mode\":\"lines\",\"name\":\"Heart Rate Rolling Avg\",\"x\":[\"04:08:00\",\"04:08:07\",\"04:08:15\",\"04:08:25\",\"04:08:33\",\"04:08:42\",\"04:08:49\",\"04:08:55\",\"04:09:02\",\"04:09:09\",\"04:09:16\",\"04:09:22\",\"04:09:30\",\"04:09:35\",\"04:09:42\",\"04:09:49\",\"04:09:55\",\"04:10:02\",\"04:10:07\",\"04:10:11\",\"04:10:18\",\"04:10:19\",\"04:10:27\",\"04:10:33\",\"04:10:34\",\"04:10:42\",\"04:10:50\",\"04:10:57\",\"04:11:04\",\"04:11:11\",\"04:11:18\",\"04:11:25\",\"04:11:32\",\"04:11:40\",\"04:11:47\",\"04:11:53\",\"04:12:00\",\"04:12:07\",\"04:12:13\",\"04:12:19\",\"04:12:25\",\"04:12:30\",\"04:12:34\",\"04:12:41\",\"04:12:49\",\"04:12:52\",\"04:12:59\",\"04:13:06\",\"04:13:13\",\"04:13:15\",\"04:13:20\",\"04:13:26\",\"04:13:33\",\"04:13:41\",\"04:13:48\",\"04:13:55\",\"04:14:02\",\"04:14:10\",\"04:14:19\",\"04:14:26\",\"04:14:33\",\"04:14:38\",\"04:14:45\",\"04:14:51\",\"04:14:58\"],\"y\":[154.8,155.2,156.2,156.6,156.8,157.0,156.6,155.8,155.0,154.8,154.4,154.8,155.2,156.6,158.0,159.8,160.8,161.8,161.6,161.6,161.2,161.6,162.0,163.0,163.2,163.4,163.2,163.2,163.6,164.2,165.0,165.4,165.8,165.8,165.4,165.2,165.0,164.4,163.6,162.8,161.8,161.6,161.0,160.4,160.4,159.8,158.6,158.0,157.6,157.6,157.6,157.8,157.8,157.8,157.4,157.4,157.0,157.2,157.0,156.8,156.4,155.6,154.4,154.2,153.4],\"type\":\"scatter\"}],                        {\"template\":{\"data\":{\"histogram2dcontour\":[{\"type\":\"histogram2dcontour\",\"colorbar\":{\"outlinewidth\":0,\"ticks\":\"\"},\"colorscale\":[[0.0,\"#0d0887\"],[0.1111111111111111,\"#46039f\"],[0.2222222222222222,\"#7201a8\"],[0.3333333333333333,\"#9c179e\"],[0.4444444444444444,\"#bd3786\"],[0.5555555555555556,\"#d8576b\"],[0.6666666666666666,\"#ed7953\"],[0.7777777777777778,\"#fb9f3a\"],[0.8888888888888888,\"#fdca26\"],[1.0,\"#f0f921\"]]}],\"choropleth\":[{\"type\":\"choropleth\",\"colorbar\":{\"outlinewidth\":0,\"ticks\":\"\"}}],\"histogram2d\":[{\"type\":\"histogram2d\",\"colorbar\":{\"outlinewidth\":0,\"ticks\":\"\"},\"colorscale\":[[0.0,\"#0d0887\"],[0.1111111111111111,\"#46039f\"],[0.2222222222222222,\"#7201a8\"],[0.3333333333333333,\"#9c179e\"],[0.4444444444444444,\"#bd3786\"],[0.5555555555555556,\"#d8576b\"],[0.6666666666666666,\"#ed7953\"],[0.7777777777777778,\"#fb9f3a\"],[0.8888888888888888,\"#fdca26\"],[1.0,\"#f0f921\"]]}],\"heatmap\":[{\"type\":\"heatmap\",\"colorbar\":{\"outlinewidth\":0,\"ticks\":\"\"},\"colorscale\":[[0.0,\"#0d0887\"],[0.1111111111111111,\"#46039f\"],[0.2222222222222222,\"#7201a8\"],[0.3333333333333333,\"#9c179e\"],[0.4444444444444444,\"#bd3786\"],[0.5555555555555556,\"#d8576b\"],[0.6666666666666666,\"#ed7953\"],[0.7777777777777778,\"#fb9f3a\"],[0.8888888888888888,\"#fdca26\"],[1.0,\"#f0f921\"]]}],\"heatmapgl\":[{\"type\":\"heatmapgl\",\"colorbar\":{\"outlinewidth\":0,\"ticks\":\"\"},\"colorscale\":[[0.0,\"#0d0887\"],[0.1111111111111111,\"#46039f\"],[0.2222222222222222,\"#7201a8\"],[0.3333333333333333,\"#9c179e\"],[0.4444444444444444,\"#bd3786\"],[0.5555555555555556,\"#d8576b\"],[0.6666666666666666,\"#ed7953\"],[0.7777777777777778,\"#fb9f3a\"],[0.8888888888888888,\"#fdca26\"],[1.0,\"#f0f921\"]]}],\"contourcarpet\":[{\"type\":\"contourcarpet\",\"colorbar\":{\"outlinewidth\":0,\"ticks\":\"\"}}],\"contour\":[{\"type\":\"contour\",\"colorbar\":{\"outlinewidth\":0,\"ticks\":\"\"},\"colorscale\":[[0.0,\"#0d0887\"],[0.1111111111111111,\"#46039f\"],[0.2222222222222222,\"#7201a8\"],[0.3333333333333333,\"#9c179e\"],[0.4444444444444444,\"#bd3786\"],[0.5555555555555556,\"#d8576b\"],[0.6666666666666666,\"#ed7953\"],[0.7777777777777778,\"#fb9f3a\"],[0.8888888888888888,\"#fdca26\"],[1.0,\"#f0f921\"]]}],\"surface\":[{\"type\":\"surface\",\"colorbar\":{\"outlinewidth\":0,\"ticks\":\"\"},\"colorscale\":[[0.0,\"#0d0887\"],[0.1111111111111111,\"#46039f\"],[0.2222222222222222,\"#7201a8\"],[0.3333333333333333,\"#9c179e\"],[0.4444444444444444,\"#bd3786\"],[0.5555555555555556,\"#d8576b\"],[0.6666666666666666,\"#ed7953\"],[0.7777777777777778,\"#fb9f3a\"],[0.8888888888888888,\"#fdca26\"],[1.0,\"#f0f921\"]]}],\"mesh3d\":[{\"type\":\"mesh3d\",\"colorbar\":{\"outlinewidth\":0,\"ticks\":\"\"}}],\"scatter\":[{\"fillpattern\":{\"fillmode\":\"overlay\",\"size\":10,\"solidity\":0.2},\"type\":\"scatter\"}],\"parcoords\":[{\"type\":\"parcoords\",\"line\":{\"colorbar\":{\"outlinewidth\":0,\"ticks\":\"\"}}}],\"scatterpolargl\":[{\"type\":\"scatterpolargl\",\"marker\":{\"colorbar\":{\"outlinewidth\":0,\"ticks\":\"\"}}}],\"bar\":[{\"error_x\":{\"color\":\"#2a3f5f\"},\"error_y\":{\"color\":\"#2a3f5f\"},\"marker\":{\"line\":{\"color\":\"#E5ECF6\",\"width\":0.5},\"pattern\":{\"fillmode\":\"overlay\",\"size\":10,\"solidity\":0.2}},\"type\":\"bar\"}],\"scattergeo\":[{\"type\":\"scattergeo\",\"marker\":{\"colorbar\":{\"outlinewidth\":0,\"ticks\":\"\"}}}],\"scatterpolar\":[{\"type\":\"scatterpolar\",\"marker\":{\"colorbar\":{\"outlinewidth\":0,\"ticks\":\"\"}}}],\"histogram\":[{\"marker\":{\"pattern\":{\"fillmode\":\"overlay\",\"size\":10,\"solidity\":0.2}},\"type\":\"histogram\"}],\"scattergl\":[{\"type\":\"scattergl\",\"marker\":{\"colorbar\":{\"outlinewidth\":0,\"ticks\":\"\"}}}],\"scatter3d\":[{\"type\":\"scatter3d\",\"line\":{\"colorbar\":{\"outlinewidth\":0,\"ticks\":\"\"}},\"marker\":{\"colorbar\":{\"outlinewidth\":0,\"ticks\":\"\"}}}],\"scattermapbox\":[{\"type\":\"scattermapbox\",\"marker\":{\"colorbar\":{\"outlinewidth\":0,\"ticks\":\"\"}}}],\"scatterternary\":[{\"type\":\"scatterternary\",\"marker\":{\"colorbar\":{\"outlinewidth\":0,\"ticks\":\"\"}}}],\"scattercarpet\":[{\"type\":\"scattercarpet\",\"marker\":{\"colorbar\":{\"outlinewidth\":0,\"ticks\":\"\"}}}],\"carpet\":[{\"aaxis\":{\"endlinecolor\":\"#2a3f5f\",\"gridcolor\":\"white\",\"linecolor\":\"white\",\"minorgridcolor\":\"white\",\"startlinecolor\":\"#2a3f5f\"},\"baxis\":{\"endlinecolor\":\"#2a3f5f\",\"gridcolor\":\"white\",\"linecolor\":\"white\",\"minorgridcolor\":\"white\",\"startlinecolor\":\"#2a3f5f\"},\"type\":\"carpet\"}],\"table\":[{\"cells\":{\"fill\":{\"color\":\"#EBF0F8\"},\"line\":{\"color\":\"white\"}},\"header\":{\"fill\":{\"color\":\"#C8D4E3\"},\"line\":{\"color\":\"white\"}},\"type\":\"table\"}],\"barpolar\":[{\"marker\":{\"line\":{\"color\":\"#E5ECF6\",\"width\":0.5},\"pattern\":{\"fillmode\":\"overlay\",\"size\":10,\"solidity\":0.2}},\"type\":\"barpolar\"}],\"pie\":[{\"automargin\":true,\"type\":\"pie\"}]},\"layout\":{\"autotypenumbers\":\"strict\",\"colorway\":[\"#636efa\",\"#EF553B\",\"#00cc96\",\"#ab63fa\",\"#FFA15A\",\"#19d3f3\",\"#FF6692\",\"#B6E880\",\"#FF97FF\",\"#FECB52\"],\"font\":{\"color\":\"#2a3f5f\"},\"hovermode\":\"closest\",\"hoverlabel\":{\"align\":\"left\"},\"paper_bgcolor\":\"white\",\"plot_bgcolor\":\"#E5ECF6\",\"polar\":{\"bgcolor\":\"#E5ECF6\",\"angularaxis\":{\"gridcolor\":\"white\",\"linecolor\":\"white\",\"ticks\":\"\"},\"radialaxis\":{\"gridcolor\":\"white\",\"linecolor\":\"white\",\"ticks\":\"\"}},\"ternary\":{\"bgcolor\":\"#E5ECF6\",\"aaxis\":{\"gridcolor\":\"white\",\"linecolor\":\"white\",\"ticks\":\"\"},\"baxis\":{\"gridcolor\":\"white\",\"linecolor\":\"white\",\"ticks\":\"\"},\"caxis\":{\"gridcolor\":\"white\",\"linecolor\":\"white\",\"ticks\":\"\"}},\"coloraxis\":{\"colorbar\":{\"outlinewidth\":0,\"ticks\":\"\"}},\"colorscale\":{\"sequential\":[[0.0,\"#0d0887\"],[0.1111111111111111,\"#46039f\"],[0.2222222222222222,\"#7201a8\"],[0.3333333333333333,\"#9c179e\"],[0.4444444444444444,\"#bd3786\"],[0.5555555555555556,\"#d8576b\"],[0.6666666666666666,\"#ed7953\"],[0.7777777777777778,\"#fb9f3a\"],[0.8888888888888888,\"#fdca26\"],[1.0,\"#f0f921\"]],\"sequentialminus\":[[0.0,\"#0d0887\"],[0.1111111111111111,\"#46039f\"],[0.2222222222222222,\"#7201a8\"],[0.3333333333333333,\"#9c179e\"],[0.4444444444444444,\"#bd3786\"],[0.5555555555555556,\"#d8576b\"],[0.6666666666666666,\"#ed7953\"],[0.7777777777777778,\"#fb9f3a\"],[0.8888888888888888,\"#fdca26\"],[1.0,\"#f0f921\"]],\"diverging\":[[0,\"#8e0152\"],[0.1,\"#c51b7d\"],[0.2,\"#de77ae\"],[0.3,\"#f1b6da\"],[0.4,\"#fde0ef\"],[0.5,\"#f7f7f7\"],[0.6,\"#e6f5d0\"],[0.7,\"#b8e186\"],[0.8,\"#7fbc41\"],[0.9,\"#4d9221\"],[1,\"#276419\"]]},\"xaxis\":{\"gridcolor\":\"white\",\"linecolor\":\"white\",\"ticks\":\"\",\"title\":{\"standoff\":15},\"zerolinecolor\":\"white\",\"automargin\":true,\"zerolinewidth\":2},\"yaxis\":{\"gridcolor\":\"white\",\"linecolor\":\"white\",\"ticks\":\"\",\"title\":{\"standoff\":15},\"zerolinecolor\":\"white\",\"automargin\":true,\"zerolinewidth\":2},\"scene\":{\"xaxis\":{\"backgroundcolor\":\"#E5ECF6\",\"gridcolor\":\"white\",\"linecolor\":\"white\",\"showbackground\":true,\"ticks\":\"\",\"zerolinecolor\":\"white\",\"gridwidth\":2},\"yaxis\":{\"backgroundcolor\":\"#E5ECF6\",\"gridcolor\":\"white\",\"linecolor\":\"white\",\"showbackground\":true,\"ticks\":\"\",\"zerolinecolor\":\"white\",\"gridwidth\":2},\"zaxis\":{\"backgroundcolor\":\"#E5ECF6\",\"gridcolor\":\"white\",\"linecolor\":\"white\",\"showbackground\":true,\"ticks\":\"\",\"zerolinecolor\":\"white\",\"gridwidth\":2}},\"shapedefaults\":{\"line\":{\"color\":\"#2a3f5f\"}},\"annotationdefaults\":{\"arrowcolor\":\"#2a3f5f\",\"arrowhead\":0,\"arrowwidth\":1},\"geo\":{\"bgcolor\":\"white\",\"landcolor\":\"#E5ECF6\",\"subunitcolor\":\"white\",\"showland\":true,\"showlakes\":true,\"lakecolor\":\"white\"},\"title\":{\"x\":0.05},\"mapbox\":{\"style\":\"light\"}}},\"showlegend\":false},                        {\"responsive\": true}                    ).then(function(){\n",
       "                            \n",
       "var gd = document.getElementById('87331871-e516-4b4f-8378-38f0aea9ba29');\n",
       "var x = new MutationObserver(function (mutations, observer) {{\n",
       "        var display = window.getComputedStyle(gd).display;\n",
       "        if (!display || display === 'none') {{\n",
       "            console.log([gd, 'removed!']);\n",
       "            Plotly.purge(gd);\n",
       "            observer.disconnect();\n",
       "        }}\n",
       "}});\n",
       "\n",
       "// Listen for the removal of the full notebook cells\n",
       "var notebookContainer = gd.closest('#notebook-container');\n",
       "if (notebookContainer) {{\n",
       "    x.observe(notebookContainer, {childList: true});\n",
       "}}\n",
       "\n",
       "// Listen for the clearing of the current output cell\n",
       "var outputEl = gd.closest('.output');\n",
       "if (outputEl) {{\n",
       "    x.observe(outputEl, {childList: true});\n",
       "}}\n",
       "\n",
       "                        })                };                });            </script>        </div>"
      ]
     },
     "metadata": {},
     "output_type": "display_data"
    }
   ],
   "source": [
    "fig = go.Figure()\n",
    "\n",
    "# Додавання першої лінії для heart_rate\n",
    "fig.add_trace(go.Scatter(x=dff['time_only'], y=dff['heart_rate'], mode='lines', name='Heart Rate'))\n",
    "\n",
    "# Додавання другої лінії для heart_rate_rolling_avg\n",
    "fig.add_trace(go.Scatter(x=dff['time_only'], y=dff['heart_rate_rolling_avg'], mode='lines', name='Heart Rate Rolling Avg'))\n",
    "\n",
    "# Вимкнення легенди\n",
    "fig.update_layout(showlegend=False)\n",
    "\n",
    "# Відображення графіку\n",
    "fig.show()\n"
   ]
  },
  {
   "cell_type": "code",
   "execution_count": 54,
   "id": "6850433c",
   "metadata": {},
   "outputs": [
    {
     "data": {
      "application/vnd.plotly.v1+json": {
       "config": {
        "plotlyServerURL": "https://plot.ly"
       },
       "data": [
        {
         "hovertemplate": "time_only=%{x}<br>heart_rate_rolling_avg=%{y}<extra></extra>",
         "legendgroup": "",
         "line": {
          "color": "#636efa",
          "dash": "solid"
         },
         "marker": {
          "symbol": "circle"
         },
         "mode": "lines",
         "name": "",
         "orientation": "v",
         "showlegend": false,
         "type": "scatter",
         "x": [
          "04:08:00",
          "04:08:07",
          "04:08:15",
          "04:08:25",
          "04:08:33",
          "04:08:42",
          "04:08:49",
          "04:08:55",
          "04:09:02",
          "04:09:09",
          "04:09:16",
          "04:09:22",
          "04:09:30",
          "04:09:35",
          "04:09:42",
          "04:09:49",
          "04:09:55",
          "04:10:02",
          "04:10:07",
          "04:10:11",
          "04:10:18",
          "04:10:19",
          "04:10:27",
          "04:10:33",
          "04:10:34",
          "04:10:42",
          "04:10:50",
          "04:10:57",
          "04:11:04",
          "04:11:11",
          "04:11:18",
          "04:11:25",
          "04:11:32",
          "04:11:40",
          "04:11:47",
          "04:11:53",
          "04:12:00",
          "04:12:07",
          "04:12:13",
          "04:12:19",
          "04:12:25",
          "04:12:30",
          "04:12:34",
          "04:12:41",
          "04:12:49",
          "04:12:52",
          "04:12:59",
          "04:13:06",
          "04:13:13",
          "04:13:15",
          "04:13:20",
          "04:13:26",
          "04:13:33",
          "04:13:41",
          "04:13:48",
          "04:13:55",
          "04:14:02",
          "04:14:10",
          "04:14:19",
          "04:14:26",
          "04:14:33",
          "04:14:38",
          "04:14:45",
          "04:14:51",
          "04:14:58"
         ],
         "xaxis": "x",
         "y": [
          154.8,
          155.2,
          156.2,
          156.6,
          156.8,
          157,
          156.6,
          155.8,
          155,
          154.8,
          154.4,
          154.8,
          155.2,
          156.6,
          158,
          159.8,
          160.8,
          161.8,
          161.6,
          161.6,
          161.2,
          161.6,
          162,
          163,
          163.2,
          163.4,
          163.2,
          163.2,
          163.6,
          164.2,
          165,
          165.4,
          165.8,
          165.8,
          165.4,
          165.2,
          165,
          164.4,
          163.6,
          162.8,
          161.8,
          161.6,
          161,
          160.4,
          160.4,
          159.8,
          158.6,
          158,
          157.6,
          157.6,
          157.6,
          157.8,
          157.8,
          157.8,
          157.4,
          157.4,
          157,
          157.2,
          157,
          156.8,
          156.4,
          155.6,
          154.4,
          154.2,
          153.4
         ],
         "yaxis": "y"
        }
       ],
       "layout": {
        "legend": {
         "tracegroupgap": 0
        },
        "margin": {
         "t": 60
        },
        "template": {
         "data": {
          "bar": [
           {
            "error_x": {
             "color": "#2a3f5f"
            },
            "error_y": {
             "color": "#2a3f5f"
            },
            "marker": {
             "line": {
              "color": "#E5ECF6",
              "width": 0.5
             },
             "pattern": {
              "fillmode": "overlay",
              "size": 10,
              "solidity": 0.2
             }
            },
            "type": "bar"
           }
          ],
          "barpolar": [
           {
            "marker": {
             "line": {
              "color": "#E5ECF6",
              "width": 0.5
             },
             "pattern": {
              "fillmode": "overlay",
              "size": 10,
              "solidity": 0.2
             }
            },
            "type": "barpolar"
           }
          ],
          "carpet": [
           {
            "aaxis": {
             "endlinecolor": "#2a3f5f",
             "gridcolor": "white",
             "linecolor": "white",
             "minorgridcolor": "white",
             "startlinecolor": "#2a3f5f"
            },
            "baxis": {
             "endlinecolor": "#2a3f5f",
             "gridcolor": "white",
             "linecolor": "white",
             "minorgridcolor": "white",
             "startlinecolor": "#2a3f5f"
            },
            "type": "carpet"
           }
          ],
          "choropleth": [
           {
            "colorbar": {
             "outlinewidth": 0,
             "ticks": ""
            },
            "type": "choropleth"
           }
          ],
          "contour": [
           {
            "colorbar": {
             "outlinewidth": 0,
             "ticks": ""
            },
            "colorscale": [
             [
              0,
              "#0d0887"
             ],
             [
              0.1111111111111111,
              "#46039f"
             ],
             [
              0.2222222222222222,
              "#7201a8"
             ],
             [
              0.3333333333333333,
              "#9c179e"
             ],
             [
              0.4444444444444444,
              "#bd3786"
             ],
             [
              0.5555555555555556,
              "#d8576b"
             ],
             [
              0.6666666666666666,
              "#ed7953"
             ],
             [
              0.7777777777777778,
              "#fb9f3a"
             ],
             [
              0.8888888888888888,
              "#fdca26"
             ],
             [
              1,
              "#f0f921"
             ]
            ],
            "type": "contour"
           }
          ],
          "contourcarpet": [
           {
            "colorbar": {
             "outlinewidth": 0,
             "ticks": ""
            },
            "type": "contourcarpet"
           }
          ],
          "heatmap": [
           {
            "colorbar": {
             "outlinewidth": 0,
             "ticks": ""
            },
            "colorscale": [
             [
              0,
              "#0d0887"
             ],
             [
              0.1111111111111111,
              "#46039f"
             ],
             [
              0.2222222222222222,
              "#7201a8"
             ],
             [
              0.3333333333333333,
              "#9c179e"
             ],
             [
              0.4444444444444444,
              "#bd3786"
             ],
             [
              0.5555555555555556,
              "#d8576b"
             ],
             [
              0.6666666666666666,
              "#ed7953"
             ],
             [
              0.7777777777777778,
              "#fb9f3a"
             ],
             [
              0.8888888888888888,
              "#fdca26"
             ],
             [
              1,
              "#f0f921"
             ]
            ],
            "type": "heatmap"
           }
          ],
          "heatmapgl": [
           {
            "colorbar": {
             "outlinewidth": 0,
             "ticks": ""
            },
            "colorscale": [
             [
              0,
              "#0d0887"
             ],
             [
              0.1111111111111111,
              "#46039f"
             ],
             [
              0.2222222222222222,
              "#7201a8"
             ],
             [
              0.3333333333333333,
              "#9c179e"
             ],
             [
              0.4444444444444444,
              "#bd3786"
             ],
             [
              0.5555555555555556,
              "#d8576b"
             ],
             [
              0.6666666666666666,
              "#ed7953"
             ],
             [
              0.7777777777777778,
              "#fb9f3a"
             ],
             [
              0.8888888888888888,
              "#fdca26"
             ],
             [
              1,
              "#f0f921"
             ]
            ],
            "type": "heatmapgl"
           }
          ],
          "histogram": [
           {
            "marker": {
             "pattern": {
              "fillmode": "overlay",
              "size": 10,
              "solidity": 0.2
             }
            },
            "type": "histogram"
           }
          ],
          "histogram2d": [
           {
            "colorbar": {
             "outlinewidth": 0,
             "ticks": ""
            },
            "colorscale": [
             [
              0,
              "#0d0887"
             ],
             [
              0.1111111111111111,
              "#46039f"
             ],
             [
              0.2222222222222222,
              "#7201a8"
             ],
             [
              0.3333333333333333,
              "#9c179e"
             ],
             [
              0.4444444444444444,
              "#bd3786"
             ],
             [
              0.5555555555555556,
              "#d8576b"
             ],
             [
              0.6666666666666666,
              "#ed7953"
             ],
             [
              0.7777777777777778,
              "#fb9f3a"
             ],
             [
              0.8888888888888888,
              "#fdca26"
             ],
             [
              1,
              "#f0f921"
             ]
            ],
            "type": "histogram2d"
           }
          ],
          "histogram2dcontour": [
           {
            "colorbar": {
             "outlinewidth": 0,
             "ticks": ""
            },
            "colorscale": [
             [
              0,
              "#0d0887"
             ],
             [
              0.1111111111111111,
              "#46039f"
             ],
             [
              0.2222222222222222,
              "#7201a8"
             ],
             [
              0.3333333333333333,
              "#9c179e"
             ],
             [
              0.4444444444444444,
              "#bd3786"
             ],
             [
              0.5555555555555556,
              "#d8576b"
             ],
             [
              0.6666666666666666,
              "#ed7953"
             ],
             [
              0.7777777777777778,
              "#fb9f3a"
             ],
             [
              0.8888888888888888,
              "#fdca26"
             ],
             [
              1,
              "#f0f921"
             ]
            ],
            "type": "histogram2dcontour"
           }
          ],
          "mesh3d": [
           {
            "colorbar": {
             "outlinewidth": 0,
             "ticks": ""
            },
            "type": "mesh3d"
           }
          ],
          "parcoords": [
           {
            "line": {
             "colorbar": {
              "outlinewidth": 0,
              "ticks": ""
             }
            },
            "type": "parcoords"
           }
          ],
          "pie": [
           {
            "automargin": true,
            "type": "pie"
           }
          ],
          "scatter": [
           {
            "fillpattern": {
             "fillmode": "overlay",
             "size": 10,
             "solidity": 0.2
            },
            "type": "scatter"
           }
          ],
          "scatter3d": [
           {
            "line": {
             "colorbar": {
              "outlinewidth": 0,
              "ticks": ""
             }
            },
            "marker": {
             "colorbar": {
              "outlinewidth": 0,
              "ticks": ""
             }
            },
            "type": "scatter3d"
           }
          ],
          "scattercarpet": [
           {
            "marker": {
             "colorbar": {
              "outlinewidth": 0,
              "ticks": ""
             }
            },
            "type": "scattercarpet"
           }
          ],
          "scattergeo": [
           {
            "marker": {
             "colorbar": {
              "outlinewidth": 0,
              "ticks": ""
             }
            },
            "type": "scattergeo"
           }
          ],
          "scattergl": [
           {
            "marker": {
             "colorbar": {
              "outlinewidth": 0,
              "ticks": ""
             }
            },
            "type": "scattergl"
           }
          ],
          "scattermapbox": [
           {
            "marker": {
             "colorbar": {
              "outlinewidth": 0,
              "ticks": ""
             }
            },
            "type": "scattermapbox"
           }
          ],
          "scatterpolar": [
           {
            "marker": {
             "colorbar": {
              "outlinewidth": 0,
              "ticks": ""
             }
            },
            "type": "scatterpolar"
           }
          ],
          "scatterpolargl": [
           {
            "marker": {
             "colorbar": {
              "outlinewidth": 0,
              "ticks": ""
             }
            },
            "type": "scatterpolargl"
           }
          ],
          "scatterternary": [
           {
            "marker": {
             "colorbar": {
              "outlinewidth": 0,
              "ticks": ""
             }
            },
            "type": "scatterternary"
           }
          ],
          "surface": [
           {
            "colorbar": {
             "outlinewidth": 0,
             "ticks": ""
            },
            "colorscale": [
             [
              0,
              "#0d0887"
             ],
             [
              0.1111111111111111,
              "#46039f"
             ],
             [
              0.2222222222222222,
              "#7201a8"
             ],
             [
              0.3333333333333333,
              "#9c179e"
             ],
             [
              0.4444444444444444,
              "#bd3786"
             ],
             [
              0.5555555555555556,
              "#d8576b"
             ],
             [
              0.6666666666666666,
              "#ed7953"
             ],
             [
              0.7777777777777778,
              "#fb9f3a"
             ],
             [
              0.8888888888888888,
              "#fdca26"
             ],
             [
              1,
              "#f0f921"
             ]
            ],
            "type": "surface"
           }
          ],
          "table": [
           {
            "cells": {
             "fill": {
              "color": "#EBF0F8"
             },
             "line": {
              "color": "white"
             }
            },
            "header": {
             "fill": {
              "color": "#C8D4E3"
             },
             "line": {
              "color": "white"
             }
            },
            "type": "table"
           }
          ]
         },
         "layout": {
          "annotationdefaults": {
           "arrowcolor": "#2a3f5f",
           "arrowhead": 0,
           "arrowwidth": 1
          },
          "autotypenumbers": "strict",
          "coloraxis": {
           "colorbar": {
            "outlinewidth": 0,
            "ticks": ""
           }
          },
          "colorscale": {
           "diverging": [
            [
             0,
             "#8e0152"
            ],
            [
             0.1,
             "#c51b7d"
            ],
            [
             0.2,
             "#de77ae"
            ],
            [
             0.3,
             "#f1b6da"
            ],
            [
             0.4,
             "#fde0ef"
            ],
            [
             0.5,
             "#f7f7f7"
            ],
            [
             0.6,
             "#e6f5d0"
            ],
            [
             0.7,
             "#b8e186"
            ],
            [
             0.8,
             "#7fbc41"
            ],
            [
             0.9,
             "#4d9221"
            ],
            [
             1,
             "#276419"
            ]
           ],
           "sequential": [
            [
             0,
             "#0d0887"
            ],
            [
             0.1111111111111111,
             "#46039f"
            ],
            [
             0.2222222222222222,
             "#7201a8"
            ],
            [
             0.3333333333333333,
             "#9c179e"
            ],
            [
             0.4444444444444444,
             "#bd3786"
            ],
            [
             0.5555555555555556,
             "#d8576b"
            ],
            [
             0.6666666666666666,
             "#ed7953"
            ],
            [
             0.7777777777777778,
             "#fb9f3a"
            ],
            [
             0.8888888888888888,
             "#fdca26"
            ],
            [
             1,
             "#f0f921"
            ]
           ],
           "sequentialminus": [
            [
             0,
             "#0d0887"
            ],
            [
             0.1111111111111111,
             "#46039f"
            ],
            [
             0.2222222222222222,
             "#7201a8"
            ],
            [
             0.3333333333333333,
             "#9c179e"
            ],
            [
             0.4444444444444444,
             "#bd3786"
            ],
            [
             0.5555555555555556,
             "#d8576b"
            ],
            [
             0.6666666666666666,
             "#ed7953"
            ],
            [
             0.7777777777777778,
             "#fb9f3a"
            ],
            [
             0.8888888888888888,
             "#fdca26"
            ],
            [
             1,
             "#f0f921"
            ]
           ]
          },
          "colorway": [
           "#636efa",
           "#EF553B",
           "#00cc96",
           "#ab63fa",
           "#FFA15A",
           "#19d3f3",
           "#FF6692",
           "#B6E880",
           "#FF97FF",
           "#FECB52"
          ],
          "font": {
           "color": "#2a3f5f"
          },
          "geo": {
           "bgcolor": "white",
           "lakecolor": "white",
           "landcolor": "#E5ECF6",
           "showlakes": true,
           "showland": true,
           "subunitcolor": "white"
          },
          "hoverlabel": {
           "align": "left"
          },
          "hovermode": "closest",
          "mapbox": {
           "style": "light"
          },
          "paper_bgcolor": "white",
          "plot_bgcolor": "#E5ECF6",
          "polar": {
           "angularaxis": {
            "gridcolor": "white",
            "linecolor": "white",
            "ticks": ""
           },
           "bgcolor": "#E5ECF6",
           "radialaxis": {
            "gridcolor": "white",
            "linecolor": "white",
            "ticks": ""
           }
          },
          "scene": {
           "xaxis": {
            "backgroundcolor": "#E5ECF6",
            "gridcolor": "white",
            "gridwidth": 2,
            "linecolor": "white",
            "showbackground": true,
            "ticks": "",
            "zerolinecolor": "white"
           },
           "yaxis": {
            "backgroundcolor": "#E5ECF6",
            "gridcolor": "white",
            "gridwidth": 2,
            "linecolor": "white",
            "showbackground": true,
            "ticks": "",
            "zerolinecolor": "white"
           },
           "zaxis": {
            "backgroundcolor": "#E5ECF6",
            "gridcolor": "white",
            "gridwidth": 2,
            "linecolor": "white",
            "showbackground": true,
            "ticks": "",
            "zerolinecolor": "white"
           }
          },
          "shapedefaults": {
           "line": {
            "color": "#2a3f5f"
           }
          },
          "ternary": {
           "aaxis": {
            "gridcolor": "white",
            "linecolor": "white",
            "ticks": ""
           },
           "baxis": {
            "gridcolor": "white",
            "linecolor": "white",
            "ticks": ""
           },
           "bgcolor": "#E5ECF6",
           "caxis": {
            "gridcolor": "white",
            "linecolor": "white",
            "ticks": ""
           }
          },
          "title": {
           "x": 0.05
          },
          "xaxis": {
           "automargin": true,
           "gridcolor": "white",
           "linecolor": "white",
           "ticks": "",
           "title": {
            "standoff": 15
           },
           "zerolinecolor": "white",
           "zerolinewidth": 2
          },
          "yaxis": {
           "automargin": true,
           "gridcolor": "white",
           "linecolor": "white",
           "ticks": "",
           "title": {
            "standoff": 15
           },
           "zerolinecolor": "white",
           "zerolinewidth": 2
          }
         }
        },
        "xaxis": {
         "anchor": "y",
         "domain": [
          0,
          1
         ],
         "title": {
          "text": "time_only"
         }
        },
        "yaxis": {
         "anchor": "x",
         "domain": [
          0,
          1
         ],
         "title": {
          "text": "heart_rate_rolling_avg"
         }
        }
       }
      },
      "text/html": [
       "<div>                            <div id=\"07a3360c-fdd9-4f00-a0c3-4a634d748065\" class=\"plotly-graph-div\" style=\"height:525px; width:100%;\"></div>            <script type=\"text/javascript\">                require([\"plotly\"], function(Plotly) {                    window.PLOTLYENV=window.PLOTLYENV || {};                                    if (document.getElementById(\"07a3360c-fdd9-4f00-a0c3-4a634d748065\")) {                    Plotly.newPlot(                        \"07a3360c-fdd9-4f00-a0c3-4a634d748065\",                        [{\"hovertemplate\":\"time_only=%{x}<br>heart_rate_rolling_avg=%{y}<extra></extra>\",\"legendgroup\":\"\",\"line\":{\"color\":\"#636efa\",\"dash\":\"solid\"},\"marker\":{\"symbol\":\"circle\"},\"mode\":\"lines\",\"name\":\"\",\"orientation\":\"v\",\"showlegend\":false,\"x\":[\"04:08:00\",\"04:08:07\",\"04:08:15\",\"04:08:25\",\"04:08:33\",\"04:08:42\",\"04:08:49\",\"04:08:55\",\"04:09:02\",\"04:09:09\",\"04:09:16\",\"04:09:22\",\"04:09:30\",\"04:09:35\",\"04:09:42\",\"04:09:49\",\"04:09:55\",\"04:10:02\",\"04:10:07\",\"04:10:11\",\"04:10:18\",\"04:10:19\",\"04:10:27\",\"04:10:33\",\"04:10:34\",\"04:10:42\",\"04:10:50\",\"04:10:57\",\"04:11:04\",\"04:11:11\",\"04:11:18\",\"04:11:25\",\"04:11:32\",\"04:11:40\",\"04:11:47\",\"04:11:53\",\"04:12:00\",\"04:12:07\",\"04:12:13\",\"04:12:19\",\"04:12:25\",\"04:12:30\",\"04:12:34\",\"04:12:41\",\"04:12:49\",\"04:12:52\",\"04:12:59\",\"04:13:06\",\"04:13:13\",\"04:13:15\",\"04:13:20\",\"04:13:26\",\"04:13:33\",\"04:13:41\",\"04:13:48\",\"04:13:55\",\"04:14:02\",\"04:14:10\",\"04:14:19\",\"04:14:26\",\"04:14:33\",\"04:14:38\",\"04:14:45\",\"04:14:51\",\"04:14:58\"],\"xaxis\":\"x\",\"y\":[154.8,155.2,156.2,156.6,156.8,157.0,156.6,155.8,155.0,154.8,154.4,154.8,155.2,156.6,158.0,159.8,160.8,161.8,161.6,161.6,161.2,161.6,162.0,163.0,163.2,163.4,163.2,163.2,163.6,164.2,165.0,165.4,165.8,165.8,165.4,165.2,165.0,164.4,163.6,162.8,161.8,161.6,161.0,160.4,160.4,159.8,158.6,158.0,157.6,157.6,157.6,157.8,157.8,157.8,157.4,157.4,157.0,157.2,157.0,156.8,156.4,155.6,154.4,154.2,153.4],\"yaxis\":\"y\",\"type\":\"scatter\"}],                        {\"template\":{\"data\":{\"histogram2dcontour\":[{\"type\":\"histogram2dcontour\",\"colorbar\":{\"outlinewidth\":0,\"ticks\":\"\"},\"colorscale\":[[0.0,\"#0d0887\"],[0.1111111111111111,\"#46039f\"],[0.2222222222222222,\"#7201a8\"],[0.3333333333333333,\"#9c179e\"],[0.4444444444444444,\"#bd3786\"],[0.5555555555555556,\"#d8576b\"],[0.6666666666666666,\"#ed7953\"],[0.7777777777777778,\"#fb9f3a\"],[0.8888888888888888,\"#fdca26\"],[1.0,\"#f0f921\"]]}],\"choropleth\":[{\"type\":\"choropleth\",\"colorbar\":{\"outlinewidth\":0,\"ticks\":\"\"}}],\"histogram2d\":[{\"type\":\"histogram2d\",\"colorbar\":{\"outlinewidth\":0,\"ticks\":\"\"},\"colorscale\":[[0.0,\"#0d0887\"],[0.1111111111111111,\"#46039f\"],[0.2222222222222222,\"#7201a8\"],[0.3333333333333333,\"#9c179e\"],[0.4444444444444444,\"#bd3786\"],[0.5555555555555556,\"#d8576b\"],[0.6666666666666666,\"#ed7953\"],[0.7777777777777778,\"#fb9f3a\"],[0.8888888888888888,\"#fdca26\"],[1.0,\"#f0f921\"]]}],\"heatmap\":[{\"type\":\"heatmap\",\"colorbar\":{\"outlinewidth\":0,\"ticks\":\"\"},\"colorscale\":[[0.0,\"#0d0887\"],[0.1111111111111111,\"#46039f\"],[0.2222222222222222,\"#7201a8\"],[0.3333333333333333,\"#9c179e\"],[0.4444444444444444,\"#bd3786\"],[0.5555555555555556,\"#d8576b\"],[0.6666666666666666,\"#ed7953\"],[0.7777777777777778,\"#fb9f3a\"],[0.8888888888888888,\"#fdca26\"],[1.0,\"#f0f921\"]]}],\"heatmapgl\":[{\"type\":\"heatmapgl\",\"colorbar\":{\"outlinewidth\":0,\"ticks\":\"\"},\"colorscale\":[[0.0,\"#0d0887\"],[0.1111111111111111,\"#46039f\"],[0.2222222222222222,\"#7201a8\"],[0.3333333333333333,\"#9c179e\"],[0.4444444444444444,\"#bd3786\"],[0.5555555555555556,\"#d8576b\"],[0.6666666666666666,\"#ed7953\"],[0.7777777777777778,\"#fb9f3a\"],[0.8888888888888888,\"#fdca26\"],[1.0,\"#f0f921\"]]}],\"contourcarpet\":[{\"type\":\"contourcarpet\",\"colorbar\":{\"outlinewidth\":0,\"ticks\":\"\"}}],\"contour\":[{\"type\":\"contour\",\"colorbar\":{\"outlinewidth\":0,\"ticks\":\"\"},\"colorscale\":[[0.0,\"#0d0887\"],[0.1111111111111111,\"#46039f\"],[0.2222222222222222,\"#7201a8\"],[0.3333333333333333,\"#9c179e\"],[0.4444444444444444,\"#bd3786\"],[0.5555555555555556,\"#d8576b\"],[0.6666666666666666,\"#ed7953\"],[0.7777777777777778,\"#fb9f3a\"],[0.8888888888888888,\"#fdca26\"],[1.0,\"#f0f921\"]]}],\"surface\":[{\"type\":\"surface\",\"colorbar\":{\"outlinewidth\":0,\"ticks\":\"\"},\"colorscale\":[[0.0,\"#0d0887\"],[0.1111111111111111,\"#46039f\"],[0.2222222222222222,\"#7201a8\"],[0.3333333333333333,\"#9c179e\"],[0.4444444444444444,\"#bd3786\"],[0.5555555555555556,\"#d8576b\"],[0.6666666666666666,\"#ed7953\"],[0.7777777777777778,\"#fb9f3a\"],[0.8888888888888888,\"#fdca26\"],[1.0,\"#f0f921\"]]}],\"mesh3d\":[{\"type\":\"mesh3d\",\"colorbar\":{\"outlinewidth\":0,\"ticks\":\"\"}}],\"scatter\":[{\"fillpattern\":{\"fillmode\":\"overlay\",\"size\":10,\"solidity\":0.2},\"type\":\"scatter\"}],\"parcoords\":[{\"type\":\"parcoords\",\"line\":{\"colorbar\":{\"outlinewidth\":0,\"ticks\":\"\"}}}],\"scatterpolargl\":[{\"type\":\"scatterpolargl\",\"marker\":{\"colorbar\":{\"outlinewidth\":0,\"ticks\":\"\"}}}],\"bar\":[{\"error_x\":{\"color\":\"#2a3f5f\"},\"error_y\":{\"color\":\"#2a3f5f\"},\"marker\":{\"line\":{\"color\":\"#E5ECF6\",\"width\":0.5},\"pattern\":{\"fillmode\":\"overlay\",\"size\":10,\"solidity\":0.2}},\"type\":\"bar\"}],\"scattergeo\":[{\"type\":\"scattergeo\",\"marker\":{\"colorbar\":{\"outlinewidth\":0,\"ticks\":\"\"}}}],\"scatterpolar\":[{\"type\":\"scatterpolar\",\"marker\":{\"colorbar\":{\"outlinewidth\":0,\"ticks\":\"\"}}}],\"histogram\":[{\"marker\":{\"pattern\":{\"fillmode\":\"overlay\",\"size\":10,\"solidity\":0.2}},\"type\":\"histogram\"}],\"scattergl\":[{\"type\":\"scattergl\",\"marker\":{\"colorbar\":{\"outlinewidth\":0,\"ticks\":\"\"}}}],\"scatter3d\":[{\"type\":\"scatter3d\",\"line\":{\"colorbar\":{\"outlinewidth\":0,\"ticks\":\"\"}},\"marker\":{\"colorbar\":{\"outlinewidth\":0,\"ticks\":\"\"}}}],\"scattermapbox\":[{\"type\":\"scattermapbox\",\"marker\":{\"colorbar\":{\"outlinewidth\":0,\"ticks\":\"\"}}}],\"scatterternary\":[{\"type\":\"scatterternary\",\"marker\":{\"colorbar\":{\"outlinewidth\":0,\"ticks\":\"\"}}}],\"scattercarpet\":[{\"type\":\"scattercarpet\",\"marker\":{\"colorbar\":{\"outlinewidth\":0,\"ticks\":\"\"}}}],\"carpet\":[{\"aaxis\":{\"endlinecolor\":\"#2a3f5f\",\"gridcolor\":\"white\",\"linecolor\":\"white\",\"minorgridcolor\":\"white\",\"startlinecolor\":\"#2a3f5f\"},\"baxis\":{\"endlinecolor\":\"#2a3f5f\",\"gridcolor\":\"white\",\"linecolor\":\"white\",\"minorgridcolor\":\"white\",\"startlinecolor\":\"#2a3f5f\"},\"type\":\"carpet\"}],\"table\":[{\"cells\":{\"fill\":{\"color\":\"#EBF0F8\"},\"line\":{\"color\":\"white\"}},\"header\":{\"fill\":{\"color\":\"#C8D4E3\"},\"line\":{\"color\":\"white\"}},\"type\":\"table\"}],\"barpolar\":[{\"marker\":{\"line\":{\"color\":\"#E5ECF6\",\"width\":0.5},\"pattern\":{\"fillmode\":\"overlay\",\"size\":10,\"solidity\":0.2}},\"type\":\"barpolar\"}],\"pie\":[{\"automargin\":true,\"type\":\"pie\"}]},\"layout\":{\"autotypenumbers\":\"strict\",\"colorway\":[\"#636efa\",\"#EF553B\",\"#00cc96\",\"#ab63fa\",\"#FFA15A\",\"#19d3f3\",\"#FF6692\",\"#B6E880\",\"#FF97FF\",\"#FECB52\"],\"font\":{\"color\":\"#2a3f5f\"},\"hovermode\":\"closest\",\"hoverlabel\":{\"align\":\"left\"},\"paper_bgcolor\":\"white\",\"plot_bgcolor\":\"#E5ECF6\",\"polar\":{\"bgcolor\":\"#E5ECF6\",\"angularaxis\":{\"gridcolor\":\"white\",\"linecolor\":\"white\",\"ticks\":\"\"},\"radialaxis\":{\"gridcolor\":\"white\",\"linecolor\":\"white\",\"ticks\":\"\"}},\"ternary\":{\"bgcolor\":\"#E5ECF6\",\"aaxis\":{\"gridcolor\":\"white\",\"linecolor\":\"white\",\"ticks\":\"\"},\"baxis\":{\"gridcolor\":\"white\",\"linecolor\":\"white\",\"ticks\":\"\"},\"caxis\":{\"gridcolor\":\"white\",\"linecolor\":\"white\",\"ticks\":\"\"}},\"coloraxis\":{\"colorbar\":{\"outlinewidth\":0,\"ticks\":\"\"}},\"colorscale\":{\"sequential\":[[0.0,\"#0d0887\"],[0.1111111111111111,\"#46039f\"],[0.2222222222222222,\"#7201a8\"],[0.3333333333333333,\"#9c179e\"],[0.4444444444444444,\"#bd3786\"],[0.5555555555555556,\"#d8576b\"],[0.6666666666666666,\"#ed7953\"],[0.7777777777777778,\"#fb9f3a\"],[0.8888888888888888,\"#fdca26\"],[1.0,\"#f0f921\"]],\"sequentialminus\":[[0.0,\"#0d0887\"],[0.1111111111111111,\"#46039f\"],[0.2222222222222222,\"#7201a8\"],[0.3333333333333333,\"#9c179e\"],[0.4444444444444444,\"#bd3786\"],[0.5555555555555556,\"#d8576b\"],[0.6666666666666666,\"#ed7953\"],[0.7777777777777778,\"#fb9f3a\"],[0.8888888888888888,\"#fdca26\"],[1.0,\"#f0f921\"]],\"diverging\":[[0,\"#8e0152\"],[0.1,\"#c51b7d\"],[0.2,\"#de77ae\"],[0.3,\"#f1b6da\"],[0.4,\"#fde0ef\"],[0.5,\"#f7f7f7\"],[0.6,\"#e6f5d0\"],[0.7,\"#b8e186\"],[0.8,\"#7fbc41\"],[0.9,\"#4d9221\"],[1,\"#276419\"]]},\"xaxis\":{\"gridcolor\":\"white\",\"linecolor\":\"white\",\"ticks\":\"\",\"title\":{\"standoff\":15},\"zerolinecolor\":\"white\",\"automargin\":true,\"zerolinewidth\":2},\"yaxis\":{\"gridcolor\":\"white\",\"linecolor\":\"white\",\"ticks\":\"\",\"title\":{\"standoff\":15},\"zerolinecolor\":\"white\",\"automargin\":true,\"zerolinewidth\":2},\"scene\":{\"xaxis\":{\"backgroundcolor\":\"#E5ECF6\",\"gridcolor\":\"white\",\"linecolor\":\"white\",\"showbackground\":true,\"ticks\":\"\",\"zerolinecolor\":\"white\",\"gridwidth\":2},\"yaxis\":{\"backgroundcolor\":\"#E5ECF6\",\"gridcolor\":\"white\",\"linecolor\":\"white\",\"showbackground\":true,\"ticks\":\"\",\"zerolinecolor\":\"white\",\"gridwidth\":2},\"zaxis\":{\"backgroundcolor\":\"#E5ECF6\",\"gridcolor\":\"white\",\"linecolor\":\"white\",\"showbackground\":true,\"ticks\":\"\",\"zerolinecolor\":\"white\",\"gridwidth\":2}},\"shapedefaults\":{\"line\":{\"color\":\"#2a3f5f\"}},\"annotationdefaults\":{\"arrowcolor\":\"#2a3f5f\",\"arrowhead\":0,\"arrowwidth\":1},\"geo\":{\"bgcolor\":\"white\",\"landcolor\":\"#E5ECF6\",\"subunitcolor\":\"white\",\"showland\":true,\"showlakes\":true,\"lakecolor\":\"white\"},\"title\":{\"x\":0.05},\"mapbox\":{\"style\":\"light\"}}},\"xaxis\":{\"anchor\":\"y\",\"domain\":[0.0,1.0],\"title\":{\"text\":\"time_only\"}},\"yaxis\":{\"anchor\":\"x\",\"domain\":[0.0,1.0],\"title\":{\"text\":\"heart_rate_rolling_avg\"}},\"legend\":{\"tracegroupgap\":0},\"margin\":{\"t\":60}},                        {\"responsive\": true}                    ).then(function(){\n",
       "                            \n",
       "var gd = document.getElementById('07a3360c-fdd9-4f00-a0c3-4a634d748065');\n",
       "var x = new MutationObserver(function (mutations, observer) {{\n",
       "        var display = window.getComputedStyle(gd).display;\n",
       "        if (!display || display === 'none') {{\n",
       "            console.log([gd, 'removed!']);\n",
       "            Plotly.purge(gd);\n",
       "            observer.disconnect();\n",
       "        }}\n",
       "}});\n",
       "\n",
       "// Listen for the removal of the full notebook cells\n",
       "var notebookContainer = gd.closest('#notebook-container');\n",
       "if (notebookContainer) {{\n",
       "    x.observe(notebookContainer, {childList: true});\n",
       "}}\n",
       "\n",
       "// Listen for the clearing of the current output cell\n",
       "var outputEl = gd.closest('.output');\n",
       "if (outputEl) {{\n",
       "    x.observe(outputEl, {childList: true});\n",
       "}}\n",
       "\n",
       "                        })                };                });            </script>        </div>"
      ]
     },
     "metadata": {},
     "output_type": "display_data"
    }
   ],
   "source": [
    "fig = px.line(dff, x=\"time_only\", y=\"heart_rate_rolling_avg\")\n",
    "fig.show()"
   ]
  },
  {
   "cell_type": "code",
   "execution_count": 55,
   "id": "d975ecbd",
   "metadata": {},
   "outputs": [
    {
     "name": "stdout",
     "output_type": "stream",
     "text": [
      "{'cadence': 0, 'distance': 0.0, 'enhanced_speed': 0.0, 'fractional_cadence': 0.0, 'heart_rate': 75, 'speed': 0.0, 'timestamp': datetime.datetime(2024, 9, 11, 3, 28, 14)}\n",
      "{'cadence': 61, 'distance': 0.0, 'enhanced_speed': 0.0, 'fractional_cadence': 0.5, 'heart_rate': 75, 'speed': 0.0, 'timestamp': datetime.datetime(2024, 9, 11, 3, 28, 15)}\n",
      "{'cadence': 61, 'distance': 8.13, 'enhanced_speed': 1.577, 'fractional_cadence': 0.5, 'heart_rate': 78, 'speed': 1.577, 'timestamp': datetime.datetime(2024, 9, 11, 3, 28, 21)}\n",
      "{'cadence': 74, 'distance': 11.23, 'enhanced_speed': 1.54, 'fractional_cadence': 0.0, 'heart_rate': 81, 'speed': 1.54, 'timestamp': datetime.datetime(2024, 9, 11, 3, 28, 23)}\n",
      "{'cadence': 75, 'distance': 15.97, 'enhanced_speed': 1.633, 'fractional_cadence': 0.5, 'heart_rate': 85, 'speed': 1.633, 'timestamp': datetime.datetime(2024, 9, 11, 3, 28, 26)}\n",
      "{'cadence': 78, 'distance': 21.22, 'enhanced_speed': 1.773, 'fractional_cadence': 0.0, 'heart_rate': 88, 'speed': 1.773, 'timestamp': datetime.datetime(2024, 9, 11, 3, 28, 30)}\n",
      "{'altitude': 171.0, 'cadence': 79, 'distance': 26.68, 'enhanced_altitude': 171.0, 'enhanced_speed': 1.847, 'fractional_cadence': 0.0, 'heart_rate': 93, 'position_lat': 601734286, 'position_long': 362431693, 'speed': 1.847, 'timestamp': datetime.datetime(2024, 9, 11, 3, 28, 33)}\n",
      "{'altitude': 173.0, 'cadence': 79, 'distance': 30.9, 'enhanced_altitude': 173.0, 'enhanced_speed': 1.885, 'fractional_cadence': 0.0, 'heart_rate': 96, 'position_lat': 601734845, 'position_long': 362431002, 'speed': 1.885, 'timestamp': datetime.datetime(2024, 9, 11, 3, 28, 36)}\n",
      "{'altitude': 174.39999999999998, 'cadence': 78, 'distance': 51.32, 'enhanced_altitude': 174.39999999999998, 'enhanced_speed': 1.931, 'fractional_cadence': 0.0, 'heart_rate': 98, 'position_lat': 601736826, 'position_long': 362429564, 'speed': 1.931, 'timestamp': datetime.datetime(2024, 9, 11, 3, 28, 46)}\n",
      "{'altitude': 175.0, 'cadence': 79, 'distance': 69.67, 'enhanced_altitude': 175.0, 'enhanced_speed': 1.959, 'fractional_cadence': 0.0, 'heart_rate': 95, 'position_lat': 601738603, 'position_long': 362428223, 'speed': 1.959, 'timestamp': datetime.datetime(2024, 9, 11, 3, 28, 55)}\n",
      "{'altitude': 174.0, 'cadence': 78, 'distance': 83.7, 'enhanced_altitude': 174.0, 'enhanced_speed': 1.987, 'fractional_cadence': 0.5, 'heart_rate': 98, 'position_lat': 601739986, 'position_long': 362427299, 'speed': 1.987, 'timestamp': datetime.datetime(2024, 9, 11, 3, 29, 4)}\n",
      "{'altitude': 175.20000000000005, 'cadence': 78, 'distance': 89.46, 'enhanced_altitude': 175.20000000000005, 'enhanced_speed': 1.969, 'fractional_cadence': 0.5, 'heart_rate': 101, 'position_lat': 601740564, 'position_long': 362426957, 'speed': 1.969, 'timestamp': datetime.datetime(2024, 9, 11, 3, 29, 7)}\n",
      "{'altitude': 181.60000000000002, 'cadence': 78, 'distance': 110.29, 'enhanced_altitude': 181.60000000000002, 'enhanced_speed': 2.034, 'fractional_cadence': 0.0, 'heart_rate': 103, 'position_lat': 601742141, 'position_long': 362423932, 'speed': 2.034, 'timestamp': datetime.datetime(2024, 9, 11, 3, 29, 17)}\n",
      "{'altitude': 185.60000000000002, 'cadence': 79, 'distance': 131.63, 'enhanced_altitude': 185.60000000000002, 'enhanced_speed': 2.062, 'fractional_cadence': 0.0, 'heart_rate': 104, 'position_lat': 601743951, 'position_long': 362421418, 'speed': 2.062, 'timestamp': datetime.datetime(2024, 9, 11, 3, 29, 27)}\n",
      "{'altitude': 185.60000000000002, 'cadence': 79, 'distance': 152.77, 'enhanced_altitude': 185.60000000000002, 'enhanced_speed': 2.09, 'fractional_cadence': 0.0, 'heart_rate': 105, 'position_lat': 601745941, 'position_long': 362419711, 'speed': 2.09, 'timestamp': datetime.datetime(2024, 9, 11, 3, 29, 37)}\n",
      "{'altitude': 185.39999999999998, 'cadence': 80, 'distance': 159.28, 'enhanced_altitude': 185.39999999999998, 'enhanced_speed': 2.09, 'fractional_cadence': 0.0, 'heart_rate': 108, 'position_lat': 601746605, 'position_long': 362419364, 'speed': 2.09, 'timestamp': datetime.datetime(2024, 9, 11, 3, 29, 40)}\n",
      "{'altitude': 184.0, 'cadence': 80, 'distance': 178.17, 'enhanced_altitude': 184.0, 'enhanced_speed': 2.09, 'fractional_cadence': 0.0, 'heart_rate': 105, 'position_lat': 601748755, 'position_long': 362419928, 'speed': 2.09, 'timestamp': datetime.datetime(2024, 9, 11, 3, 29, 49)}\n",
      "{'altitude': 181.0, 'cadence': 80, 'distance': 199.37, 'enhanced_altitude': 181.0, 'enhanced_speed': 2.127, 'fractional_cadence': 0.5, 'heart_rate': 107, 'position_lat': 601751229, 'position_long': 362420204, 'speed': 2.127, 'timestamp': datetime.datetime(2024, 9, 11, 3, 29, 59)}\n",
      "{'altitude': 180.79999999999995, 'cadence': 80, 'distance': 213.82, 'enhanced_altitude': 180.79999999999995, 'enhanced_speed': 2.118, 'fractional_cadence': 0.0, 'heart_rate': 110, 'position_lat': 601752694, 'position_long': 362419386, 'speed': 2.118, 'timestamp': datetime.datetime(2024, 9, 11, 3, 30, 6)}\n",
      "{'altitude': 180.60000000000002, 'cadence': 79, 'distance': 234.17, 'enhanced_altitude': 180.60000000000002, 'enhanced_speed': 2.118, 'fractional_cadence': 0.0, 'heart_rate': 110, 'position_lat': 601754730, 'position_long': 362418197, 'speed': 2.118, 'timestamp': datetime.datetime(2024, 9, 11, 3, 30, 16)}\n",
      "{'altitude': 181.0, 'cadence': 80, 'distance': 254.31, 'enhanced_altitude': 181.0, 'enhanced_speed': 2.099, 'fractional_cadence': 0.0, 'heart_rate': 109, 'position_lat': 601756671, 'position_long': 362416729, 'speed': 2.099, 'timestamp': datetime.datetime(2024, 9, 11, 3, 30, 26)}\n",
      "{'altitude': 182.0, 'cadence': 79, 'distance': 275.04, 'enhanced_altitude': 182.0, 'enhanced_speed': 2.071, 'fractional_cadence': 0.0, 'heart_rate': 109, 'position_lat': 601758656, 'position_long': 362415151, 'speed': 2.071, 'timestamp': datetime.datetime(2024, 9, 11, 3, 30, 37)}\n",
      "{'altitude': 183.39999999999998, 'cadence': 79, 'distance': 295.59, 'enhanced_altitude': 183.39999999999998, 'enhanced_speed': 2.062, 'fractional_cadence': 0.0, 'heart_rate': 110, 'position_lat': 601760820, 'position_long': 362414347, 'speed': 2.062, 'timestamp': datetime.datetime(2024, 9, 11, 3, 30, 47)}\n",
      "{'altitude': 181.0, 'cadence': 80, 'distance': 317.55, 'enhanced_altitude': 181.0, 'enhanced_speed': 2.099, 'fractional_cadence': 0.0, 'heart_rate': 110, 'position_lat': 601763108, 'position_long': 362413467, 'speed': 2.099, 'timestamp': datetime.datetime(2024, 9, 11, 3, 30, 56)}\n",
      "{'altitude': 180.60000000000002, 'cadence': 80, 'distance': 338.12, 'enhanced_altitude': 180.60000000000002, 'enhanced_speed': 2.099, 'fractional_cadence': 0.5, 'heart_rate': 108, 'position_lat': 601765049, 'position_long': 362411830, 'speed': 2.099, 'timestamp': datetime.datetime(2024, 9, 11, 3, 31, 6)}\n",
      "{'altitude': 181.20000000000005, 'cadence': 82, 'distance': 348.51, 'enhanced_altitude': 181.20000000000005, 'enhanced_speed': 2.109, 'fractional_cadence': 0.5, 'heart_rate': 111, 'position_lat': 601766056, 'position_long': 362411079, 'speed': 2.109, 'timestamp': datetime.datetime(2024, 9, 11, 3, 31, 11)}\n",
      "{'altitude': 182.20000000000005, 'cadence': 78, 'distance': 364.96, 'enhanced_altitude': 182.20000000000005, 'enhanced_speed': 2.053, 'fractional_cadence': 0.5, 'heart_rate': 111, 'position_lat': 601767655, 'position_long': 362410040, 'speed': 2.053, 'timestamp': datetime.datetime(2024, 9, 11, 3, 31, 20)}\n",
      "{'altitude': 181.39999999999998, 'cadence': 79, 'distance': 385.48, 'enhanced_altitude': 181.39999999999998, 'enhanced_speed': 2.025, 'fractional_cadence': 0.5, 'heart_rate': 112, 'position_lat': 601766510, 'position_long': 362407203, 'speed': 2.025, 'timestamp': datetime.datetime(2024, 9, 11, 3, 31, 30)}\n",
      "{'altitude': 179.60000000000002, 'cadence': 79, 'distance': 406.87, 'enhanced_altitude': 179.60000000000002, 'enhanced_speed': 2.062, 'fractional_cadence': 0.5, 'heart_rate': 114, 'position_lat': 601765154, 'position_long': 362404319, 'speed': 2.062, 'timestamp': datetime.datetime(2024, 9, 11, 3, 31, 40)}\n",
      "{'altitude': 179.0, 'cadence': 79, 'distance': 428.17, 'enhanced_altitude': 179.0, 'enhanced_speed': 2.081, 'fractional_cadence': 0.5, 'heart_rate': 114, 'position_lat': 601764180, 'position_long': 362401096, 'speed': 2.081, 'timestamp': datetime.datetime(2024, 9, 11, 3, 31, 50)}\n",
      "{'altitude': 178.60000000000002, 'cadence': 80, 'distance': 449.15, 'enhanced_altitude': 178.60000000000002, 'enhanced_speed': 2.099, 'fractional_cadence': 0.0, 'heart_rate': 115, 'position_lat': 601763338, 'position_long': 362397842, 'speed': 2.099, 'timestamp': datetime.datetime(2024, 9, 11, 3, 32)}\n",
      "{'altitude': 178.20000000000005, 'cadence': 81, 'distance': 469.61, 'enhanced_altitude': 178.20000000000005, 'enhanced_speed': 2.099, 'fractional_cadence': 0.0, 'heart_rate': 115, 'position_lat': 601762726, 'position_long': 362394543, 'speed': 2.099, 'timestamp': datetime.datetime(2024, 9, 11, 3, 32, 9)}\n",
      "{'altitude': 177.39999999999998, 'cadence': 81, 'distance': 490.53, 'enhanced_altitude': 177.39999999999998, 'enhanced_speed': 2.146, 'fractional_cadence': 0.0, 'heart_rate': 115, 'position_lat': 601761955, 'position_long': 362391245, 'speed': 2.146, 'timestamp': datetime.datetime(2024, 9, 11, 3, 32, 18)}\n",
      "{'altitude': 176.0, 'cadence': 79, 'distance': 511.27, 'enhanced_altitude': 176.0, 'enhanced_speed': 2.155, 'fractional_cadence': 0.5, 'heart_rate': 115, 'position_lat': 601761601, 'position_long': 362387879, 'speed': 2.155, 'timestamp': datetime.datetime(2024, 9, 11, 3, 32, 27)}\n",
      "{'altitude': 172.39999999999998, 'cadence': 80, 'distance': 532.72, 'enhanced_altitude': 172.39999999999998, 'enhanced_speed': 2.23, 'fractional_cadence': 0.5, 'heart_rate': 116, 'position_lat': 601761696, 'position_long': 362384229, 'speed': 2.23, 'timestamp': datetime.datetime(2024, 9, 11, 3, 32, 35)}\n",
      "{'altitude': 171.60000000000002, 'cadence': 79, 'distance': 542.27, 'enhanced_altitude': 171.60000000000002, 'enhanced_speed': 2.258, 'fractional_cadence': 0.5, 'heart_rate': 113, 'position_lat': 601761213, 'position_long': 362382837, 'speed': 2.258, 'timestamp': datetime.datetime(2024, 9, 11, 3, 32, 39)}\n",
      "{'altitude': 171.20000000000005, 'cadence': 80, 'distance': 549.26, 'enhanced_altitude': 171.20000000000005, 'enhanced_speed': 2.258, 'fractional_cadence': 0.5, 'heart_rate': 110, 'position_lat': 601760700, 'position_long': 362381978, 'speed': 2.258, 'timestamp': datetime.datetime(2024, 9, 11, 3, 32, 42)}\n",
      "{'altitude': 170.39999999999998, 'cadence': 79, 'distance': 567.21, 'enhanced_altitude': 170.39999999999998, 'enhanced_speed': 2.286, 'fractional_cadence': 0.5, 'heart_rate': 113, 'position_lat': 601759353, 'position_long': 362379852, 'speed': 2.286, 'timestamp': datetime.datetime(2024, 9, 11, 3, 32, 49)}\n",
      "{'altitude': 170.39999999999998, 'cadence': 80, 'distance': 574.18, 'enhanced_altitude': 170.39999999999998, 'enhanced_speed': 2.305, 'fractional_cadence': 0.5, 'heart_rate': 116, 'position_lat': 601758969, 'position_long': 362378850, 'speed': 2.305, 'timestamp': datetime.datetime(2024, 9, 11, 3, 32, 52)}\n",
      "{'altitude': 170.79999999999995, 'cadence': 79, 'distance': 589.18, 'enhanced_altitude': 170.79999999999995, 'enhanced_speed': 2.333, 'fractional_cadence': 0.5, 'heart_rate': 119, 'position_lat': 601758357, 'position_long': 362376519, 'speed': 2.333, 'timestamp': datetime.datetime(2024, 9, 11, 3, 32, 58)}\n",
      "{'altitude': 170.79999999999995, 'cadence': 80, 'distance': 603.07, 'enhanced_altitude': 170.79999999999995, 'enhanced_speed': 2.333, 'fractional_cadence': 0.0, 'heart_rate': 120, 'position_lat': 601758030, 'position_long': 362374246, 'speed': 2.333, 'timestamp': datetime.datetime(2024, 9, 11, 3, 33, 3)}\n",
      "{'altitude': 171.60000000000002, 'cadence': 80, 'distance': 623.81, 'enhanced_altitude': 171.60000000000002, 'enhanced_speed': 2.277, 'fractional_cadence': 0.5, 'heart_rate': 119, 'position_lat': 601757132, 'position_long': 362371057, 'speed': 2.277, 'timestamp': datetime.datetime(2024, 9, 11, 3, 33, 14)}\n",
      "{'altitude': 171.60000000000002, 'cadence': 80, 'distance': 645.32, 'enhanced_altitude': 171.60000000000002, 'enhanced_speed': 2.305, 'fractional_cadence': 0.5, 'heart_rate': 119, 'position_lat': 601755817, 'position_long': 362368087, 'speed': 2.305, 'timestamp': datetime.datetime(2024, 9, 11, 3, 33, 23)}\n",
      "{'altitude': 169.79999999999995, 'cadence': 79, 'distance': 667.71, 'enhanced_altitude': 169.79999999999995, 'enhanced_speed': 2.295, 'fractional_cadence': 0.5, 'heart_rate': 120, 'position_lat': 601754889, 'position_long': 362364629, 'speed': 2.295, 'timestamp': datetime.datetime(2024, 9, 11, 3, 33, 33)}\n",
      "{'altitude': 167.39999999999998, 'cadence': 80, 'distance': 689.03, 'enhanced_altitude': 167.39999999999998, 'enhanced_speed': 2.305, 'fractional_cadence': 0.5, 'heart_rate': 118, 'position_lat': 601754160, 'position_long': 362361232, 'speed': 2.305, 'timestamp': datetime.datetime(2024, 9, 11, 3, 33, 42)}\n",
      "{'altitude': 166.60000000000002, 'cadence': 80, 'distance': 708.46, 'enhanced_altitude': 166.60000000000002, 'enhanced_speed': 2.323, 'fractional_cadence': 0.5, 'heart_rate': 121, 'position_lat': 601753680, 'position_long': 362358075, 'speed': 2.323, 'timestamp': datetime.datetime(2024, 9, 11, 3, 33, 50)}\n",
      "{'altitude': 168.60000000000002, 'cadence': 79, 'distance': 729.36, 'enhanced_altitude': 168.60000000000002, 'enhanced_speed': 2.323, 'fractional_cadence': 0.5, 'heart_rate': 120, 'position_lat': 601752769, 'position_long': 362354871, 'speed': 2.323, 'timestamp': datetime.datetime(2024, 9, 11, 3, 33, 59)}\n",
      "{'altitude': 169.60000000000002, 'cadence': 79, 'distance': 751.43, 'enhanced_altitude': 169.60000000000002, 'enhanced_speed': 2.361, 'fractional_cadence': 0.5, 'heart_rate': 120, 'position_lat': 601752165, 'position_long': 362351368, 'speed': 2.361, 'timestamp': datetime.datetime(2024, 9, 11, 3, 34, 8)}\n",
      "{'altitude': 171.0, 'cadence': 80, 'distance': 764.85, 'enhanced_altitude': 171.0, 'enhanced_speed': 2.361, 'fractional_cadence': 0.5, 'heart_rate': 121, 'position_lat': 601752613, 'position_long': 362349257, 'speed': 2.361, 'timestamp': datetime.datetime(2024, 9, 11, 3, 34, 14)}\n",
      "{'altitude': 172.0, 'cadence': 80, 'distance': 786.43, 'enhanced_altitude': 172.0, 'enhanced_speed': 2.37, 'fractional_cadence': 0.5, 'heart_rate': 120, 'position_lat': 601754684, 'position_long': 362347669, 'speed': 2.37, 'timestamp': datetime.datetime(2024, 9, 11, 3, 34, 22)}\n",
      "{'altitude': 171.0, 'cadence': 79, 'distance': 806.99, 'enhanced_altitude': 171.0, 'enhanced_speed': 2.445, 'fractional_cadence': 0.5, 'heart_rate': 120, 'position_lat': 601756782, 'position_long': 362346569, 'speed': 2.445, 'timestamp': datetime.datetime(2024, 9, 11, 3, 34, 29)}\n",
      "{'altitude': 171.0, 'cadence': 80, 'distance': 827.22, 'enhanced_altitude': 171.0, 'enhanced_speed': 2.51, 'fractional_cadence': 0.5, 'heart_rate': 121, 'position_lat': 601758700, 'position_long': 362345037, 'speed': 2.51, 'timestamp': datetime.datetime(2024, 9, 11, 3, 34, 37)}\n",
      "{'altitude': 171.60000000000002, 'cadence': 80, 'distance': 847.59, 'enhanced_altitude': 171.60000000000002, 'enhanced_speed': 2.538, 'fractional_cadence': 0.5, 'heart_rate': 120, 'position_lat': 601760584, 'position_long': 362343406, 'speed': 2.538, 'timestamp': datetime.datetime(2024, 9, 11, 3, 34, 45)}\n",
      "{'altitude': 171.39999999999998, 'cadence': 80, 'distance': 867.97, 'enhanced_altitude': 171.39999999999998, 'enhanced_speed': 2.519, 'fractional_cadence': 0.5, 'heart_rate': 120, 'position_lat': 601762704, 'position_long': 362342547, 'speed': 2.519, 'timestamp': datetime.datetime(2024, 9, 11, 3, 34, 53)}\n",
      "{'altitude': 168.60000000000002, 'cadence': 80, 'distance': 889.76, 'enhanced_altitude': 168.60000000000002, 'enhanced_speed': 2.519, 'fractional_cadence': 0.5, 'heart_rate': 121, 'position_lat': 601765000, 'position_long': 362341879, 'speed': 2.519, 'timestamp': datetime.datetime(2024, 9, 11, 3, 35, 2)}\n",
      "{'altitude': 169.0, 'cadence': 80, 'distance': 911.65, 'enhanced_altitude': 169.0, 'enhanced_speed': 2.491, 'fractional_cadence': 0.5, 'heart_rate': 121, 'position_lat': 601767318, 'position_long': 362341380, 'speed': 2.491, 'timestamp': datetime.datetime(2024, 9, 11, 3, 35, 11)}\n",
      "{'altitude': 170.79999999999995, 'cadence': 80, 'distance': 934.01, 'enhanced_altitude': 170.79999999999995, 'enhanced_speed': 2.501, 'fractional_cadence': 0.5, 'heart_rate': 122, 'position_lat': 601769557, 'position_long': 362340178, 'speed': 2.501, 'timestamp': datetime.datetime(2024, 9, 11, 3, 35, 20)}\n",
      "{'altitude': 172.0, 'cadence': 80, 'distance': 956.17, 'enhanced_altitude': 172.0, 'enhanced_speed': 2.51, 'fractional_cadence': 0.5, 'heart_rate': 122, 'position_lat': 601771584, 'position_long': 362338228, 'speed': 2.51, 'timestamp': datetime.datetime(2024, 9, 11, 3, 35, 29)}\n",
      "{'altitude': 172.39999999999998, 'cadence': 81, 'distance': 977.92, 'enhanced_altitude': 172.39999999999998, 'enhanced_speed': 2.491, 'fractional_cadence': 0.0, 'heart_rate': 121, 'position_lat': 601773862, 'position_long': 362337489, 'speed': 2.491, 'timestamp': datetime.datetime(2024, 9, 11, 3, 35, 38)}\n",
      "{'altitude': 172.0, 'cadence': 80, 'distance': 998.06, 'enhanced_altitude': 172.0, 'enhanced_speed': 2.491, 'fractional_cadence': 0.5, 'heart_rate': 123, 'position_lat': 601776003, 'position_long': 362337947, 'speed': 2.491, 'timestamp': datetime.datetime(2024, 9, 11, 3, 35, 46)}\n",
      "{'altitude': 174.0, 'cadence': 80, 'distance': 1019.11, 'enhanced_altitude': 174.0, 'enhanced_speed': 2.482, 'fractional_cadence': 0.5, 'heart_rate': 125, 'position_lat': 601778230, 'position_long': 362337368, 'speed': 2.482, 'timestamp': datetime.datetime(2024, 9, 11, 3, 35, 55)}\n",
      "{'altitude': 173.60000000000002, 'cadence': 81, 'distance': 1039.44, 'enhanced_altitude': 173.60000000000002, 'enhanced_speed': 2.463, 'fractional_cadence': 0.5, 'heart_rate': 124, 'position_lat': 601780310, 'position_long': 362336395, 'speed': 2.463, 'timestamp': datetime.datetime(2024, 9, 11, 3, 36, 4)}\n",
      "{'altitude': 172.20000000000005, 'cadence': 81, 'distance': 1060.74, 'enhanced_altitude': 172.20000000000005, 'enhanced_speed': 2.473, 'fractional_cadence': 0.5, 'heart_rate': 123, 'position_lat': 601782430, 'position_long': 362335054, 'speed': 2.473, 'timestamp': datetime.datetime(2024, 9, 11, 3, 36, 12)}\n",
      "{'altitude': 171.0, 'cadence': 81, 'distance': 1082.93, 'enhanced_altitude': 171.0, 'enhanced_speed': 2.482, 'fractional_cadence': 0.5, 'heart_rate': 124, 'position_lat': 601784754, 'position_long': 362334250, 'speed': 2.482, 'timestamp': datetime.datetime(2024, 9, 11, 3, 36, 21)}\n",
      "{'altitude': 170.60000000000002, 'cadence': 81, 'distance': 1099.9, 'enhanced_altitude': 170.60000000000002, 'enhanced_speed': 2.482, 'fractional_cadence': 0.5, 'heart_rate': 127, 'position_lat': 601786528, 'position_long': 362333623, 'speed': 2.482, 'timestamp': datetime.datetime(2024, 9, 11, 3, 36, 28)}\n",
      "{'altitude': 169.20000000000005, 'cadence': 81, 'distance': 1121.01, 'enhanced_altitude': 169.20000000000005, 'enhanced_speed': 2.463, 'fractional_cadence': 0.5, 'heart_rate': 127, 'position_lat': 601788044, 'position_long': 362331035, 'speed': 2.463, 'timestamp': datetime.datetime(2024, 9, 11, 3, 36, 37)}\n",
      "{'altitude': 168.0, 'cadence': 81, 'distance': 1143.01, 'enhanced_altitude': 168.0, 'enhanced_speed': 2.491, 'fractional_cadence': 0.5, 'heart_rate': 127, 'position_lat': 601790147, 'position_long': 362329449, 'speed': 2.491, 'timestamp': datetime.datetime(2024, 9, 11, 3, 36, 45)}\n",
      "{'altitude': 169.20000000000005, 'cadence': 81, 'distance': 1163.71, 'enhanced_altitude': 169.20000000000005, 'enhanced_speed': 2.519, 'fractional_cadence': 0.5, 'heart_rate': 127, 'position_lat': 601792284, 'position_long': 362328501, 'speed': 2.519, 'timestamp': datetime.datetime(2024, 9, 11, 3, 36, 53)}\n",
      "{'altitude': 170.20000000000005, 'cadence': 82, 'distance': 1185.95, 'enhanced_altitude': 170.20000000000005, 'enhanced_speed': 2.519, 'fractional_cadence': 0.0, 'heart_rate': 129, 'position_lat': 601794575, 'position_long': 362327472, 'speed': 2.519, 'timestamp': datetime.datetime(2024, 9, 11, 3, 37, 2)}\n",
      "{'altitude': 170.39999999999998, 'cadence': 80, 'distance': 1207.19, 'enhanced_altitude': 170.39999999999998, 'enhanced_speed': 2.519, 'fractional_cadence': 0.5, 'heart_rate': 130, 'position_lat': 601796779, 'position_long': 362326571, 'speed': 2.519, 'timestamp': datetime.datetime(2024, 9, 11, 3, 37, 11)}\n",
      "{'altitude': 169.79999999999995, 'cadence': 81, 'distance': 1229.57, 'enhanced_altitude': 169.79999999999995, 'enhanced_speed': 2.482, 'fractional_cadence': 0.5, 'heart_rate': 130, 'position_lat': 601799036, 'position_long': 362325322, 'speed': 2.482, 'timestamp': datetime.datetime(2024, 9, 11, 3, 37, 21)}\n",
      "{'altitude': 170.60000000000002, 'cadence': 81, 'distance': 1250.15, 'enhanced_altitude': 170.60000000000002, 'enhanced_speed': 2.473, 'fractional_cadence': 0.5, 'heart_rate': 130, 'position_lat': 601800911, 'position_long': 362323501, 'speed': 2.473, 'timestamp': datetime.datetime(2024, 9, 11, 3, 37, 29)}\n",
      "{'altitude': 170.20000000000005, 'cadence': 81, 'distance': 1270.54, 'enhanced_altitude': 170.20000000000005, 'enhanced_speed': 2.491, 'fractional_cadence': 0.5, 'heart_rate': 130, 'position_lat': 601802980, 'position_long': 362322423, 'speed': 2.491, 'timestamp': datetime.datetime(2024, 9, 11, 3, 37, 37)}\n",
      "{'altitude': 171.0, 'cadence': 81, 'distance': 1277.89, 'enhanced_altitude': 171.0, 'enhanced_speed': 2.491, 'fractional_cadence': 0.5, 'heart_rate': 127, 'position_lat': 601803743, 'position_long': 362322120, 'speed': 2.491, 'timestamp': datetime.datetime(2024, 9, 11, 3, 37, 40)}\n",
      "{'altitude': 171.39999999999998, 'cadence': 81, 'distance': 1298.7, 'enhanced_altitude': 171.39999999999998, 'enhanced_speed': 2.482, 'fractional_cadence': 0.5, 'heart_rate': 127, 'position_lat': 601805867, 'position_long': 362321059, 'speed': 2.482, 'timestamp': datetime.datetime(2024, 9, 11, 3, 37, 49)}\n",
      "{'altitude': 174.60000000000002, 'cadence': 82, 'distance': 1319.15, 'enhanced_altitude': 174.60000000000002, 'enhanced_speed': 2.482, 'fractional_cadence': 0.0, 'heart_rate': 125, 'position_lat': 601808025, 'position_long': 362320434, 'speed': 2.482, 'timestamp': datetime.datetime(2024, 9, 11, 3, 37, 57)}\n",
      "{'altitude': 176.20000000000005, 'cadence': 80, 'distance': 1339.28, 'enhanced_altitude': 176.20000000000005, 'enhanced_speed': 2.473, 'fractional_cadence': 0.5, 'heart_rate': 127, 'position_lat': 601810137, 'position_long': 362320647, 'speed': 2.473, 'timestamp': datetime.datetime(2024, 9, 11, 3, 38, 6)}\n",
      "{'altitude': 175.20000000000005, 'cadence': 80, 'distance': 1356.71, 'enhanced_altitude': 175.20000000000005, 'enhanced_speed': 2.426, 'fractional_cadence': 0.5, 'heart_rate': 124, 'position_lat': 601811572, 'position_long': 362322488, 'speed': 2.426, 'timestamp': datetime.datetime(2024, 9, 11, 3, 38, 14)}\n",
      "{'altitude': 171.0, 'cadence': 81, 'distance': 1375.63, 'enhanced_altitude': 171.0, 'enhanced_speed': 2.407, 'fractional_cadence': 0.5, 'heart_rate': 123, 'position_lat': 601812746, 'position_long': 362325043, 'speed': 2.407, 'timestamp': datetime.datetime(2024, 9, 11, 3, 38, 22)}\n",
      "{'altitude': 164.39999999999998, 'cadence': 81, 'distance': 1397.71, 'enhanced_altitude': 164.39999999999998, 'enhanced_speed': 2.407, 'fractional_cadence': 0.5, 'heart_rate': 123, 'position_lat': 601813091, 'position_long': 362328687, 'speed': 2.407, 'timestamp': datetime.datetime(2024, 9, 11, 3, 38, 31)}\n",
      "{'altitude': 164.0, 'cadence': 81, 'distance': 1418.35, 'enhanced_altitude': 164.0, 'enhanced_speed': 2.417, 'fractional_cadence': 0.5, 'heart_rate': 123, 'position_lat': 601812962, 'position_long': 362332169, 'speed': 2.417, 'timestamp': datetime.datetime(2024, 9, 11, 3, 38, 39)}\n",
      "{'altitude': 166.39999999999998, 'cadence': 81, 'distance': 1440.13, 'enhanced_altitude': 166.39999999999998, 'enhanced_speed': 2.435, 'fractional_cadence': 0.5, 'heart_rate': 125, 'position_lat': 601812444, 'position_long': 362335815, 'speed': 2.435, 'timestamp': datetime.datetime(2024, 9, 11, 3, 38, 48)}\n",
      "{'altitude': 166.79999999999995, 'cadence': 80, 'distance': 1461.43, 'enhanced_altitude': 166.79999999999995, 'enhanced_speed': 2.407, 'fractional_cadence': 0.5, 'heart_rate': 125, 'position_lat': 601812055, 'position_long': 362339372, 'speed': 2.407, 'timestamp': datetime.datetime(2024, 9, 11, 3, 38, 58)}\n",
      "{'altitude': 166.79999999999995, 'cadence': 81, 'distance': 1484.06, 'enhanced_altitude': 166.79999999999995, 'enhanced_speed': 2.361, 'fractional_cadence': 0.5, 'heart_rate': 126, 'position_lat': 601811318, 'position_long': 362342978, 'speed': 2.361, 'timestamp': datetime.datetime(2024, 9, 11, 3, 39, 8)}\n",
      "{'altitude': 163.20000000000005, 'cadence': 80, 'distance': 1505.42, 'enhanced_altitude': 163.20000000000005, 'enhanced_speed': 2.379, 'fractional_cadence': 0.5, 'heart_rate': 127, 'position_lat': 601810340, 'position_long': 362346223, 'speed': 2.379, 'timestamp': datetime.datetime(2024, 9, 11, 3, 39, 16)}\n",
      "{'altitude': 162.20000000000005, 'cadence': 81, 'distance': 1527.06, 'enhanced_altitude': 162.20000000000005, 'enhanced_speed': 2.398, 'fractional_cadence': 0.5, 'heart_rate': 129, 'position_lat': 601809409, 'position_long': 362349538, 'speed': 2.398, 'timestamp': datetime.datetime(2024, 9, 11, 3, 39, 25)}\n",
      "{'altitude': 167.60000000000002, 'cadence': 82, 'distance': 1549.07, 'enhanced_altitude': 167.60000000000002, 'enhanced_speed': 2.379, 'fractional_cadence': 0.5, 'heart_rate': 128, 'position_lat': 601808607, 'position_long': 362353014, 'speed': 2.379, 'timestamp': datetime.datetime(2024, 9, 11, 3, 39, 35)}\n",
      "{'altitude': 168.20000000000005, 'cadence': 80, 'distance': 1569.27, 'enhanced_altitude': 168.20000000000005, 'enhanced_speed': 2.351, 'fractional_cadence': 0.5, 'heart_rate': 129, 'position_lat': 601807815, 'position_long': 362356168, 'speed': 2.351, 'timestamp': datetime.datetime(2024, 9, 11, 3, 39, 44)}\n",
      "{'altitude': 171.20000000000005, 'cadence': 81, 'distance': 1590.63, 'enhanced_altitude': 171.20000000000005, 'enhanced_speed': 2.351, 'fractional_cadence': 0.5, 'heart_rate': 130, 'position_lat': 601807057, 'position_long': 362359528, 'speed': 2.351, 'timestamp': datetime.datetime(2024, 9, 11, 3, 39, 53)}\n",
      "{'altitude': 172.20000000000005, 'cadence': 81, 'distance': 1604.23, 'enhanced_altitude': 172.20000000000005, 'enhanced_speed': 2.342, 'fractional_cadence': 0.5, 'heart_rate': 130, 'position_lat': 601806632, 'position_long': 362361695, 'speed': 2.342, 'timestamp': datetime.datetime(2024, 9, 11, 3, 39, 59)}\n",
      "{'altitude': 173.60000000000002, 'cadence': 81, 'distance': 1607.72, 'enhanced_altitude': 173.60000000000002, 'enhanced_speed': 2.333, 'fractional_cadence': 0.5, 'heart_rate': 130, 'position_lat': 601806775, 'position_long': 362362228, 'speed': 2.333, 'timestamp': datetime.datetime(2024, 9, 11, 3, 40, 1)}\n",
      "{'altitude': 172.0, 'cadence': 81, 'distance': 1626.5, 'enhanced_altitude': 172.0, 'enhanced_speed': 2.277, 'fractional_cadence': 0.5, 'heart_rate': 127, 'position_lat': 601807605, 'position_long': 362365179, 'speed': 2.277, 'timestamp': datetime.datetime(2024, 9, 11, 3, 40, 11)}\n",
      "{'altitude': 174.0, 'cadence': 81, 'distance': 1631.11, 'enhanced_altitude': 174.0, 'enhanced_speed': 2.258, 'fractional_cadence': 0.5, 'heart_rate': 127, 'position_lat': 601808076, 'position_long': 362365439, 'speed': 2.258, 'timestamp': datetime.datetime(2024, 9, 11, 3, 40, 12)}\n",
      "{'altitude': 172.79999999999995, 'cadence': 81, 'distance': 1648.98, 'enhanced_altitude': 172.79999999999995, 'enhanced_speed': 2.221, 'fractional_cadence': 0.5, 'heart_rate': 123, 'position_lat': 601809709, 'position_long': 362367164, 'speed': 2.221, 'timestamp': datetime.datetime(2024, 9, 11, 3, 40, 23)}\n",
      "{'altitude': 170.79999999999995, 'cadence': 80, 'distance': 1654.49, 'enhanced_altitude': 170.79999999999995, 'enhanced_speed': 2.202, 'fractional_cadence': 0.5, 'heart_rate': 120, 'position_lat': 601809997, 'position_long': 362367987, 'speed': 2.202, 'timestamp': datetime.datetime(2024, 9, 11, 3, 40, 26)}\n",
      "{'altitude': 164.0, 'cadence': 81, 'distance': 1669.59, 'enhanced_altitude': 164.0, 'enhanced_speed': 2.155, 'fractional_cadence': 0.5, 'heart_rate': 123, 'position_lat': 601811211, 'position_long': 362369629, 'speed': 2.155, 'timestamp': datetime.datetime(2024, 9, 11, 3, 40, 33)}\n",
      "{'altitude': 162.60000000000002, 'cadence': 81, 'distance': 1692.29, 'enhanced_altitude': 162.60000000000002, 'enhanced_speed': 2.174, 'fractional_cadence': 0.5, 'heart_rate': 122, 'position_lat': 601813185, 'position_long': 362371787, 'speed': 2.174, 'timestamp': datetime.datetime(2024, 9, 11, 3, 40, 42)}\n",
      "{'altitude': 163.20000000000005, 'cadence': 81, 'distance': 1714.71, 'enhanced_altitude': 163.20000000000005, 'enhanced_speed': 2.295, 'fractional_cadence': 0.5, 'heart_rate': 124, 'position_lat': 601815343, 'position_long': 362373447, 'speed': 2.295, 'timestamp': datetime.datetime(2024, 9, 11, 3, 40, 50)}\n",
      "{'altitude': 157.39999999999998, 'cadence': 81, 'distance': 1735.8, 'enhanced_altitude': 157.39999999999998, 'enhanced_speed': 2.286, 'fractional_cadence': 0.5, 'heart_rate': 122, 'position_lat': 601816538, 'position_long': 362376253, 'speed': 2.286, 'timestamp': datetime.datetime(2024, 9, 11, 3, 40, 59)}\n",
      "{'altitude': 155.39999999999998, 'cadence': 81, 'distance': 1757.09, 'enhanced_altitude': 155.39999999999998, 'enhanced_speed': 2.286, 'fractional_cadence': 0.5, 'heart_rate': 123, 'position_lat': 601816913, 'position_long': 362379797, 'speed': 2.286, 'timestamp': datetime.datetime(2024, 9, 11, 3, 41, 8)}\n",
      "{'altitude': 159.79999999999995, 'cadence': 81, 'distance': 1777.88, 'enhanced_altitude': 159.79999999999995, 'enhanced_speed': 2.314, 'fractional_cadence': 0.5, 'heart_rate': 124, 'position_lat': 601817340, 'position_long': 362383280, 'speed': 2.314, 'timestamp': datetime.datetime(2024, 9, 11, 3, 41, 16)}\n",
      "{'altitude': 159.39999999999998, 'cadence': 81, 'distance': 1799.25, 'enhanced_altitude': 159.39999999999998, 'enhanced_speed': 2.333, 'fractional_cadence': 0.5, 'heart_rate': 125, 'position_lat': 601816771, 'position_long': 362386774, 'speed': 2.333, 'timestamp': datetime.datetime(2024, 9, 11, 3, 41, 25)}\n",
      "{'altitude': 160.60000000000002, 'cadence': 81, 'distance': 1820.43, 'enhanced_altitude': 160.60000000000002, 'enhanced_speed': 2.37, 'fractional_cadence': 0.5, 'heart_rate': 126, 'position_lat': 601815885, 'position_long': 362390071, 'speed': 2.37, 'timestamp': datetime.datetime(2024, 9, 11, 3, 41, 33)}\n",
      "{'altitude': 162.60000000000002, 'cadence': 81, 'distance': 1841.29, 'enhanced_altitude': 162.60000000000002, 'enhanced_speed': 2.417, 'fractional_cadence': 0.5, 'heart_rate': 127, 'position_lat': 601815095, 'position_long': 362393356, 'speed': 2.417, 'timestamp': datetime.datetime(2024, 9, 11, 3, 41, 41)}\n",
      "{'altitude': 165.0, 'cadence': 82, 'distance': 1862.31, 'enhanced_altitude': 165.0, 'enhanced_speed': 2.435, 'fractional_cadence': 0.5, 'heart_rate': 128, 'position_lat': 601814356, 'position_long': 362396689, 'speed': 2.435, 'timestamp': datetime.datetime(2024, 9, 11, 3, 41, 49)}\n",
      "{'altitude': 169.79999999999995, 'cadence': 81, 'distance': 1881.89, 'enhanced_altitude': 169.79999999999995, 'enhanced_speed': 2.454, 'fractional_cadence': 0.5, 'heart_rate': 125, 'position_lat': 601813573, 'position_long': 362399765, 'speed': 2.454, 'timestamp': datetime.datetime(2024, 9, 11, 3, 41, 57)}\n",
      "{'altitude': 170.39999999999998, 'cadence': 80, 'distance': 1903.54, 'enhanced_altitude': 170.39999999999998, 'enhanced_speed': 2.463, 'fractional_cadence': 0.5, 'heart_rate': 125, 'position_lat': 601812416, 'position_long': 362402904, 'speed': 2.463, 'timestamp': datetime.datetime(2024, 9, 11, 3, 42, 6)}\n",
      "{'altitude': 166.20000000000005, 'cadence': 80, 'distance': 1923.81, 'enhanced_altitude': 166.20000000000005, 'enhanced_speed': 2.398, 'fractional_cadence': 0.5, 'heart_rate': 125, 'position_lat': 601811297, 'position_long': 362405806, 'speed': 2.398, 'timestamp': datetime.datetime(2024, 9, 11, 3, 42, 16)}\n",
      "{'altitude': 166.79999999999995, 'cadence': 80, 'distance': 1945.3, 'enhanced_altitude': 166.79999999999995, 'enhanced_speed': 2.333, 'fractional_cadence': 0.5, 'heart_rate': 125, 'position_lat': 601809937, 'position_long': 362408693, 'speed': 2.333, 'timestamp': datetime.datetime(2024, 9, 11, 3, 42, 25)}\n",
      "{'altitude': 167.60000000000002, 'cadence': 81, 'distance': 1967.93, 'enhanced_altitude': 167.60000000000002, 'enhanced_speed': 2.379, 'fractional_cadence': 0.5, 'heart_rate': 127, 'position_lat': 601807837, 'position_long': 362410490, 'speed': 2.379, 'timestamp': datetime.datetime(2024, 9, 11, 3, 42, 34)}\n",
      "{'altitude': 168.0, 'cadence': 81, 'distance': 1982.93, 'enhanced_altitude': 168.0, 'enhanced_speed': 2.333, 'fractional_cadence': 0.5, 'heart_rate': 130, 'position_lat': 601806485, 'position_long': 362411805, 'speed': 2.333, 'timestamp': datetime.datetime(2024, 9, 11, 3, 42, 41)}\n",
      "{'altitude': 165.39999999999998, 'cadence': 81, 'distance': 2004.7, 'enhanced_altitude': 165.39999999999998, 'enhanced_speed': 2.37, 'fractional_cadence': 0.5, 'heart_rate': 130, 'position_lat': 601805538, 'position_long': 362415125, 'speed': 2.37, 'timestamp': datetime.datetime(2024, 9, 11, 3, 42, 49)}\n",
      "{'altitude': 165.0, 'cadence': 81, 'distance': 2024.91, 'enhanced_altitude': 165.0, 'enhanced_speed': 2.426, 'fractional_cadence': 0.5, 'heart_rate': 131, 'position_lat': 601804859, 'position_long': 362418352, 'speed': 2.426, 'timestamp': datetime.datetime(2024, 9, 11, 3, 42, 57)}\n",
      "{'altitude': 163.79999999999995, 'cadence': 81, 'distance': 2047.05, 'enhanced_altitude': 163.79999999999995, 'enhanced_speed': 2.389, 'fractional_cadence': 0.5, 'heart_rate': 130, 'position_lat': 601803617, 'position_long': 362421407, 'speed': 2.389, 'timestamp': datetime.datetime(2024, 9, 11, 3, 43, 7)}\n",
      "{'altitude': 163.0, 'cadence': 81, 'distance': 2068.61, 'enhanced_altitude': 163.0, 'enhanced_speed': 2.351, 'fractional_cadence': 0.5, 'heart_rate': 129, 'position_lat': 601801381, 'position_long': 362422167, 'speed': 2.351, 'timestamp': datetime.datetime(2024, 9, 11, 3, 43, 17)}\n",
      "{'altitude': 162.20000000000005, 'cadence': 81, 'distance': 2089.0, 'enhanced_altitude': 162.20000000000005, 'enhanced_speed': 2.37, 'fractional_cadence': 0.5, 'heart_rate': 131, 'position_lat': 601799326, 'position_long': 362423314, 'speed': 2.37, 'timestamp': datetime.datetime(2024, 9, 11, 3, 43, 25)}\n",
      "{'altitude': 163.79999999999995, 'cadence': 81, 'distance': 2110.24, 'enhanced_altitude': 163.79999999999995, 'enhanced_speed': 2.361, 'fractional_cadence': 0.5, 'heart_rate': 133, 'position_lat': 601797115, 'position_long': 362424241, 'speed': 2.361, 'timestamp': datetime.datetime(2024, 9, 11, 3, 43, 34)}\n",
      "{'altitude': 164.79999999999995, 'cadence': 81, 'distance': 2131.91, 'enhanced_altitude': 164.79999999999995, 'enhanced_speed': 2.37, 'fractional_cadence': 0.5, 'heart_rate': 133, 'position_lat': 601794945, 'position_long': 362425581, 'speed': 2.37, 'timestamp': datetime.datetime(2024, 9, 11, 3, 43, 43)}\n",
      "{'altitude': 165.60000000000002, 'cadence': 81, 'distance': 2152.14, 'enhanced_altitude': 165.60000000000002, 'enhanced_speed': 2.314, 'fractional_cadence': 0.5, 'heart_rate': 133, 'position_lat': 601792834, 'position_long': 362426373, 'speed': 2.314, 'timestamp': datetime.datetime(2024, 9, 11, 3, 43, 54)}\n",
      "{'altitude': 167.60000000000002, 'cadence': 81, 'distance': 2172.67, 'enhanced_altitude': 167.60000000000002, 'enhanced_speed': 2.211, 'fractional_cadence': 0.5, 'heart_rate': 133, 'position_lat': 601790683, 'position_long': 362427135, 'speed': 2.211, 'timestamp': datetime.datetime(2024, 9, 11, 3, 44, 4)}\n",
      "{'altitude': 169.60000000000002, 'cadence': 82, 'distance': 2183.76, 'enhanced_altitude': 169.60000000000002, 'enhanced_speed': 2.193, 'fractional_cadence': 0.5, 'heart_rate': 133, 'position_lat': 601789562, 'position_long': 362427729, 'speed': 2.193, 'timestamp': datetime.datetime(2024, 9, 11, 3, 44, 9)}\n",
      "{'altitude': 168.20000000000005, 'cadence': 59, 'distance': 2183.76, 'enhanced_altitude': 168.20000000000005, 'enhanced_speed': 1.521, 'fractional_cadence': 0.0, 'heart_rate': 92, 'position_lat': 601784095, 'position_long': 362430227, 'speed': 1.521, 'timestamp': datetime.datetime(2024, 9, 11, 3, 48, 5)}\n",
      "{'altitude': 168.0, 'cadence': 59, 'distance': 2185.05, 'enhanced_altitude': 168.0, 'enhanced_speed': 1.493, 'fractional_cadence': 0.0, 'heart_rate': 93, 'position_lat': 601783983, 'position_long': 362430096, 'speed': 1.493, 'timestamp': datetime.datetime(2024, 9, 11, 3, 48, 6)}\n",
      "{'altitude': 166.0, 'cadence': 81, 'distance': 2192.01, 'enhanced_altitude': 166.0, 'enhanced_speed': 1.428, 'fractional_cadence': 0.0, 'heart_rate': 96, 'position_lat': 601783257, 'position_long': 362429825, 'speed': 1.428, 'timestamp': datetime.datetime(2024, 9, 11, 3, 48, 10)}\n",
      "{'altitude': 166.0, 'cadence': 78, 'distance': 2197.86, 'enhanced_altitude': 166.0, 'enhanced_speed': 1.95, 'fractional_cadence': 0.0, 'heart_rate': 99, 'position_lat': 601782661, 'position_long': 362429525, 'speed': 1.95, 'timestamp': datetime.datetime(2024, 9, 11, 3, 48, 13)}\n",
      "{'altitude': 166.60000000000002, 'cadence': 81, 'distance': 2201.75, 'enhanced_altitude': 166.60000000000002, 'enhanced_speed': 2.015, 'fractional_cadence': 0.5, 'heart_rate': 102, 'position_lat': 601782325, 'position_long': 362429139, 'speed': 2.015, 'timestamp': datetime.datetime(2024, 9, 11, 3, 48, 15)}\n",
      "{'altitude': 166.0, 'cadence': 81, 'distance': 2206.57, 'enhanced_altitude': 166.0, 'enhanced_speed': 2.015, 'fractional_cadence': 0.5, 'heart_rate': 105, 'position_lat': 601781935, 'position_long': 362428598, 'speed': 2.015, 'timestamp': datetime.datetime(2024, 9, 11, 3, 48, 17)}\n",
      "{'altitude': 167.20000000000005, 'cadence': 79, 'distance': 2220.84, 'enhanced_altitude': 167.20000000000005, 'enhanced_speed': 2.118, 'fractional_cadence': 0.5, 'heart_rate': 108, 'position_lat': 601780617, 'position_long': 362427375, 'speed': 2.118, 'timestamp': datetime.datetime(2024, 9, 11, 3, 48, 23)}\n",
      "{'altitude': 168.39999999999998, 'cadence': 80, 'distance': 2242.76, 'enhanced_altitude': 168.39999999999998, 'enhanced_speed': 2.127, 'fractional_cadence': 0.5, 'heart_rate': 111, 'position_lat': 601778485, 'position_long': 362425848, 'speed': 2.127, 'timestamp': datetime.datetime(2024, 9, 11, 3, 48, 33)}\n",
      "{'altitude': 168.0, 'cadence': 80, 'distance': 2254.86, 'enhanced_altitude': 168.0, 'enhanced_speed': 2.109, 'fractional_cadence': 0.5, 'heart_rate': 111, 'position_lat': 601777258, 'position_long': 362425237, 'speed': 2.109, 'timestamp': datetime.datetime(2024, 9, 11, 3, 48, 39)}\n",
      "{'altitude': 168.39999999999998, 'cadence': 80, 'distance': 2277.22, 'enhanced_altitude': 168.39999999999998, 'enhanced_speed': 2.118, 'fractional_cadence': 0.5, 'heart_rate': 113, 'position_lat': 601775128, 'position_long': 362423528, 'speed': 2.118, 'timestamp': datetime.datetime(2024, 9, 11, 3, 48, 48)}\n",
      "{'altitude': 174.20000000000005, 'cadence': 80, 'distance': 2299.63, 'enhanced_altitude': 174.20000000000005, 'enhanced_speed': 2.146, 'fractional_cadence': 0.5, 'heart_rate': 115, 'position_lat': 601772976, 'position_long': 362422016, 'speed': 2.146, 'timestamp': datetime.datetime(2024, 9, 11, 3, 48, 58)}\n",
      "{'altitude': 174.0, 'cadence': 80, 'distance': 2304.96, 'enhanced_altitude': 174.0, 'enhanced_speed': 2.165, 'fractional_cadence': 0.5, 'heart_rate': 115, 'position_lat': 601772408, 'position_long': 362421915, 'speed': 2.165, 'timestamp': datetime.datetime(2024, 9, 11, 3, 49)}\n",
      "{'altitude': 171.60000000000002, 'cadence': 81, 'distance': 2323.71, 'enhanced_altitude': 171.60000000000002, 'enhanced_speed': 2.23, 'fractional_cadence': 0.5, 'heart_rate': 119, 'position_lat': 601770851, 'position_long': 362420102, 'speed': 2.23, 'timestamp': datetime.datetime(2024, 9, 11, 3, 49, 7)}\n",
      "{'altitude': 169.0, 'cadence': 82, 'distance': 2343.49, 'enhanced_altitude': 169.0, 'enhanced_speed': 2.389, 'fractional_cadence': 0.0, 'heart_rate': 122, 'position_lat': 601769854, 'position_long': 362417180, 'speed': 2.389, 'timestamp': datetime.datetime(2024, 9, 11, 3, 49, 14)}\n",
      "{'altitude': 171.0, 'cadence': 82, 'distance': 2360.21, 'enhanced_altitude': 171.0, 'enhanced_speed': 2.557, 'fractional_cadence': 0.5, 'heart_rate': 125, 'position_lat': 601769038, 'position_long': 362414679, 'speed': 2.557, 'timestamp': datetime.datetime(2024, 9, 11, 3, 49, 20)}\n",
      "{'altitude': 172.79999999999995, 'cadence': 83, 'distance': 2380.34, 'enhanced_altitude': 172.79999999999995, 'enhanced_speed': 2.687, 'fractional_cadence': 0.5, 'heart_rate': 126, 'position_lat': 601768209, 'position_long': 362411556, 'speed': 2.687, 'timestamp': datetime.datetime(2024, 9, 11, 3, 49, 27)}\n",
      "{'altitude': 172.39999999999998, 'cadence': 82, 'distance': 2402.26, 'enhanced_altitude': 172.39999999999998, 'enhanced_speed': 2.734, 'fractional_cadence': 0.0, 'heart_rate': 128, 'position_lat': 601766924, 'position_long': 362408489, 'speed': 2.734, 'timestamp': datetime.datetime(2024, 9, 11, 3, 49, 35)}\n",
      "{'altitude': 173.0, 'cadence': 82, 'distance': 2422.4, 'enhanced_altitude': 173.0, 'enhanced_speed': 2.771, 'fractional_cadence': 0.0, 'heart_rate': 129, 'position_lat': 601765671, 'position_long': 362405733, 'speed': 2.771, 'timestamp': datetime.datetime(2024, 9, 11, 3, 49, 42)}\n",
      "{'altitude': 175.20000000000005, 'cadence': 83, 'distance': 2442.38, 'enhanced_altitude': 175.20000000000005, 'enhanced_speed': 2.799, 'fractional_cadence': 0.0, 'heart_rate': 132, 'position_lat': 601764660, 'position_long': 362402771, 'speed': 2.799, 'timestamp': datetime.datetime(2024, 9, 11, 3, 49, 49)}\n",
      "{'altitude': 173.0, 'cadence': 83, 'distance': 2464.12, 'enhanced_altitude': 173.0, 'enhanced_speed': 2.846, 'fractional_cadence': 0.5, 'heart_rate': 133, 'position_lat': 601763841, 'position_long': 362399368, 'speed': 2.846, 'timestamp': datetime.datetime(2024, 9, 11, 3, 49, 56)}\n",
      "{'altitude': 172.0, 'cadence': 83, 'distance': 2485.55, 'enhanced_altitude': 172.0, 'enhanced_speed': 2.893, 'fractional_cadence': 0.5, 'heart_rate': 134, 'position_lat': 601763369, 'position_long': 362395846, 'speed': 2.893, 'timestamp': datetime.datetime(2024, 9, 11, 3, 50, 3)}\n",
      "{'altitude': 171.79999999999995, 'cadence': 83, 'distance': 2506.49, 'enhanced_altitude': 171.79999999999995, 'enhanced_speed': 2.921, 'fractional_cadence': 0.5, 'heart_rate': 136, 'position_lat': 601762756, 'position_long': 362392465, 'speed': 2.921, 'timestamp': datetime.datetime(2024, 9, 11, 3, 50, 10)}\n",
      "{'altitude': 176.39999999999998, 'cadence': 83, 'distance': 2528.34, 'enhanced_altitude': 176.39999999999998, 'enhanced_speed': 2.967, 'fractional_cadence': 0.5, 'heart_rate': 136, 'position_lat': 601762518, 'position_long': 362388780, 'speed': 2.967, 'timestamp': datetime.datetime(2024, 9, 11, 3, 50, 17)}\n",
      "{'altitude': 177.20000000000005, 'cadence': 83, 'distance': 2549.22, 'enhanced_altitude': 177.20000000000005, 'enhanced_speed': 2.986, 'fractional_cadence': 0.5, 'heart_rate': 136, 'position_lat': 601762096, 'position_long': 362385333, 'speed': 2.986, 'timestamp': datetime.datetime(2024, 9, 11, 3, 50, 24)}\n",
      "{'altitude': 175.20000000000005, 'cadence': 84, 'distance': 2571.78, 'enhanced_altitude': 175.20000000000005, 'enhanced_speed': 2.986, 'fractional_cadence': 0.5, 'heart_rate': 137, 'position_lat': 601761008, 'position_long': 362382029, 'speed': 2.986, 'timestamp': datetime.datetime(2024, 9, 11, 3, 50, 32)}\n",
      "{'altitude': 172.60000000000002, 'cadence': 83, 'distance': 2594.3, 'enhanced_altitude': 172.60000000000002, 'enhanced_speed': 2.976, 'fractional_cadence': 0.5, 'heart_rate': 138, 'position_lat': 601759306, 'position_long': 362379417, 'speed': 2.976, 'timestamp': datetime.datetime(2024, 9, 11, 3, 50, 40)}\n",
      "{'altitude': 173.60000000000002, 'cadence': 84, 'distance': 2614.43, 'enhanced_altitude': 173.60000000000002, 'enhanced_speed': 2.976, 'fractional_cadence': 0.5, 'heart_rate': 139, 'position_lat': 601758419, 'position_long': 362376334, 'speed': 2.976, 'timestamp': datetime.datetime(2024, 9, 11, 3, 50, 47)}\n",
      "{'altitude': 173.79999999999995, 'cadence': 84, 'distance': 2635.02, 'enhanced_altitude': 173.79999999999995, 'enhanced_speed': 2.976, 'fractional_cadence': 0.5, 'heart_rate': 139, 'position_lat': 601757677, 'position_long': 362373075, 'speed': 2.976, 'timestamp': datetime.datetime(2024, 9, 11, 3, 50, 54)}\n",
      "{'altitude': 174.0, 'cadence': 84, 'distance': 2655.68, 'enhanced_altitude': 174.0, 'enhanced_speed': 2.976, 'fractional_cadence': 0.5, 'heart_rate': 140, 'position_lat': 601756557, 'position_long': 362370110, 'speed': 2.976, 'timestamp': datetime.datetime(2024, 9, 11, 3, 51, 1)}\n",
      "{'altitude': 172.20000000000005, 'cadence': 84, 'distance': 2676.21, 'enhanced_altitude': 172.20000000000005, 'enhanced_speed': 2.976, 'fractional_cadence': 0.5, 'heart_rate': 140, 'position_lat': 601755686, 'position_long': 362366983, 'speed': 2.976, 'timestamp': datetime.datetime(2024, 9, 11, 3, 51, 8)}\n",
      "{'altitude': 171.60000000000002, 'cadence': 83, 'distance': 2698.73, 'enhanced_altitude': 171.60000000000002, 'enhanced_speed': 2.986, 'fractional_cadence': 0.5, 'heart_rate': 139, 'position_lat': 601754957, 'position_long': 362363387, 'speed': 2.986, 'timestamp': datetime.datetime(2024, 9, 11, 3, 51, 15)}\n",
      "{'altitude': 171.60000000000002, 'cadence': 84, 'distance': 2721.07, 'enhanced_altitude': 171.60000000000002, 'enhanced_speed': 3.014, 'fractional_cadence': 0.5, 'heart_rate': 139, 'position_lat': 601754085, 'position_long': 362359902, 'speed': 3.014, 'timestamp': datetime.datetime(2024, 9, 11, 3, 51, 22)}\n",
      "{'altitude': 174.20000000000005, 'cadence': 83, 'distance': 2742.19, 'enhanced_altitude': 174.20000000000005, 'enhanced_speed': 3.023, 'fractional_cadence': 0.5, 'heart_rate': 138, 'position_lat': 601753270, 'position_long': 362356610, 'speed': 3.023, 'timestamp': datetime.datetime(2024, 9, 11, 3, 51, 29)}\n",
      "{'altitude': 177.60000000000002, 'cadence': 83, 'distance': 2761.69, 'enhanced_altitude': 177.60000000000002, 'enhanced_speed': 3.023, 'fractional_cadence': 0.5, 'heart_rate': 141, 'position_lat': 601752321, 'position_long': 362353696, 'speed': 3.023, 'timestamp': datetime.datetime(2024, 9, 11, 3, 51, 36)}\n",
      "{'altitude': 176.79999999999995, 'cadence': 84, 'distance': 2782.45, 'enhanced_altitude': 176.79999999999995, 'enhanced_speed': 3.014, 'fractional_cadence': 0.5, 'heart_rate': 142, 'position_lat': 601752014, 'position_long': 362350313, 'speed': 3.014, 'timestamp': datetime.datetime(2024, 9, 11, 3, 51, 43)}\n",
      "{'altitude': 174.20000000000005, 'cadence': 84, 'distance': 2804.58, 'enhanced_altitude': 174.20000000000005, 'enhanced_speed': 3.023, 'fractional_cadence': 0.5, 'heart_rate': 141, 'position_lat': 601753468, 'position_long': 362347526, 'speed': 3.023, 'timestamp': datetime.datetime(2024, 9, 11, 3, 51, 50)}\n",
      "{'altitude': 172.79999999999995, 'cadence': 84, 'distance': 2824.8, 'enhanced_altitude': 172.79999999999995, 'enhanced_speed': 3.051, 'fractional_cadence': 0.5, 'heart_rate': 140, 'position_lat': 601755517, 'position_long': 362346434, 'speed': 3.051, 'timestamp': datetime.datetime(2024, 9, 11, 3, 51, 56)}\n",
      "{'altitude': 172.0, 'cadence': 84, 'distance': 2845.5, 'enhanced_altitude': 172.0, 'enhanced_speed': 3.051, 'fractional_cadence': 0.5, 'heart_rate': 138, 'position_lat': 601757603, 'position_long': 362345261, 'speed': 3.051, 'timestamp': datetime.datetime(2024, 9, 11, 3, 52, 3)}\n",
      "{'altitude': 170.39999999999998, 'cadence': 84, 'distance': 2867.59, 'enhanced_altitude': 170.39999999999998, 'enhanced_speed': 3.051, 'fractional_cadence': 0.5, 'heart_rate': 139, 'position_lat': 601759603, 'position_long': 362343301, 'speed': 3.051, 'timestamp': datetime.datetime(2024, 9, 11, 3, 52, 10)}\n",
      "{'altitude': 168.39999999999998, 'cadence': 85, 'distance': 2889.98, 'enhanced_altitude': 168.39999999999998, 'enhanced_speed': 3.051, 'fractional_cadence': 0.5, 'heart_rate': 140, 'position_lat': 601761923, 'position_long': 362342462, 'speed': 3.051, 'timestamp': datetime.datetime(2024, 9, 11, 3, 52, 18)}\n",
      "{'altitude': 168.79999999999995, 'cadence': 84, 'distance': 2911.51, 'enhanced_altitude': 168.79999999999995, 'enhanced_speed': 3.042, 'fractional_cadence': 0.5, 'heart_rate': 142, 'position_lat': 601764214, 'position_long': 362341959, 'speed': 3.042, 'timestamp': datetime.datetime(2024, 9, 11, 3, 52, 25)}\n",
      "{'altitude': 167.79999999999995, 'cadence': 84, 'distance': 2932.83, 'enhanced_altitude': 167.79999999999995, 'enhanced_speed': 3.051, 'fractional_cadence': 0.5, 'heart_rate': 143, 'position_lat': 601766463, 'position_long': 362341326, 'speed': 3.051, 'timestamp': datetime.datetime(2024, 9, 11, 3, 52, 32)}\n",
      "{'altitude': 168.39999999999998, 'cadence': 84, 'distance': 2953.02, 'enhanced_altitude': 168.39999999999998, 'enhanced_speed': 3.051, 'fractional_cadence': 0.5, 'heart_rate': 142, 'position_lat': 601768556, 'position_long': 362340567, 'speed': 3.051, 'timestamp': datetime.datetime(2024, 9, 11, 3, 52, 39)}\n",
      "{'altitude': 170.0, 'cadence': 84, 'distance': 2974.09, 'enhanced_altitude': 170.0, 'enhanced_speed': 3.032, 'fractional_cadence': 0.5, 'heart_rate': 142, 'position_lat': 601770375, 'position_long': 362338468, 'speed': 3.032, 'timestamp': datetime.datetime(2024, 9, 11, 3, 52, 46)}\n",
      "{'altitude': 172.60000000000002, 'cadence': 85, 'distance': 2995.73, 'enhanced_altitude': 172.60000000000002, 'enhanced_speed': 3.051, 'fractional_cadence': 0.5, 'heart_rate': 142, 'position_lat': 601772578, 'position_long': 362337360, 'speed': 3.051, 'timestamp': datetime.datetime(2024, 9, 11, 3, 52, 53)}\n",
      "{'altitude': 175.79999999999995, 'cadence': 85, 'distance': 3018.62, 'enhanced_altitude': 175.79999999999995, 'enhanced_speed': 3.032, 'fractional_cadence': 0.5, 'heart_rate': 142, 'position_lat': 601775012, 'position_long': 362337554, 'speed': 3.032, 'timestamp': datetime.datetime(2024, 9, 11, 3, 53, 1)}\n",
      "{'altitude': 177.20000000000005, 'cadence': 84, 'distance': 3040.89, 'enhanced_altitude': 177.20000000000005, 'enhanced_speed': 3.032, 'fractional_cadence': 0.5, 'heart_rate': 143, 'position_lat': 601777361, 'position_long': 362337249, 'speed': 3.032, 'timestamp': datetime.datetime(2024, 9, 11, 3, 53, 8)}\n",
      "{'altitude': 178.39999999999998, 'cadence': 84, 'distance': 3054.86, 'enhanced_altitude': 178.39999999999998, 'enhanced_speed': 3.032, 'fractional_cadence': 0.5, 'heart_rate': 143, 'position_lat': 601778835, 'position_long': 362336918, 'speed': 3.032, 'timestamp': datetime.datetime(2024, 9, 11, 3, 53, 13)}\n",
      "{'altitude': 177.39999999999998, 'cadence': 84, 'distance': 3077.68, 'enhanced_altitude': 177.39999999999998, 'enhanced_speed': 3.014, 'fractional_cadence': 0.5, 'heart_rate': 143, 'position_lat': 601781088, 'position_long': 362335422, 'speed': 3.014, 'timestamp': datetime.datetime(2024, 9, 11, 3, 53, 21)}\n",
      "{'altitude': 172.79999999999995, 'cadence': 84, 'distance': 3099.12, 'enhanced_altitude': 172.79999999999995, 'enhanced_speed': 3.014, 'fractional_cadence': 0.5, 'heart_rate': 143, 'position_lat': 601783293, 'position_long': 362334413, 'speed': 3.014, 'timestamp': datetime.datetime(2024, 9, 11, 3, 53, 28)}\n",
      "{'altitude': 170.39999999999998, 'cadence': 84, 'distance': 3120.31, 'enhanced_altitude': 170.39999999999998, 'enhanced_speed': 3.014, 'fractional_cadence': 0.5, 'heart_rate': 143, 'position_lat': 601785501, 'position_long': 362333590, 'speed': 3.014, 'timestamp': datetime.datetime(2024, 9, 11, 3, 53, 35)}\n",
      "{'altitude': 169.79999999999995, 'cadence': 84, 'distance': 3131.79, 'enhanced_altitude': 169.79999999999995, 'enhanced_speed': 3.014, 'fractional_cadence': 0.5, 'heart_rate': 146, 'position_lat': 601786693, 'position_long': 362333140, 'speed': 3.014, 'timestamp': datetime.datetime(2024, 9, 11, 3, 53, 39)}\n",
      "{'altitude': 167.0, 'cadence': 84, 'distance': 3154.35, 'enhanced_altitude': 167.0, 'enhanced_speed': 3.004, 'fractional_cadence': 0.5, 'heart_rate': 146, 'position_lat': 601788364, 'position_long': 362330456, 'speed': 3.004, 'timestamp': datetime.datetime(2024, 9, 11, 3, 53, 47)}\n",
      "{'altitude': 166.79999999999995, 'cadence': 85, 'distance': 3176.03, 'enhanced_altitude': 166.79999999999995, 'enhanced_speed': 3.004, 'fractional_cadence': 0.5, 'heart_rate': 144, 'position_lat': 601790560, 'position_long': 362329309, 'speed': 3.004, 'timestamp': datetime.datetime(2024, 9, 11, 3, 53, 54)}\n",
      "{'altitude': 165.79999999999995, 'cadence': 84, 'distance': 3196.27, 'enhanced_altitude': 165.79999999999995, 'enhanced_speed': 3.004, 'fractional_cadence': 0.5, 'heart_rate': 146, 'position_lat': 601792639, 'position_long': 362328315, 'speed': 3.004, 'timestamp': datetime.datetime(2024, 9, 11, 3, 54, 1)}\n",
      "{'altitude': 166.79999999999995, 'cadence': 85, 'distance': 3217.22, 'enhanced_altitude': 166.79999999999995, 'enhanced_speed': 3.004, 'fractional_cadence': 0.5, 'heart_rate': 148, 'position_lat': 601794720, 'position_long': 362327011, 'speed': 3.004, 'timestamp': datetime.datetime(2024, 9, 11, 3, 54, 8)}\n",
      "{'altitude': 167.20000000000005, 'cadence': 85, 'distance': 3238.45, 'enhanced_altitude': 167.20000000000005, 'enhanced_speed': 3.014, 'fractional_cadence': 0.5, 'heart_rate': 146, 'position_lat': 601796882, 'position_long': 362325910, 'speed': 3.014, 'timestamp': datetime.datetime(2024, 9, 11, 3, 54, 15)}\n",
      "{'altitude': 166.60000000000002, 'cadence': 85, 'distance': 3256.71, 'enhanced_altitude': 166.60000000000002, 'enhanced_speed': 3.023, 'fractional_cadence': 0.5, 'heart_rate': 143, 'position_lat': 601798747, 'position_long': 362324993, 'speed': 3.023, 'timestamp': datetime.datetime(2024, 9, 11, 3, 54, 21)}\n",
      "{'altitude': 167.0, 'cadence': 85, 'distance': 3279.44, 'enhanced_altitude': 167.0, 'enhanced_speed': 3.004, 'fractional_cadence': 0.5, 'heart_rate': 146, 'position_lat': 601800875, 'position_long': 362323140, 'speed': 3.004, 'timestamp': datetime.datetime(2024, 9, 11, 3, 54, 29)}\n",
      "{'altitude': 168.79999999999995, 'cadence': 84, 'distance': 3300.19, 'enhanced_altitude': 168.79999999999995, 'enhanced_speed': 2.995, 'fractional_cadence': 0.5, 'heart_rate': 148, 'position_lat': 601802996, 'position_long': 362322097, 'speed': 2.995, 'timestamp': datetime.datetime(2024, 9, 11, 3, 54, 36)}\n",
      "{'altitude': 171.39999999999998, 'cadence': 85, 'distance': 3322.88, 'enhanced_altitude': 171.39999999999998, 'enhanced_speed': 2.995, 'fractional_cadence': 0.5, 'heart_rate': 149, 'position_lat': 601805309, 'position_long': 362320920, 'speed': 2.995, 'timestamp': datetime.datetime(2024, 9, 11, 3, 54, 44)}\n",
      "{'altitude': 169.0, 'cadence': 84, 'distance': 3345.57, 'enhanced_altitude': 169.0, 'enhanced_speed': 2.976, 'fractional_cadence': 0.5, 'heart_rate': 149, 'position_lat': 601807715, 'position_long': 362320369, 'speed': 2.976, 'timestamp': datetime.datetime(2024, 9, 11, 3, 54, 52)}\n",
      "{'altitude': 167.20000000000005, 'cadence': 85, 'distance': 3367.08, 'enhanced_altitude': 167.20000000000005, 'enhanced_speed': 2.958, 'fractional_cadence': 0.5, 'heart_rate': 147, 'position_lat': 601809942, 'position_long': 362320835, 'speed': 2.958, 'timestamp': datetime.datetime(2024, 9, 11, 3, 55)}\n",
      "{'altitude': 166.20000000000005, 'cadence': 85, 'distance': 3381.42, 'enhanced_altitude': 166.20000000000005, 'enhanced_speed': 2.93, 'fractional_cadence': 0.5, 'heart_rate': 144, 'position_lat': 601811129, 'position_long': 362322358, 'speed': 2.93, 'timestamp': datetime.datetime(2024, 9, 11, 3, 55, 5)}\n",
      "{'altitude': 165.39999999999998, 'cadence': 85, 'distance': 3402.45, 'enhanced_altitude': 165.39999999999998, 'enhanced_speed': 2.93, 'fractional_cadence': 0.5, 'heart_rate': 143, 'position_lat': 601812701, 'position_long': 362324865, 'speed': 2.93, 'timestamp': datetime.datetime(2024, 9, 11, 3, 55, 12)}\n",
      "{'altitude': 165.60000000000002, 'cadence': 85, 'distance': 3422.93, 'enhanced_altitude': 165.60000000000002, 'enhanced_speed': 2.911, 'fractional_cadence': 0.5, 'heart_rate': 143, 'position_lat': 601813422, 'position_long': 362328106, 'speed': 2.911, 'timestamp': datetime.datetime(2024, 9, 11, 3, 55, 19)}\n",
      "{'altitude': 166.60000000000002, 'cadence': 85, 'distance': 3443.05, 'enhanced_altitude': 166.60000000000002, 'enhanced_speed': 2.93, 'fractional_cadence': 0.5, 'heart_rate': 142, 'position_lat': 601813474, 'position_long': 362331393, 'speed': 2.93, 'timestamp': datetime.datetime(2024, 9, 11, 3, 55, 25)}\n",
      "{'altitude': 168.39999999999998, 'cadence': 85, 'distance': 3465.43, 'enhanced_altitude': 168.39999999999998, 'enhanced_speed': 2.939, 'fractional_cadence': 0.5, 'heart_rate': 144, 'position_lat': 601812787, 'position_long': 362334999, 'speed': 2.939, 'timestamp': datetime.datetime(2024, 9, 11, 3, 55, 33)}\n",
      "{'altitude': 168.60000000000002, 'cadence': 86, 'distance': 3487.4, 'enhanced_altitude': 168.60000000000002, 'enhanced_speed': 2.921, 'fractional_cadence': 0.5, 'heart_rate': 145, 'position_lat': 601812326, 'position_long': 362338624, 'speed': 2.921, 'timestamp': datetime.datetime(2024, 9, 11, 3, 55, 41)}\n",
      "{'altitude': 169.0, 'cadence': 85, 'distance': 3507.99, 'enhanced_altitude': 169.0, 'enhanced_speed': 2.921, 'fractional_cadence': 0.5, 'heart_rate': 146, 'position_lat': 601811767, 'position_long': 362341977, 'speed': 2.921, 'timestamp': datetime.datetime(2024, 9, 11, 3, 55, 48)}\n",
      "{'altitude': 169.39999999999998, 'cadence': 85, 'distance': 3528.17, 'enhanced_altitude': 169.39999999999998, 'enhanced_speed': 2.921, 'fractional_cadence': 0.5, 'heart_rate': 145, 'position_lat': 601811122, 'position_long': 362345208, 'speed': 2.921, 'timestamp': datetime.datetime(2024, 9, 11, 3, 55, 55)}\n",
      "{'altitude': 171.39999999999998, 'cadence': 86, 'distance': 3549.59, 'enhanced_altitude': 171.39999999999998, 'enhanced_speed': 2.911, 'fractional_cadence': 0.5, 'heart_rate': 147, 'position_lat': 601810219, 'position_long': 362348518, 'speed': 2.911, 'timestamp': datetime.datetime(2024, 9, 11, 3, 56, 2)}\n",
      "{'altitude': 174.0, 'cadence': 86, 'distance': 3571.89, 'enhanced_altitude': 174.0, 'enhanced_speed': 2.93, 'fractional_cadence': 0.5, 'heart_rate': 148, 'position_lat': 601809256, 'position_long': 362351935, 'speed': 2.93, 'timestamp': datetime.datetime(2024, 9, 11, 3, 56, 9)}\n",
      "{'altitude': 175.20000000000005, 'cadence': 86, 'distance': 3593.1, 'enhanced_altitude': 175.20000000000005, 'enhanced_speed': 2.93, 'fractional_cadence': 0.5, 'heart_rate': 149, 'position_lat': 601808320, 'position_long': 362355187, 'speed': 2.93, 'timestamp': datetime.datetime(2024, 9, 11, 3, 56, 16)}\n",
      "{'altitude': 176.0, 'cadence': 85, 'distance': 3614.98, 'enhanced_altitude': 176.0, 'enhanced_speed': 2.958, 'fractional_cadence': 0.5, 'heart_rate': 150, 'position_lat': 601807208, 'position_long': 362358434, 'speed': 2.958, 'timestamp': datetime.datetime(2024, 9, 11, 3, 56, 23)}\n",
      "{'altitude': 173.39999999999998, 'cadence': 85, 'distance': 3635.33, 'enhanced_altitude': 173.39999999999998, 'enhanced_speed': 2.967, 'fractional_cadence': 0.5, 'heart_rate': 150, 'position_lat': 601806576, 'position_long': 362361671, 'speed': 2.967, 'timestamp': datetime.datetime(2024, 9, 11, 3, 56, 30)}\n",
      "{'altitude': 173.39999999999998, 'cadence': 85, 'distance': 3656.8, 'enhanced_altitude': 173.39999999999998, 'enhanced_speed': 2.865, 'fractional_cadence': 0.5, 'heart_rate': 150, 'position_lat': 601807665, 'position_long': 362364869, 'speed': 2.865, 'timestamp': datetime.datetime(2024, 9, 11, 3, 56, 40)}\n",
      "{'altitude': 172.20000000000005, 'cadence': 85, 'distance': 3679.09, 'enhanced_altitude': 172.20000000000005, 'enhanced_speed': 2.715, 'fractional_cadence': 0.5, 'heart_rate': 150, 'position_lat': 601809640, 'position_long': 362366993, 'speed': 2.715, 'timestamp': datetime.datetime(2024, 9, 11, 3, 56, 50)}\n",
      "{'altitude': 168.0, 'cadence': 86, 'distance': 3700.84, 'enhanced_altitude': 168.0, 'enhanced_speed': 2.753, 'fractional_cadence': 0.5, 'heart_rate': 149, 'position_lat': 601811458, 'position_long': 362369253, 'speed': 2.753, 'timestamp': datetime.datetime(2024, 9, 11, 3, 56, 58)}\n",
      "{'altitude': 164.60000000000002, 'cadence': 86, 'distance': 3722.47, 'enhanced_altitude': 164.60000000000002, 'enhanced_speed': 2.734, 'fractional_cadence': 0.5, 'heart_rate': 150, 'position_lat': 601813443, 'position_long': 362371091, 'speed': 2.734, 'timestamp': datetime.datetime(2024, 9, 11, 3, 57, 6)}\n",
      "{'altitude': 163.79999999999995, 'cadence': 85, 'distance': 3744.16, 'enhanced_altitude': 163.79999999999995, 'enhanced_speed': 2.781, 'fractional_cadence': 0.5, 'heart_rate': 148, 'position_lat': 601815383, 'position_long': 362373052, 'speed': 2.781, 'timestamp': datetime.datetime(2024, 9, 11, 3, 57, 13)}\n",
      "{'altitude': 162.20000000000005, 'cadence': 85, 'distance': 3767.12, 'enhanced_altitude': 162.20000000000005, 'enhanced_speed': 2.855, 'fractional_cadence': 0.5, 'heart_rate': 149, 'position_lat': 601816543, 'position_long': 362376441, 'speed': 2.855, 'timestamp': datetime.datetime(2024, 9, 11, 3, 57, 20)}\n",
      "{'altitude': 160.79999999999995, 'cadence': 84, 'distance': 3787.29, 'enhanced_altitude': 160.79999999999995, 'enhanced_speed': 2.911, 'fractional_cadence': 0.5, 'heart_rate': 148, 'position_lat': 601817165, 'position_long': 362379706, 'speed': 2.911, 'timestamp': datetime.datetime(2024, 9, 11, 3, 57, 26)}\n",
      "{'altitude': 165.39999999999998, 'cadence': 85, 'distance': 3808.77, 'enhanced_altitude': 165.39999999999998, 'enhanced_speed': 2.976, 'fractional_cadence': 0.5, 'heart_rate': 150, 'position_lat': 601817402, 'position_long': 362383299, 'speed': 2.976, 'timestamp': datetime.datetime(2024, 9, 11, 3, 57, 32)}\n",
      "{'altitude': 168.79999999999995, 'cadence': 84, 'distance': 3830.94, 'enhanced_altitude': 168.79999999999995, 'enhanced_speed': 3.023, 'fractional_cadence': 0.5, 'heart_rate': 150, 'position_lat': 601817071, 'position_long': 362387025, 'speed': 3.023, 'timestamp': datetime.datetime(2024, 9, 11, 3, 57, 39)}\n",
      "{'altitude': 170.60000000000002, 'cadence': 84, 'distance': 3853.76, 'enhanced_altitude': 170.60000000000002, 'enhanced_speed': 3.088, 'fractional_cadence': 0.5, 'heart_rate': 150, 'position_lat': 601816412, 'position_long': 362390711, 'speed': 3.088, 'timestamp': datetime.datetime(2024, 9, 11, 3, 57, 46)}\n",
      "{'altitude': 173.0, 'cadence': 85, 'distance': 3876.59, 'enhanced_altitude': 173.0, 'enhanced_speed': 3.07, 'fractional_cadence': 0.5, 'heart_rate': 149, 'position_lat': 601815462, 'position_long': 362394248, 'speed': 3.07, 'timestamp': datetime.datetime(2024, 9, 11, 3, 57, 54)}\n",
      "{'altitude': 172.0, 'cadence': 84, 'distance': 3896.85, 'enhanced_altitude': 172.0, 'enhanced_speed': 3.107, 'fractional_cadence': 0.5, 'heart_rate': 149, 'position_lat': 601814633, 'position_long': 362397387, 'speed': 3.107, 'timestamp': datetime.datetime(2024, 9, 11, 3, 58)}\n",
      "{'altitude': 171.39999999999998, 'cadence': 84, 'distance': 3919.52, 'enhanced_altitude': 171.39999999999998, 'enhanced_speed': 3.098, 'fractional_cadence': 0.5, 'heart_rate': 150, 'position_lat': 601813493, 'position_long': 362400755, 'speed': 3.098, 'timestamp': datetime.datetime(2024, 9, 11, 3, 58, 8)}\n",
      "{'altitude': 169.0, 'cadence': 84, 'distance': 3940.8, 'enhanced_altitude': 169.0, 'enhanced_speed': 3.023, 'fractional_cadence': 0.5, 'heart_rate': 150, 'position_lat': 601812171, 'position_long': 362403658, 'speed': 3.023, 'timestamp': datetime.datetime(2024, 9, 11, 3, 58, 16)}\n",
      "{'altitude': 166.39999999999998, 'cadence': 84, 'distance': 3963.45, 'enhanced_altitude': 166.39999999999998, 'enhanced_speed': 3.032, 'fractional_cadence': 0.5, 'heart_rate': 148, 'position_lat': 601810762, 'position_long': 362406763, 'speed': 3.032, 'timestamp': datetime.datetime(2024, 9, 11, 3, 58, 23)}\n",
      "{'altitude': 165.39999999999998, 'cadence': 85, 'distance': 3984.74, 'enhanced_altitude': 165.39999999999998, 'enhanced_speed': 3.042, 'fractional_cadence': 0.5, 'heart_rate': 147, 'position_lat': 601809150, 'position_long': 362409255, 'speed': 3.042, 'timestamp': datetime.datetime(2024, 9, 11, 3, 58, 30)}\n",
      "{'altitude': 164.39999999999998, 'cadence': 84, 'distance': 4004.85, 'enhanced_altitude': 164.39999999999998, 'enhanced_speed': 3.032, 'fractional_cadence': 0.5, 'heart_rate': 148, 'position_lat': 601807186, 'position_long': 362410632, 'speed': 3.032, 'timestamp': datetime.datetime(2024, 9, 11, 3, 58, 37)}\n",
      "{'altitude': 166.20000000000005, 'cadence': 84, 'distance': 4025.86, 'enhanced_altitude': 166.20000000000005, 'enhanced_speed': 2.976, 'fractional_cadence': 0.5, 'heart_rate': 150, 'position_lat': 601805901, 'position_long': 362413377, 'speed': 2.976, 'timestamp': datetime.datetime(2024, 9, 11, 3, 58, 45)}\n",
      "{'altitude': 168.39999999999998, 'cadence': 84, 'distance': 4047.69, 'enhanced_altitude': 168.39999999999998, 'enhanced_speed': 2.986, 'fractional_cadence': 0.5, 'heart_rate': 150, 'position_lat': 601805402, 'position_long': 362416959, 'speed': 2.986, 'timestamp': datetime.datetime(2024, 9, 11, 3, 58, 52)}\n",
      "{'altitude': 167.79999999999995, 'cadence': 84, 'distance': 4063.07, 'enhanced_altitude': 167.79999999999995, 'enhanced_speed': 2.986, 'fractional_cadence': 0.5, 'heart_rate': 153, 'position_lat': 601804919, 'position_long': 362419423, 'speed': 2.986, 'timestamp': datetime.datetime(2024, 9, 11, 3, 58, 57)}\n",
      "{'altitude': 167.60000000000002, 'cadence': 85, 'distance': 4068.6, 'enhanced_altitude': 167.60000000000002, 'enhanced_speed': 2.995, 'fractional_cadence': 0.5, 'heart_rate': 150, 'position_lat': 601804644, 'position_long': 362420248, 'speed': 2.995, 'timestamp': datetime.datetime(2024, 9, 11, 3, 58, 59)}\n",
      "{'altitude': 167.0, 'cadence': 85, 'distance': 4090.61, 'enhanced_altitude': 167.0, 'enhanced_speed': 2.967, 'fractional_cadence': 0.5, 'heart_rate': 151, 'position_lat': 601802577, 'position_long': 362421788, 'speed': 2.967, 'timestamp': datetime.datetime(2024, 9, 11, 3, 59, 7)}\n",
      "{'altitude': 166.20000000000005, 'cadence': 84, 'distance': 4111.23, 'enhanced_altitude': 166.20000000000005, 'enhanced_speed': 2.939, 'fractional_cadence': 0.5, 'heart_rate': 151, 'position_lat': 601800409, 'position_long': 362422475, 'speed': 2.939, 'timestamp': datetime.datetime(2024, 9, 11, 3, 59, 15)}\n",
      "{'altitude': 164.0, 'cadence': 84, 'distance': 4131.5, 'enhanced_altitude': 164.0, 'enhanced_speed': 2.883, 'fractional_cadence': 0.5, 'heart_rate': 153, 'position_lat': 601798246, 'position_long': 362422639, 'speed': 2.883, 'timestamp': datetime.datetime(2024, 9, 11, 3, 59, 23)}\n",
      "{'altitude': 163.79999999999995, 'cadence': 84, 'distance': 4151.77, 'enhanced_altitude': 163.79999999999995, 'enhanced_speed': 2.865, 'fractional_cadence': 0.5, 'heart_rate': 153, 'position_lat': 601796133, 'position_long': 362423442, 'speed': 2.865, 'timestamp': datetime.datetime(2024, 9, 11, 3, 59, 30)}\n",
      "{'altitude': 170.39999999999998, 'cadence': 84, 'distance': 4172.07, 'enhanced_altitude': 170.39999999999998, 'enhanced_speed': 2.837, 'fractional_cadence': 0.5, 'heart_rate': 153, 'position_lat': 601794104, 'position_long': 362424728, 'speed': 2.837, 'timestamp': datetime.datetime(2024, 9, 11, 3, 59, 38)}\n",
      "{'altitude': 178.0, 'cadence': 85, 'distance': 4195.32, 'enhanced_altitude': 178.0, 'enhanced_speed': 2.818, 'fractional_cadence': 0.5, 'heart_rate': 153, 'position_lat': 601791810, 'position_long': 362426349, 'speed': 2.818, 'timestamp': datetime.datetime(2024, 9, 11, 3, 59, 46)}\n",
      "{'altitude': 181.0, 'cadence': 84, 'distance': 4217.81, 'enhanced_altitude': 181.0, 'enhanced_speed': 2.827, 'fractional_cadence': 0.5, 'heart_rate': 153, 'position_lat': 601789516, 'position_long': 362427536, 'speed': 2.827, 'timestamp': datetime.datetime(2024, 9, 11, 3, 59, 54)}\n",
      "{'altitude': 179.20000000000005, 'cadence': 85, 'distance': 4239.18, 'enhanced_altitude': 179.20000000000005, 'enhanced_speed': 2.818, 'fractional_cadence': 0.5, 'heart_rate': 153, 'position_lat': 601787325, 'position_long': 362428612, 'speed': 2.818, 'timestamp': datetime.datetime(2024, 9, 11, 4, 0, 2)}\n",
      "{'altitude': 178.60000000000002, 'cadence': 85, 'distance': 4261.25, 'enhanced_altitude': 178.60000000000002, 'enhanced_speed': 2.781, 'fractional_cadence': 0.5, 'heart_rate': 154, 'position_lat': 601785018, 'position_long': 362429233, 'speed': 2.781, 'timestamp': datetime.datetime(2024, 9, 11, 4, 0, 10)}\n",
      "{'altitude': 174.39999999999998, 'cadence': 84, 'distance': 4284.2, 'enhanced_altitude': 174.39999999999998, 'enhanced_speed': 2.809, 'fractional_cadence': 0.5, 'heart_rate': 154, 'position_lat': 601782690, 'position_long': 362428177, 'speed': 2.809, 'timestamp': datetime.datetime(2024, 9, 11, 4, 0, 17)}\n",
      "{'altitude': 172.39999999999998, 'cadence': 86, 'distance': 4304.68, 'enhanced_altitude': 172.39999999999998, 'enhanced_speed': 2.874, 'fractional_cadence': 0.5, 'heart_rate': 153, 'position_lat': 601780707, 'position_long': 362426695, 'speed': 2.874, 'timestamp': datetime.datetime(2024, 9, 11, 4, 0, 23)}\n",
      "{'altitude': 171.60000000000002, 'cadence': 85, 'distance': 4324.51, 'enhanced_altitude': 171.60000000000002, 'enhanced_speed': 2.846, 'fractional_cadence': 0.5, 'heart_rate': 150, 'position_lat': 601778679, 'position_long': 362425670, 'speed': 2.846, 'timestamp': datetime.datetime(2024, 9, 11, 4, 0, 30)}\n",
      "{'altitude': 175.20000000000005, 'cadence': 84, 'distance': 4344.83, 'enhanced_altitude': 175.20000000000005, 'enhanced_speed': 2.855, 'fractional_cadence': 0.5, 'heart_rate': 152, 'position_lat': 601776660, 'position_long': 362424410, 'speed': 2.855, 'timestamp': datetime.datetime(2024, 9, 11, 4, 0, 37)}\n",
      "{'altitude': 175.60000000000002, 'cadence': 84, 'distance': 4365.72, 'enhanced_altitude': 175.60000000000002, 'enhanced_speed': 2.865, 'fractional_cadence': 0.5, 'heart_rate': 152, 'position_lat': 601774694, 'position_long': 362422730, 'speed': 2.865, 'timestamp': datetime.datetime(2024, 9, 11, 4, 0, 44)}\n",
      "{'altitude': 177.0, 'cadence': 84, 'distance': 4387.9, 'enhanced_altitude': 177.0, 'enhanced_speed': 2.911, 'fractional_cadence': 0.5, 'heart_rate': 151, 'position_lat': 601772433, 'position_long': 362421563, 'speed': 2.911, 'timestamp': datetime.datetime(2024, 9, 11, 4, 0, 51)}\n",
      "{'altitude': 176.79999999999995, 'cadence': 84, 'distance': 4409.72, 'enhanced_altitude': 176.79999999999995, 'enhanced_speed': 2.958, 'fractional_cadence': 0.5, 'heart_rate': 151, 'position_lat': 601771003, 'position_long': 362418642, 'speed': 2.958, 'timestamp': datetime.datetime(2024, 9, 11, 4, 0, 58)}\n",
      "{'altitude': 178.60000000000002, 'cadence': 84, 'distance': 4432.26, 'enhanced_altitude': 178.60000000000002, 'enhanced_speed': 3.004, 'fractional_cadence': 0.5, 'heart_rate': 150, 'position_lat': 601769922, 'position_long': 362415251, 'speed': 3.004, 'timestamp': datetime.datetime(2024, 9, 11, 4, 1, 5)}\n",
      "{'altitude': 178.60000000000002, 'cadence': 84, 'distance': 4452.73, 'enhanced_altitude': 178.60000000000002, 'enhanced_speed': 3.004, 'fractional_cadence': 0.5, 'heart_rate': 152, 'position_lat': 601768766, 'position_long': 362412294, 'speed': 3.004, 'timestamp': datetime.datetime(2024, 9, 11, 4, 1, 12)}\n",
      "{'altitude': 177.39999999999998, 'cadence': 85, 'distance': 4473.59, 'enhanced_altitude': 177.39999999999998, 'enhanced_speed': 3.014, 'fractional_cadence': 0.5, 'heart_rate': 151, 'position_lat': 601767894, 'position_long': 362409075, 'speed': 3.014, 'timestamp': datetime.datetime(2024, 9, 11, 4, 1, 19)}\n",
      "{'altitude': 176.60000000000002, 'cadence': 86, 'distance': 4496.73, 'enhanced_altitude': 176.60000000000002, 'enhanced_speed': 3.042, 'fractional_cadence': 0.5, 'heart_rate': 149, 'position_lat': 601766354, 'position_long': 362406034, 'speed': 3.042, 'timestamp': datetime.datetime(2024, 9, 11, 4, 1, 26)}\n",
      "{'altitude': 178.79999999999995, 'cadence': 85, 'distance': 4516.77, 'enhanced_altitude': 178.79999999999995, 'enhanced_speed': 3.06, 'fractional_cadence': 0.5, 'heart_rate': 151, 'position_lat': 601765383, 'position_long': 362403047, 'speed': 3.06, 'timestamp': datetime.datetime(2024, 9, 11, 4, 1, 33)}\n",
      "{'altitude': 180.0, 'cadence': 84, 'distance': 4538.86, 'enhanced_altitude': 180.0, 'enhanced_speed': 3.023, 'fractional_cadence': 0.5, 'heart_rate': 149, 'position_lat': 601764563, 'position_long': 362399558, 'speed': 3.023, 'timestamp': datetime.datetime(2024, 9, 11, 4, 1, 41)}\n",
      "{'altitude': 180.39999999999998, 'cadence': 85, 'distance': 4560.08, 'enhanced_altitude': 180.39999999999998, 'enhanced_speed': 3.023, 'fractional_cadence': 0.5, 'heart_rate': 150, 'position_lat': 601763953, 'position_long': 362396124, 'speed': 3.023, 'timestamp': datetime.datetime(2024, 9, 11, 4, 1, 48)}\n",
      "{'altitude': 181.20000000000005, 'cadence': 85, 'distance': 4581.62, 'enhanced_altitude': 181.20000000000005, 'enhanced_speed': 3.032, 'fractional_cadence': 0.5, 'heart_rate': 151, 'position_lat': 601763415, 'position_long': 362392616, 'speed': 3.032, 'timestamp': datetime.datetime(2024, 9, 11, 4, 1, 55)}\n",
      "{'altitude': 181.79999999999995, 'cadence': 85, 'distance': 4600.8, 'enhanced_altitude': 181.79999999999995, 'enhanced_speed': 3.042, 'fractional_cadence': 0.5, 'heart_rate': 148, 'position_lat': 601762880, 'position_long': 362389506, 'speed': 3.042, 'timestamp': datetime.datetime(2024, 9, 11, 4, 2, 1)}\n",
      "{'altitude': 180.79999999999995, 'cadence': 85, 'distance': 4622.48, 'enhanced_altitude': 180.79999999999995, 'enhanced_speed': 3.06, 'fractional_cadence': 0.5, 'heart_rate': 149, 'position_lat': 601762436, 'position_long': 362385941, 'speed': 3.06, 'timestamp': datetime.datetime(2024, 9, 11, 4, 2, 8)}\n",
      "{'altitude': 179.39999999999998, 'cadence': 85, 'distance': 4644.64, 'enhanced_altitude': 179.39999999999998, 'enhanced_speed': 3.042, 'fractional_cadence': 0.5, 'heart_rate': 150, 'position_lat': 601761535, 'position_long': 362382600, 'speed': 3.042, 'timestamp': datetime.datetime(2024, 9, 11, 4, 2, 16)}\n",
      "{'altitude': 178.0, 'cadence': 85, 'distance': 4666.1, 'enhanced_altitude': 178.0, 'enhanced_speed': 3.032, 'fractional_cadence': 0.5, 'heart_rate': 151, 'position_lat': 601759898, 'position_long': 362380080, 'speed': 3.032, 'timestamp': datetime.datetime(2024, 9, 11, 4, 2, 23)}\n",
      "{'altitude': 175.79999999999995, 'cadence': 85, 'distance': 4687.46, 'enhanced_altitude': 175.79999999999995, 'enhanced_speed': 3.042, 'fractional_cadence': 0.5, 'heart_rate': 151, 'position_lat': 601758940, 'position_long': 362376827, 'speed': 3.042, 'timestamp': datetime.datetime(2024, 9, 11, 4, 2, 30)}\n",
      "{'altitude': 175.0, 'cadence': 85, 'distance': 4707.78, 'enhanced_altitude': 175.0, 'enhanced_speed': 3.051, 'fractional_cadence': 0.5, 'heart_rate': 151, 'position_lat': 601758124, 'position_long': 362373670, 'speed': 3.051, 'timestamp': datetime.datetime(2024, 9, 11, 4, 2, 37)}\n",
      "{'altitude': 177.60000000000002, 'cadence': 85, 'distance': 4728.83, 'enhanced_altitude': 177.60000000000002, 'enhanced_speed': 3.042, 'fractional_cadence': 0.5, 'heart_rate': 150, 'position_lat': 601757098, 'position_long': 362370535, 'speed': 3.042, 'timestamp': datetime.datetime(2024, 9, 11, 4, 2, 44)}\n",
      "{'altitude': 175.79999999999995, 'cadence': 84, 'distance': 4749.23, 'enhanced_altitude': 175.79999999999995, 'enhanced_speed': 3.032, 'fractional_cadence': 0.5, 'heart_rate': 152, 'position_lat': 601756044, 'position_long': 362367551, 'speed': 3.032, 'timestamp': datetime.datetime(2024, 9, 11, 4, 2, 51)}\n",
      "{'altitude': 175.0, 'cadence': 85, 'distance': 4771.35, 'enhanced_altitude': 175.0, 'enhanced_speed': 3.032, 'fractional_cadence': 0.5, 'heart_rate': 151, 'position_lat': 601755243, 'position_long': 362364060, 'speed': 3.032, 'timestamp': datetime.datetime(2024, 9, 11, 4, 2, 58)}\n",
      "{'altitude': 176.20000000000005, 'cadence': 85, 'distance': 4793.35, 'enhanced_altitude': 176.20000000000005, 'enhanced_speed': 3.051, 'fractional_cadence': 0.5, 'heart_rate': 152, 'position_lat': 601754262, 'position_long': 362360693, 'speed': 3.051, 'timestamp': datetime.datetime(2024, 9, 11, 4, 3, 5)}\n",
      "{'altitude': 176.39999999999998, 'cadence': 85, 'distance': 4815.07, 'enhanced_altitude': 176.39999999999998, 'enhanced_speed': 3.06, 'fractional_cadence': 0.5, 'heart_rate': 150, 'position_lat': 601753405, 'position_long': 362357296, 'speed': 3.06, 'timestamp': datetime.datetime(2024, 9, 11, 4, 3, 12)}\n",
      "{'altitude': 173.79999999999995, 'cadence': 85, 'distance': 4837.54, 'enhanced_altitude': 173.79999999999995, 'enhanced_speed': 3.051, 'fractional_cadence': 0.5, 'heart_rate': 152, 'position_lat': 601752311, 'position_long': 362353935, 'speed': 3.051, 'timestamp': datetime.datetime(2024, 9, 11, 4, 3, 20)}\n",
      "{'altitude': 174.0, 'cadence': 84, 'distance': 4859.62, 'enhanced_altitude': 174.0, 'enhanced_speed': 3.051, 'fractional_cadence': 0.5, 'heart_rate': 150, 'position_lat': 601752063, 'position_long': 362350303, 'speed': 3.051, 'timestamp': datetime.datetime(2024, 9, 11, 4, 3, 27)}\n",
      "{'altitude': 172.39999999999998, 'cadence': 85, 'distance': 4873.83, 'enhanced_altitude': 172.39999999999998, 'enhanced_speed': 3.051, 'fractional_cadence': 0.5, 'heart_rate': 147, 'position_lat': 601752843, 'position_long': 362348279, 'speed': 3.051, 'timestamp': datetime.datetime(2024, 9, 11, 4, 3, 31)}\n",
      "{'altitude': 170.60000000000002, 'cadence': 86, 'distance': 4894.44, 'enhanced_altitude': 170.60000000000002, 'enhanced_speed': 3.088, 'fractional_cadence': 0.5, 'heart_rate': 149, 'position_lat': 601754885, 'position_long': 362347086, 'speed': 3.088, 'timestamp': datetime.datetime(2024, 9, 11, 4, 3, 37)}\n",
      "{'altitude': 167.39999999999998, 'cadence': 86, 'distance': 4916.64, 'enhanced_altitude': 167.39999999999998, 'enhanced_speed': 3.107, 'fractional_cadence': 0.5, 'heart_rate': 150, 'position_lat': 601757160, 'position_long': 362346026, 'speed': 3.107, 'timestamp': datetime.datetime(2024, 9, 11, 4, 3, 44)}\n",
      "{'altitude': 167.39999999999998, 'cadence': 85, 'distance': 4938.98, 'enhanced_altitude': 167.39999999999998, 'enhanced_speed': 3.116, 'fractional_cadence': 0.5, 'heart_rate': 151, 'position_lat': 601759199, 'position_long': 362344072, 'speed': 3.116, 'timestamp': datetime.datetime(2024, 9, 11, 4, 3, 51)}\n",
      "{'altitude': 167.79999999999995, 'cadence': 85, 'distance': 4960.55, 'enhanced_altitude': 167.79999999999995, 'enhanced_speed': 3.126, 'fractional_cadence': 0.5, 'heart_rate': 152, 'position_lat': 601761360, 'position_long': 362342894, 'speed': 3.126, 'timestamp': datetime.datetime(2024, 9, 11, 4, 3, 58)}\n",
      "{'altitude': 169.39999999999998, 'cadence': 85, 'distance': 4982.31, 'enhanced_altitude': 169.39999999999998, 'enhanced_speed': 3.116, 'fractional_cadence': 0.5, 'heart_rate': 151, 'position_lat': 601763653, 'position_long': 362342174, 'speed': 3.116, 'timestamp': datetime.datetime(2024, 9, 11, 4, 4, 5)}\n",
      "{'altitude': 170.79999999999995, 'cadence': 85, 'distance': 5003.23, 'enhanced_altitude': 170.79999999999995, 'enhanced_speed': 3.116, 'fractional_cadence': 0.5, 'heart_rate': 150, 'position_lat': 601765851, 'position_long': 362341440, 'speed': 3.116, 'timestamp': datetime.datetime(2024, 9, 11, 4, 4, 12)}\n",
      "{'altitude': 171.79999999999995, 'cadence': 84, 'distance': 5023.87, 'enhanced_altitude': 171.79999999999995, 'enhanced_speed': 3.088, 'fractional_cadence': 0.5, 'heart_rate': 151, 'position_lat': 601768028, 'position_long': 362340901, 'speed': 3.088, 'timestamp': datetime.datetime(2024, 9, 11, 4, 4, 19)}\n",
      "{'altitude': 171.20000000000005, 'cadence': 85, 'distance': 5046.22, 'enhanced_altitude': 171.20000000000005, 'enhanced_speed': 3.088, 'fractional_cadence': 0.5, 'heart_rate': 153, 'position_lat': 601770089, 'position_long': 362339008, 'speed': 3.088, 'timestamp': datetime.datetime(2024, 9, 11, 4, 4, 26)}\n",
      "{'altitude': 170.79999999999995, 'cadence': 85, 'distance': 5068.3, 'enhanced_altitude': 170.79999999999995, 'enhanced_speed': 3.107, 'fractional_cadence': 0.5, 'heart_rate': 152, 'position_lat': 601772286, 'position_long': 362337736, 'speed': 3.107, 'timestamp': datetime.datetime(2024, 9, 11, 4, 4, 33)}\n",
      "{'altitude': 171.60000000000002, 'cadence': 84, 'distance': 5089.44, 'enhanced_altitude': 171.60000000000002, 'enhanced_speed': 3.107, 'fractional_cadence': 0.5, 'heart_rate': 151, 'position_lat': 601774541, 'position_long': 362337586, 'speed': 3.107, 'timestamp': datetime.datetime(2024, 9, 11, 4, 4, 40)}\n",
      "{'altitude': 171.79999999999995, 'cadence': 86, 'distance': 5107.97, 'enhanced_altitude': 171.79999999999995, 'enhanced_speed': 3.098, 'fractional_cadence': 0.5, 'heart_rate': 154, 'position_lat': 601776523, 'position_long': 362337494, 'speed': 3.098, 'timestamp': datetime.datetime(2024, 9, 11, 4, 4, 46)}\n",
      "{'altitude': 172.0, 'cadence': 86, 'distance': 5130.14, 'enhanced_altitude': 172.0, 'enhanced_speed': 3.079, 'fractional_cadence': 0.5, 'heart_rate': 153, 'position_lat': 601778865, 'position_long': 362336877, 'speed': 3.079, 'timestamp': datetime.datetime(2024, 9, 11, 4, 4, 54)}\n",
      "{'altitude': 171.0, 'cadence': 85, 'distance': 5151.98, 'enhanced_altitude': 171.0, 'enhanced_speed': 3.06, 'fractional_cadence': 0.5, 'heart_rate': 154, 'position_lat': 601781022, 'position_long': 362335421, 'speed': 3.06, 'timestamp': datetime.datetime(2024, 9, 11, 4, 5, 1)}\n",
      "{'altitude': 169.60000000000002, 'cadence': 86, 'distance': 5168.16, 'enhanced_altitude': 169.60000000000002, 'enhanced_speed': 3.07, 'fractional_cadence': 0.5, 'heart_rate': 151, 'position_lat': 601782680, 'position_long': 362334618, 'speed': 3.07, 'timestamp': datetime.datetime(2024, 9, 11, 4, 5, 6)}\n",
      "{'altitude': 169.39999999999998, 'cadence': 86, 'distance': 5185.39, 'enhanced_altitude': 169.39999999999998, 'enhanced_speed': 3.07, 'fractional_cadence': 0.5, 'heart_rate': 154, 'position_lat': 601784476, 'position_long': 362333955, 'speed': 3.07, 'timestamp': datetime.datetime(2024, 9, 11, 4, 5, 12)}\n",
      "{'altitude': 169.20000000000005, 'cadence': 86, 'distance': 5207.42, 'enhanced_altitude': 169.20000000000005, 'enhanced_speed': 3.032, 'fractional_cadence': 0.5, 'heart_rate': 154, 'position_lat': 601786718, 'position_long': 362333008, 'speed': 3.032, 'timestamp': datetime.datetime(2024, 9, 11, 4, 5, 20)}\n",
      "{'altitude': 167.60000000000002, 'cadence': 85, 'distance': 5228.77, 'enhanced_altitude': 167.60000000000002, 'enhanced_speed': 3.023, 'fractional_cadence': 0.5, 'heart_rate': 153, 'position_lat': 601788308, 'position_long': 362330446, 'speed': 3.023, 'timestamp': datetime.datetime(2024, 9, 11, 4, 5, 27)}\n",
      "{'altitude': 168.0, 'cadence': 86, 'distance': 5251.58, 'enhanced_altitude': 168.0, 'enhanced_speed': 3.032, 'fractional_cadence': 0.5, 'heart_rate': 153, 'position_lat': 601790610, 'position_long': 362329167, 'speed': 3.032, 'timestamp': datetime.datetime(2024, 9, 11, 4, 5, 34)}\n",
      "{'altitude': 168.79999999999995, 'cadence': 85, 'distance': 5271.88, 'enhanced_altitude': 168.79999999999995, 'enhanced_speed': 3.032, 'fractional_cadence': 0.5, 'heart_rate': 154, 'position_lat': 601792705, 'position_long': 362328341, 'speed': 3.032, 'timestamp': datetime.datetime(2024, 9, 11, 4, 5, 41)}\n",
      "{'altitude': 171.60000000000002, 'cadence': 85, 'distance': 5295.15, 'enhanced_altitude': 171.60000000000002, 'enhanced_speed': 3.004, 'fractional_cadence': 0.5, 'heart_rate': 154, 'position_lat': 601795005, 'position_long': 362326891, 'speed': 3.004, 'timestamp': datetime.datetime(2024, 9, 11, 4, 5, 49)}\n",
      "{'altitude': 171.20000000000005, 'cadence': 85, 'distance': 5315.69, 'enhanced_altitude': 171.20000000000005, 'enhanced_speed': 3.004, 'fractional_cadence': 0.5, 'heart_rate': 155, 'position_lat': 601797113, 'position_long': 362325912, 'speed': 3.004, 'timestamp': datetime.datetime(2024, 9, 11, 4, 5, 56)}\n",
      "{'altitude': 169.60000000000002, 'cadence': 85, 'distance': 5337.76, 'enhanced_altitude': 169.60000000000002, 'enhanced_speed': 2.967, 'fractional_cadence': 0.5, 'heart_rate': 156, 'position_lat': 601799345, 'position_long': 362324697, 'speed': 2.967, 'timestamp': datetime.datetime(2024, 9, 11, 4, 6, 4)}\n",
      "{'altitude': 170.39999999999998, 'cadence': 86, 'distance': 5360.38, 'enhanced_altitude': 170.39999999999998, 'enhanced_speed': 2.986, 'fractional_cadence': 0.5, 'heart_rate': 157, 'position_lat': 601801499, 'position_long': 362322986, 'speed': 2.986, 'timestamp': datetime.datetime(2024, 9, 11, 4, 6, 11)}\n",
      "{'altitude': 172.0, 'cadence': 85, 'distance': 5381.13, 'enhanced_altitude': 172.0, 'enhanced_speed': 2.976, 'fractional_cadence': 0.5, 'heart_rate': 157, 'position_lat': 601803645, 'position_long': 362322074, 'speed': 2.976, 'timestamp': datetime.datetime(2024, 9, 11, 4, 6, 18)}\n",
      "{'altitude': 171.20000000000005, 'cadence': 85, 'distance': 5402.65, 'enhanced_altitude': 171.20000000000005, 'enhanced_speed': 2.986, 'fractional_cadence': 0.5, 'heart_rate': 157, 'position_lat': 601805828, 'position_long': 362320953, 'speed': 2.986, 'timestamp': datetime.datetime(2024, 9, 11, 4, 6, 25)}\n",
      "{'altitude': 169.79999999999995, 'cadence': 84, 'distance': 5419.97, 'enhanced_altitude': 169.79999999999995, 'enhanced_speed': 2.986, 'fractional_cadence': 0.5, 'heart_rate': 154, 'position_lat': 601807672, 'position_long': 362320627, 'speed': 2.986, 'timestamp': datetime.datetime(2024, 9, 11, 4, 6, 31)}\n",
      "{'altitude': 168.39999999999998, 'cadence': 85, 'distance': 5441.89, 'enhanced_altitude': 168.39999999999998, 'enhanced_speed': 2.986, 'fractional_cadence': 0.5, 'heart_rate': 155, 'position_lat': 601809980, 'position_long': 362320967, 'speed': 2.986, 'timestamp': datetime.datetime(2024, 9, 11, 4, 6, 38)}\n",
      "{'altitude': 166.60000000000002, 'cadence': 85, 'distance': 5462.53, 'enhanced_altitude': 166.60000000000002, 'enhanced_speed': 2.986, 'fractional_cadence': 0.5, 'heart_rate': 153, 'position_lat': 601811785, 'position_long': 362322963, 'speed': 2.986, 'timestamp': datetime.datetime(2024, 9, 11, 4, 6, 45)}\n",
      "{'altitude': 166.0, 'cadence': 85, 'distance': 5483.94, 'enhanced_altitude': 166.0, 'enhanced_speed': 2.958, 'fractional_cadence': 0.5, 'heart_rate': 153, 'position_lat': 601813127, 'position_long': 362325784, 'speed': 2.958, 'timestamp': datetime.datetime(2024, 9, 11, 4, 6, 53)}\n",
      "{'altitude': 164.79999999999995, 'cadence': 85, 'distance': 5504.4, 'enhanced_altitude': 164.79999999999995, 'enhanced_speed': 2.93, 'fractional_cadence': 0.5, 'heart_rate': 152, 'position_lat': 601813763, 'position_long': 362329074, 'speed': 2.93, 'timestamp': datetime.datetime(2024, 9, 11, 4, 7)}\n",
      "{'altitude': 164.79999999999995, 'cadence': 86, 'distance': 5525.56, 'enhanced_altitude': 164.79999999999995, 'enhanced_speed': 2.911, 'fractional_cadence': 0.5, 'heart_rate': 153, 'position_lat': 601813491, 'position_long': 362332618, 'speed': 2.911, 'timestamp': datetime.datetime(2024, 9, 11, 4, 7, 8)}\n",
      "{'altitude': 167.0, 'cadence': 85, 'distance': 5547.25, 'enhanced_altitude': 167.0, 'enhanced_speed': 2.874, 'fractional_cadence': 0.5, 'heart_rate': 155, 'position_lat': 601813021, 'position_long': 362336191, 'speed': 2.874, 'timestamp': datetime.datetime(2024, 9, 11, 4, 7, 16)}\n",
      "{'altitude': 168.79999999999995, 'cadence': 85, 'distance': 5568.6, 'enhanced_altitude': 168.79999999999995, 'enhanced_speed': 2.874, 'fractional_cadence': 0.5, 'heart_rate': 153, 'position_lat': 601812395, 'position_long': 362339619, 'speed': 2.874, 'timestamp': datetime.datetime(2024, 9, 11, 4, 7, 23)}\n",
      "{'altitude': 173.0, 'cadence': 85, 'distance': 5589.44, 'enhanced_altitude': 173.0, 'enhanced_speed': 2.874, 'fractional_cadence': 0.5, 'heart_rate': 155, 'position_lat': 601811637, 'position_long': 362342900, 'speed': 2.874, 'timestamp': datetime.datetime(2024, 9, 11, 4, 7, 30)}\n",
      "{'altitude': 180.0, 'cadence': 86, 'distance': 5610.93, 'enhanced_altitude': 180.0, 'enhanced_speed': 2.883, 'fractional_cadence': 0.5, 'heart_rate': 154, 'position_lat': 601810911, 'position_long': 362346309, 'speed': 2.883, 'timestamp': datetime.datetime(2024, 9, 11, 4, 7, 37)}\n",
      "{'altitude': 183.79999999999995, 'cadence': 85, 'distance': 5633.51, 'enhanced_altitude': 183.79999999999995, 'enhanced_speed': 2.865, 'fractional_cadence': 0.5, 'heart_rate': 155, 'position_lat': 601810146, 'position_long': 362349902, 'speed': 2.865, 'timestamp': datetime.datetime(2024, 9, 11, 4, 7, 45)}\n",
      "{'altitude': 185.0, 'cadence': 85, 'distance': 5654.95, 'enhanced_altitude': 185.0, 'enhanced_speed': 2.827, 'fractional_cadence': 0.5, 'heart_rate': 155, 'position_lat': 601809297, 'position_long': 362353249, 'speed': 2.827, 'timestamp': datetime.datetime(2024, 9, 11, 4, 7, 53)}\n",
      "{'altitude': 186.0, 'cadence': 86, 'distance': 5676.07, 'enhanced_altitude': 186.0, 'enhanced_speed': 2.827, 'fractional_cadence': 0.5, 'heart_rate': 155, 'position_lat': 601808350, 'position_long': 362356463, 'speed': 2.827, 'timestamp': datetime.datetime(2024, 9, 11, 4, 8)}\n",
      "{'altitude': 183.20000000000005, 'cadence': 86, 'distance': 5698.0, 'enhanced_altitude': 183.20000000000005, 'enhanced_speed': 2.827, 'fractional_cadence': 0.5, 'heart_rate': 157, 'position_lat': 601807440, 'position_long': 362359883, 'speed': 2.827, 'timestamp': datetime.datetime(2024, 9, 11, 4, 8, 7)}\n",
      "{'altitude': 183.79999999999995, 'cadence': 85, 'distance': 5718.88, 'enhanced_altitude': 183.79999999999995, 'enhanced_speed': 2.827, 'fractional_cadence': 0.5, 'heart_rate': 159, 'position_lat': 601807973, 'position_long': 362363191, 'speed': 2.827, 'timestamp': datetime.datetime(2024, 9, 11, 4, 8, 15)}\n",
      "{'altitude': 180.20000000000005, 'cadence': 84, 'distance': 5739.29, 'enhanced_altitude': 180.20000000000005, 'enhanced_speed': 2.762, 'fractional_cadence': 0.5, 'heart_rate': 157, 'position_lat': 601809466, 'position_long': 362365800, 'speed': 2.762, 'timestamp': datetime.datetime(2024, 9, 11, 4, 8, 25)}\n",
      "{'altitude': 180.0, 'cadence': 85, 'distance': 5760.3, 'enhanced_altitude': 180.0, 'enhanced_speed': 2.669, 'fractional_cadence': 0.5, 'heart_rate': 156, 'position_lat': 601811206, 'position_long': 362368059, 'speed': 2.669, 'timestamp': datetime.datetime(2024, 9, 11, 4, 8, 33)}\n",
      "{'altitude': 173.60000000000002, 'cadence': 84, 'distance': 5780.65, 'enhanced_altitude': 173.60000000000002, 'enhanced_speed': 2.594, 'fractional_cadence': 0.5, 'heart_rate': 156, 'position_lat': 601812950, 'position_long': 362370138, 'speed': 2.594, 'timestamp': datetime.datetime(2024, 9, 11, 4, 8, 42)}\n",
      "{'altitude': 172.39999999999998, 'cadence': 85, 'distance': 5802.46, 'enhanced_altitude': 172.39999999999998, 'enhanced_speed': 2.65, 'fractional_cadence': 0.5, 'heart_rate': 155, 'position_lat': 601814920, 'position_long': 362372138, 'speed': 2.65, 'timestamp': datetime.datetime(2024, 9, 11, 4, 8, 49)}\n",
      "{'altitude': 172.39999999999998, 'cadence': 87, 'distance': 5823.95, 'enhanced_altitude': 172.39999999999998, 'enhanced_speed': 2.762, 'fractional_cadence': 0.5, 'heart_rate': 155, 'position_lat': 601816444, 'position_long': 362374818, 'speed': 2.762, 'timestamp': datetime.datetime(2024, 9, 11, 4, 8, 55)}\n",
      "{'altitude': 167.20000000000005, 'cadence': 85, 'distance': 5847.62, 'enhanced_altitude': 167.20000000000005, 'enhanced_speed': 2.818, 'fractional_cadence': 0.5, 'heart_rate': 153, 'position_lat': 601817110, 'position_long': 362378645, 'speed': 2.818, 'timestamp': datetime.datetime(2024, 9, 11, 4, 9, 2)}\n",
      "{'altitude': 161.0, 'cadence': 85, 'distance': 5869.01, 'enhanced_altitude': 161.0, 'enhanced_speed': 2.874, 'fractional_cadence': 0.5, 'heart_rate': 155, 'position_lat': 601817629, 'position_long': 362382223, 'speed': 2.874, 'timestamp': datetime.datetime(2024, 9, 11, 4, 9, 9)}\n",
      "{'altitude': 161.60000000000002, 'cadence': 86, 'distance': 5891.53, 'enhanced_altitude': 161.60000000000002, 'enhanced_speed': 2.921, 'fractional_cadence': 0.5, 'heart_rate': 154, 'position_lat': 601817122, 'position_long': 362385963, 'speed': 2.921, 'timestamp': datetime.datetime(2024, 9, 11, 4, 9, 16)}\n",
      "{'altitude': 165.0, 'cadence': 85, 'distance': 5910.47, 'enhanced_altitude': 165.0, 'enhanced_speed': 2.976, 'fractional_cadence': 0.5, 'heart_rate': 157, 'position_lat': 601816662, 'position_long': 362389113, 'speed': 2.976, 'timestamp': datetime.datetime(2024, 9, 11, 4, 9, 22)}\n",
      "{'altitude': 169.0, 'cadence': 87, 'distance': 5933.31, 'enhanced_altitude': 169.0, 'enhanced_speed': 2.976, 'fractional_cadence': 0.5, 'heart_rate': 157, 'position_lat': 601816115, 'position_long': 362392861, 'speed': 2.976, 'timestamp': datetime.datetime(2024, 9, 11, 4, 9, 30)}\n",
      "{'altitude': 170.79999999999995, 'cadence': 86, 'distance': 5949.17, 'enhanced_altitude': 170.79999999999995, 'enhanced_speed': 2.976, 'fractional_cadence': 0.5, 'heart_rate': 160, 'position_lat': 601815591, 'position_long': 362395386, 'speed': 2.976, 'timestamp': datetime.datetime(2024, 9, 11, 4, 9, 35)}\n",
      "{'altitude': 176.79999999999995, 'cadence': 86, 'distance': 5970.76, 'enhanced_altitude': 176.79999999999995, 'enhanced_speed': 2.976, 'fractional_cadence': 0.5, 'heart_rate': 162, 'position_lat': 601814734, 'position_long': 362398749, 'speed': 2.976, 'timestamp': datetime.datetime(2024, 9, 11, 4, 9, 42)}\n",
      "{'altitude': 177.39999999999998, 'cadence': 87, 'distance': 5991.75, 'enhanced_altitude': 177.39999999999998, 'enhanced_speed': 2.976, 'fractional_cadence': 0.0, 'heart_rate': 163, 'position_lat': 601813655, 'position_long': 362401824, 'speed': 2.976, 'timestamp': datetime.datetime(2024, 9, 11, 4, 9, 49)}\n",
      "{'altitude': 177.79999999999995, 'cadence': 88, 'distance': 6013.06, 'enhanced_altitude': 177.79999999999995, 'enhanced_speed': 3.014, 'fractional_cadence': 0.5, 'heart_rate': 162, 'position_lat': 601812428, 'position_long': 362404857, 'speed': 3.014, 'timestamp': datetime.datetime(2024, 9, 11, 4, 9, 55)}\n",
      "{'altitude': 177.20000000000005, 'cadence': 87, 'distance': 6035.32, 'enhanced_altitude': 177.20000000000005, 'enhanced_speed': 3.06, 'fractional_cadence': 0.5, 'heart_rate': 162, 'position_lat': 601811035, 'position_long': 362407886, 'speed': 3.06, 'timestamp': datetime.datetime(2024, 9, 11, 4, 10, 2)}\n",
      "{'altitude': 174.0, 'cadence': 87, 'distance': 6053.51, 'enhanced_altitude': 174.0, 'enhanced_speed': 3.07, 'fractional_cadence': 0.0, 'heart_rate': 159, 'position_lat': 601809377, 'position_long': 362409407, 'speed': 3.07, 'timestamp': datetime.datetime(2024, 9, 11, 4, 10, 7)}\n",
      "{'altitude': 172.60000000000002, 'cadence': 86, 'distance': 6066.56, 'enhanced_altitude': 172.60000000000002, 'enhanced_speed': 3.098, 'fractional_cadence': 0.5, 'heart_rate': 162, 'position_lat': 601808053, 'position_long': 362410124, 'speed': 3.098, 'timestamp': datetime.datetime(2024, 9, 11, 4, 10, 11)}\n",
      "{'altitude': 171.79999999999995, 'cadence': 86, 'distance': 6090.14, 'enhanced_altitude': 171.79999999999995, 'enhanced_speed': 3.126, 'fractional_cadence': 0.5, 'heart_rate': 161, 'position_lat': 601806155, 'position_long': 362412565, 'speed': 3.126, 'timestamp': datetime.datetime(2024, 9, 11, 4, 10, 18)}\n",
      "{'altitude': 171.39999999999998, 'cadence': 86, 'distance': 6096.57, 'enhanced_altitude': 171.39999999999998, 'enhanced_speed': 3.135, 'fractional_cadence': 0.5, 'heart_rate': 164, 'position_lat': 601805956, 'position_long': 362413598, 'speed': 3.135, 'timestamp': datetime.datetime(2024, 9, 11, 4, 10, 19)}\n",
      "{'altitude': 170.39999999999998, 'cadence': 87, 'distance': 6117.21, 'enhanced_altitude': 170.39999999999998, 'enhanced_speed': 3.144, 'fractional_cadence': 0.0, 'heart_rate': 164, 'position_lat': 601805745, 'position_long': 362417050, 'speed': 3.144, 'timestamp': datetime.datetime(2024, 9, 11, 4, 10, 27)}\n",
      "{'altitude': 169.39999999999998, 'cadence': 87, 'distance': 6137.48, 'enhanced_altitude': 169.39999999999998, 'enhanced_speed': 3.135, 'fractional_cadence': 0.0, 'heart_rate': 164, 'position_lat': 601804725, 'position_long': 362419974, 'speed': 3.135, 'timestamp': datetime.datetime(2024, 9, 11, 4, 10, 33)}\n",
      "{'altitude': 169.60000000000002, 'cadence': 87, 'distance': 6143.81, 'enhanced_altitude': 169.60000000000002, 'enhanced_speed': 3.144, 'fractional_cadence': 0.0, 'heart_rate': 163, 'position_lat': 601804169, 'position_long': 362420577, 'speed': 3.144, 'timestamp': datetime.datetime(2024, 9, 11, 4, 10, 34)}\n",
      "{'altitude': 168.79999999999995, 'cadence': 86, 'distance': 6166.05, 'enhanced_altitude': 168.79999999999995, 'enhanced_speed': 3.154, 'fractional_cadence': 0.5, 'heart_rate': 162, 'position_lat': 601801896, 'position_long': 362421731, 'speed': 3.154, 'timestamp': datetime.datetime(2024, 9, 11, 4, 10, 42)}\n",
      "{'altitude': 170.79999999999995, 'cadence': 86, 'distance': 6188.59, 'enhanced_altitude': 170.79999999999995, 'enhanced_speed': 3.126, 'fractional_cadence': 0.5, 'heart_rate': 163, 'position_lat': 601799539, 'position_long': 362422592, 'speed': 3.126, 'timestamp': datetime.datetime(2024, 9, 11, 4, 10, 50)}\n",
      "{'altitude': 172.20000000000005, 'cadence': 85, 'distance': 6209.84, 'enhanced_altitude': 172.20000000000005, 'enhanced_speed': 3.098, 'fractional_cadence': 0.5, 'heart_rate': 164, 'position_lat': 601797338, 'position_long': 362423518, 'speed': 3.098, 'timestamp': datetime.datetime(2024, 9, 11, 4, 10, 57)}\n",
      "{'altitude': 173.0, 'cadence': 86, 'distance': 6230.54, 'enhanced_altitude': 173.0, 'enhanced_speed': 3.098, 'fractional_cadence': 0.5, 'heart_rate': 166, 'position_lat': 601795184, 'position_long': 362424371, 'speed': 3.098, 'timestamp': datetime.datetime(2024, 9, 11, 4, 11, 4)}\n",
      "{'altitude': 175.60000000000002, 'cadence': 86, 'distance': 6250.82, 'enhanced_altitude': 175.60000000000002, 'enhanced_speed': 3.07, 'fractional_cadence': 0.5, 'heart_rate': 166, 'position_lat': 601793112, 'position_long': 362425433, 'speed': 3.07, 'timestamp': datetime.datetime(2024, 9, 11, 4, 11, 11)}\n",
      "{'altitude': 176.39999999999998, 'cadence': 87, 'distance': 6272.16, 'enhanced_altitude': 176.39999999999998, 'enhanced_speed': 3.07, 'fractional_cadence': 0.5, 'heart_rate': 166, 'position_lat': 601790979, 'position_long': 362426719, 'speed': 3.07, 'timestamp': datetime.datetime(2024, 9, 11, 4, 11, 18)}\n",
      "{'altitude': 176.20000000000005, 'cadence': 87, 'distance': 6293.78, 'enhanced_altitude': 176.20000000000005, 'enhanced_speed': 3.07, 'fractional_cadence': 0.5, 'heart_rate': 165, 'position_lat': 601788776, 'position_long': 362427864, 'speed': 3.07, 'timestamp': datetime.datetime(2024, 9, 11, 4, 11, 25)}\n",
      "{'altitude': 177.20000000000005, 'cadence': 86, 'distance': 6315.13, 'enhanced_altitude': 177.20000000000005, 'enhanced_speed': 3.079, 'fractional_cadence': 0.5, 'heart_rate': 166, 'position_lat': 601786611, 'position_long': 362428969, 'speed': 3.079, 'timestamp': datetime.datetime(2024, 9, 11, 4, 11, 32)}\n",
      "{'altitude': 179.0, 'cadence': 86, 'distance': 6337.72, 'enhanced_altitude': 179.0, 'enhanced_speed': 3.042, 'fractional_cadence': 0.5, 'heart_rate': 166, 'position_lat': 601784216, 'position_long': 362428773, 'speed': 3.042, 'timestamp': datetime.datetime(2024, 9, 11, 4, 11, 40)}\n",
      "{'altitude': 178.20000000000005, 'cadence': 86, 'distance': 6360.45, 'enhanced_altitude': 178.20000000000005, 'enhanced_speed': 3.042, 'fractional_cadence': 0.5, 'heart_rate': 164, 'position_lat': 601781983, 'position_long': 362427083, 'speed': 3.042, 'timestamp': datetime.datetime(2024, 9, 11, 4, 11, 47)}\n",
      "{'altitude': 176.79999999999995, 'cadence': 86, 'distance': 6381.78, 'enhanced_altitude': 176.79999999999995, 'enhanced_speed': 3.079, 'fractional_cadence': 0.5, 'heart_rate': 165, 'position_lat': 601779834, 'position_long': 362425866, 'speed': 3.079, 'timestamp': datetime.datetime(2024, 9, 11, 4, 11, 53)}\n",
      "{'altitude': 177.79999999999995, 'cadence': 85, 'distance': 6403.34, 'enhanced_altitude': 177.79999999999995, 'enhanced_speed': 3.088, 'fractional_cadence': 0.5, 'heart_rate': 164, 'position_lat': 601777712, 'position_long': 362424429, 'speed': 3.088, 'timestamp': datetime.datetime(2024, 9, 11, 4, 12)}\n",
      "{'altitude': 179.0, 'cadence': 86, 'distance': 6426.43, 'enhanced_altitude': 179.0, 'enhanced_speed': 3.107, 'fractional_cadence': 0.5, 'heart_rate': 163, 'position_lat': 601775403, 'position_long': 362423073, 'speed': 3.107, 'timestamp': datetime.datetime(2024, 9, 11, 4, 12, 7)}\n",
      "{'altitude': 180.60000000000002, 'cadence': 86, 'distance': 6446.53, 'enhanced_altitude': 180.60000000000002, 'enhanced_speed': 3.126, 'fractional_cadence': 0.5, 'heart_rate': 162, 'position_lat': 601773331, 'position_long': 362422149, 'speed': 3.126, 'timestamp': datetime.datetime(2024, 9, 11, 4, 12, 13)}\n",
      "{'altitude': 177.60000000000002, 'cadence': 85, 'distance': 6467.1, 'enhanced_altitude': 177.60000000000002, 'enhanced_speed': 3.144, 'fractional_cadence': 0.5, 'heart_rate': 160, 'position_lat': 601771569, 'position_long': 362420126, 'speed': 3.144, 'timestamp': datetime.datetime(2024, 9, 11, 4, 12, 19)}\n",
      "{'altitude': 176.60000000000002, 'cadence': 85, 'distance': 6487.57, 'enhanced_altitude': 176.60000000000002, 'enhanced_speed': 3.172, 'fractional_cadence': 0.5, 'heart_rate': 160, 'position_lat': 601770395, 'position_long': 362417206, 'speed': 3.172, 'timestamp': datetime.datetime(2024, 9, 11, 4, 12, 25)}\n",
      "{'altitude': 176.0, 'cadence': 85, 'distance': 6503.62, 'enhanced_altitude': 176.0, 'enhanced_speed': 3.191, 'fractional_cadence': 0.5, 'heart_rate': 163, 'position_lat': 601769550, 'position_long': 362414851, 'speed': 3.191, 'timestamp': datetime.datetime(2024, 9, 11, 4, 12, 30)}\n",
      "{'altitude': 176.79999999999995, 'cadence': 85, 'distance': 6516.06, 'enhanced_altitude': 176.79999999999995, 'enhanced_speed': 3.2, 'fractional_cadence': 0.5, 'heart_rate': 160, 'position_lat': 601768958, 'position_long': 362412969, 'speed': 3.2, 'timestamp': datetime.datetime(2024, 9, 11, 4, 12, 34)}\n",
      "{'altitude': 174.79999999999995, 'cadence': 86, 'distance': 6538.0, 'enhanced_altitude': 174.79999999999995, 'enhanced_speed': 3.2, 'fractional_cadence': 0.5, 'heart_rate': 159, 'position_lat': 601768093, 'position_long': 362409543, 'speed': 3.2, 'timestamp': datetime.datetime(2024, 9, 11, 4, 12, 41)}\n",
      "{'altitude': 175.0, 'cadence': 85, 'distance': 6560.01, 'enhanced_altitude': 175.0, 'enhanced_speed': 3.182, 'fractional_cadence': 0.5, 'heart_rate': 160, 'position_lat': 601766810, 'position_long': 362406442, 'speed': 3.182, 'timestamp': datetime.datetime(2024, 9, 11, 4, 12, 49)}\n",
      "{'altitude': 174.39999999999998, 'cadence': 85, 'distance': 6569.97, 'enhanced_altitude': 174.39999999999998, 'enhanced_speed': 3.172, 'fractional_cadence': 0.5, 'heart_rate': 157, 'position_lat': 601766182, 'position_long': 362405081, 'speed': 3.172, 'timestamp': datetime.datetime(2024, 9, 11, 4, 12, 52)}\n",
      "{'altitude': 171.60000000000002, 'cadence': 85, 'distance': 6591.07, 'enhanced_altitude': 171.60000000000002, 'enhanced_speed': 3.172, 'fractional_cadence': 0.5, 'heart_rate': 157, 'position_lat': 601765073, 'position_long': 362401992, 'speed': 3.172, 'timestamp': datetime.datetime(2024, 9, 11, 4, 12, 59)}\n",
      "{'altitude': 168.39999999999998, 'cadence': 85, 'distance': 6613.41, 'enhanced_altitude': 168.39999999999998, 'enhanced_speed': 3.172, 'fractional_cadence': 0.5, 'heart_rate': 157, 'position_lat': 601764110, 'position_long': 362398567, 'speed': 3.172, 'timestamp': datetime.datetime(2024, 9, 11, 4, 13, 6)}\n",
      "{'altitude': 168.39999999999998, 'cadence': 86, 'distance': 6633.96, 'enhanced_altitude': 168.39999999999998, 'enhanced_speed': 3.163, 'fractional_cadence': 0.5, 'heart_rate': 157, 'position_lat': 601763478, 'position_long': 362395265, 'speed': 3.163, 'timestamp': datetime.datetime(2024, 9, 11, 4, 13, 13)}\n",
      "{'altitude': 168.60000000000002, 'cadence': 85, 'distance': 6640.45, 'enhanced_altitude': 168.60000000000002, 'enhanced_speed': 3.154, 'fractional_cadence': 0.5, 'heart_rate': 160, 'position_lat': 601763292, 'position_long': 362394216, 'speed': 3.154, 'timestamp': datetime.datetime(2024, 9, 11, 4, 13, 15)}\n",
      "{'altitude': 168.79999999999995, 'cadence': 85, 'distance': 6656.11, 'enhanced_altitude': 168.79999999999995, 'enhanced_speed': 3.163, 'fractional_cadence': 0.5, 'heart_rate': 157, 'position_lat': 601762867, 'position_long': 362391674, 'speed': 3.163, 'timestamp': datetime.datetime(2024, 9, 11, 4, 13, 20)}\n",
      "{'altitude': 170.20000000000005, 'cadence': 87, 'distance': 6677.14, 'enhanced_altitude': 170.20000000000005, 'enhanced_speed': 3.172, 'fractional_cadence': 0.5, 'heart_rate': 158, 'position_lat': 601762164, 'position_long': 362388319, 'speed': 3.172, 'timestamp': datetime.datetime(2024, 9, 11, 4, 13, 26)}\n",
      "{'altitude': 171.60000000000002, 'cadence': 85, 'distance': 6699.9, 'enhanced_altitude': 171.60000000000002, 'enhanced_speed': 3.2, 'fractional_cadence': 0.5, 'heart_rate': 157, 'position_lat': 601761537, 'position_long': 362384621, 'speed': 3.2, 'timestamp': datetime.datetime(2024, 9, 11, 4, 13, 33)}\n",
      "{'altitude': 171.79999999999995, 'cadence': 85, 'distance': 6720.96, 'enhanced_altitude': 171.79999999999995, 'enhanced_speed': 3.172, 'fractional_cadence': 0.5, 'heart_rate': 157, 'position_lat': 601760225, 'position_long': 362381792, 'speed': 3.172, 'timestamp': datetime.datetime(2024, 9, 11, 4, 13, 41)}\n",
      "{'altitude': 170.20000000000005, 'cadence': 85, 'distance': 6741.57, 'enhanced_altitude': 170.20000000000005, 'enhanced_speed': 3.144, 'fractional_cadence': 0.5, 'heart_rate': 158, 'position_lat': 601759210, 'position_long': 362378719, 'speed': 3.144, 'timestamp': datetime.datetime(2024, 9, 11, 4, 13, 48)}\n",
      "{'altitude': 168.20000000000005, 'cadence': 85, 'distance': 6762.98, 'enhanced_altitude': 168.20000000000005, 'enhanced_speed': 3.135, 'fractional_cadence': 0.5, 'heart_rate': 157, 'position_lat': 601758562, 'position_long': 362375270, 'speed': 3.135, 'timestamp': datetime.datetime(2024, 9, 11, 4, 13, 55)}\n",
      "{'altitude': 170.0, 'cadence': 84, 'distance': 6783.91, 'enhanced_altitude': 170.0, 'enhanced_speed': 3.116, 'fractional_cadence': 0.5, 'heart_rate': 156, 'position_lat': 601757599, 'position_long': 362372074, 'speed': 3.116, 'timestamp': datetime.datetime(2024, 9, 11, 4, 14, 2)}\n",
      "{'altitude': 172.60000000000002, 'cadence': 83, 'distance': 6806.19, 'enhanced_altitude': 172.60000000000002, 'enhanced_speed': 3.098, 'fractional_cadence': 0.5, 'heart_rate': 158, 'position_lat': 601756246, 'position_long': 362368984, 'speed': 3.098, 'timestamp': datetime.datetime(2024, 9, 11, 4, 14, 10)}\n",
      "{'altitude': 173.20000000000005, 'cadence': 83, 'distance': 6829.24, 'enhanced_altitude': 173.20000000000005, 'enhanced_speed': 3.023, 'fractional_cadence': 0.5, 'heart_rate': 156, 'position_lat': 601755428, 'position_long': 362365347, 'speed': 3.023, 'timestamp': datetime.datetime(2024, 9, 11, 4, 14, 19)}\n",
      "{'altitude': 170.20000000000005, 'cadence': 85, 'distance': 6852.05, 'enhanced_altitude': 170.20000000000005, 'enhanced_speed': 3.051, 'fractional_cadence': 0.5, 'heart_rate': 157, 'position_lat': 601754321, 'position_long': 362361942, 'speed': 3.051, 'timestamp': datetime.datetime(2024, 9, 11, 4, 14, 26)}\n",
      "{'altitude': 167.20000000000005, 'cadence': 84, 'distance': 6872.71, 'enhanced_altitude': 167.20000000000005, 'enhanced_speed': 3.032, 'fractional_cadence': 0.5, 'heart_rate': 155, 'position_lat': 601753690, 'position_long': 362358617, 'speed': 3.032, 'timestamp': datetime.datetime(2024, 9, 11, 4, 14, 33)}\n",
      "{'altitude': 166.0, 'cadence': 84, 'distance': 6886.9, 'enhanced_altitude': 166.0, 'enhanced_speed': 3.023, 'fractional_cadence': 0.5, 'heart_rate': 152, 'position_lat': 601753110, 'position_long': 362356407, 'speed': 3.023, 'timestamp': datetime.datetime(2024, 9, 11, 4, 14, 38)}\n",
      "{'altitude': 166.20000000000005, 'cadence': 84, 'distance': 6906.92, 'enhanced_altitude': 166.20000000000005, 'enhanced_speed': 2.958, 'fractional_cadence': 0.5, 'heart_rate': 152, 'position_lat': 601752704, 'position_long': 362353129, 'speed': 2.958, 'timestamp': datetime.datetime(2024, 9, 11, 4, 14, 45)}\n",
      "{'altitude': 167.0, 'cadence': 85, 'distance': 6925.57, 'enhanced_altitude': 167.0, 'enhanced_speed': 2.976, 'fractional_cadence': 0.5, 'heart_rate': 155, 'position_lat': 601752754, 'position_long': 362350020, 'speed': 2.976, 'timestamp': datetime.datetime(2024, 9, 11, 4, 14, 51)}\n",
      "{'altitude': 164.79999999999995, 'cadence': 85, 'distance': 6948.07, 'enhanced_altitude': 164.79999999999995, 'enhanced_speed': 2.995, 'fractional_cadence': 0.5, 'heart_rate': 153, 'position_lat': 601754500, 'position_long': 362347593, 'speed': 2.995, 'timestamp': datetime.datetime(2024, 9, 11, 4, 14, 58)}\n",
      "{'altitude': 161.20000000000005, 'cadence': 84, 'distance': 6968.92, 'enhanced_altitude': 161.20000000000005, 'enhanced_speed': 3.004, 'fractional_cadence': 0.5, 'heart_rate': 153, 'position_lat': 601756637, 'position_long': 362346567, 'speed': 3.004, 'timestamp': datetime.datetime(2024, 9, 11, 4, 15, 5)}\n",
      "{'altitude': 159.60000000000002, 'cadence': 85, 'distance': 6988.93, 'enhanced_altitude': 159.60000000000002, 'enhanced_speed': 2.995, 'fractional_cadence': 0.5, 'heart_rate': 153, 'position_lat': 601758569, 'position_long': 362345169, 'speed': 2.995, 'timestamp': datetime.datetime(2024, 9, 11, 4, 15, 12)}\n",
      "{'altitude': 157.60000000000002, 'cadence': 84, 'distance': 7009.85, 'enhanced_altitude': 157.60000000000002, 'enhanced_speed': 2.995, 'fractional_cadence': 0.5, 'heart_rate': 154, 'position_lat': 601760591, 'position_long': 362343664, 'speed': 2.995, 'timestamp': datetime.datetime(2024, 9, 11, 4, 15, 19)}\n",
      "{'altitude': 158.20000000000005, 'cadence': 85, 'distance': 7032.32, 'enhanced_altitude': 158.20000000000005, 'enhanced_speed': 2.967, 'fractional_cadence': 0.5, 'heart_rate': 154, 'position_lat': 601762957, 'position_long': 362342918, 'speed': 2.967, 'timestamp': datetime.datetime(2024, 9, 11, 4, 15, 27)}\n",
      "{'altitude': 157.39999999999998, 'cadence': 84, 'distance': 7054.32, 'enhanced_altitude': 157.39999999999998, 'enhanced_speed': 2.939, 'fractional_cadence': 0.5, 'heart_rate': 153, 'position_lat': 601765291, 'position_long': 362342349, 'speed': 2.939, 'timestamp': datetime.datetime(2024, 9, 11, 4, 15, 35)}\n",
      "{'altitude': 158.20000000000005, 'cadence': 85, 'distance': 7076.9, 'enhanced_altitude': 158.20000000000005, 'enhanced_speed': 2.939, 'fractional_cadence': 0.5, 'heart_rate': 154, 'position_lat': 601767695, 'position_long': 362341872, 'speed': 2.939, 'timestamp': datetime.datetime(2024, 9, 11, 4, 15, 42)}\n",
      "{'altitude': 159.20000000000005, 'cadence': 84, 'distance': 7098.61, 'enhanced_altitude': 159.20000000000005, 'enhanced_speed': 2.967, 'fractional_cadence': 0.5, 'heart_rate': 153, 'position_lat': 601769701, 'position_long': 362340106, 'speed': 2.967, 'timestamp': datetime.datetime(2024, 9, 11, 4, 15, 49)}\n",
      "{'altitude': 161.0, 'cadence': 84, 'distance': 7120.82, 'enhanced_altitude': 161.0, 'enhanced_speed': 2.986, 'fractional_cadence': 0.5, 'heart_rate': 155, 'position_lat': 601771811, 'position_long': 362338373, 'speed': 2.986, 'timestamp': datetime.datetime(2024, 9, 11, 4, 15, 56)}\n",
      "{'altitude': 166.39999999999998, 'cadence': 84, 'distance': 7143.4, 'enhanced_altitude': 166.39999999999998, 'enhanced_speed': 2.986, 'fractional_cadence': 0.5, 'heart_rate': 153, 'position_lat': 601774177, 'position_long': 362337669, 'speed': 2.986, 'timestamp': datetime.datetime(2024, 9, 11, 4, 16, 4)}\n",
      "{'altitude': 167.39999999999998, 'cadence': 85, 'distance': 7165.67, 'enhanced_altitude': 167.39999999999998, 'enhanced_speed': 2.948, 'fractional_cadence': 0.5, 'heart_rate': 153, 'position_lat': 601776533, 'position_long': 362337721, 'speed': 2.948, 'timestamp': datetime.datetime(2024, 9, 11, 4, 16, 12)}\n",
      "{'altitude': 169.60000000000002, 'cadence': 86, 'distance': 7186.15, 'enhanced_altitude': 169.60000000000002, 'enhanced_speed': 2.939, 'fractional_cadence': 0.5, 'heart_rate': 155, 'position_lat': 601778646, 'position_long': 362336824, 'speed': 2.939, 'timestamp': datetime.datetime(2024, 9, 11, 4, 16, 19)}\n",
      "{'altitude': 168.20000000000005, 'cadence': 86, 'distance': 7207.57, 'enhanced_altitude': 168.20000000000005, 'enhanced_speed': 2.948, 'fractional_cadence': 0.5, 'heart_rate': 155, 'position_lat': 601780699, 'position_long': 362335205, 'speed': 2.948, 'timestamp': datetime.datetime(2024, 9, 11, 4, 16, 26)}\n",
      "{'altitude': 168.79999999999995, 'cadence': 85, 'distance': 7230.83, 'enhanced_altitude': 168.79999999999995, 'enhanced_speed': 2.967, 'fractional_cadence': 0.5, 'heart_rate': 155, 'position_lat': 601783107, 'position_long': 362334188, 'speed': 2.967, 'timestamp': datetime.datetime(2024, 9, 11, 4, 16, 33)}\n",
      "{'altitude': 168.60000000000002, 'cadence': 85, 'distance': 7251.72, 'enhanced_altitude': 168.60000000000002, 'enhanced_speed': 2.995, 'fractional_cadence': 0.5, 'heart_rate': 153, 'position_lat': 601785342, 'position_long': 362333863, 'speed': 2.995, 'timestamp': datetime.datetime(2024, 9, 11, 4, 16, 40)}\n",
      "{'altitude': 169.0, 'cadence': 85, 'distance': 7260.45, 'enhanced_altitude': 169.0, 'enhanced_speed': 2.986, 'fractional_cadence': 0.5, 'heart_rate': 156, 'position_lat': 601786241, 'position_long': 362333474, 'speed': 2.986, 'timestamp': datetime.datetime(2024, 9, 11, 4, 16, 43)}\n",
      "{'altitude': 167.20000000000005, 'cadence': 86, 'distance': 7281.24, 'enhanced_altitude': 167.20000000000005, 'enhanced_speed': 2.986, 'fractional_cadence': 0.5, 'heart_rate': 155, 'position_lat': 601787760, 'position_long': 362330928, 'speed': 2.986, 'timestamp': datetime.datetime(2024, 9, 11, 4, 16, 50)}\n",
      "{'altitude': 166.79999999999995, 'cadence': 86, 'distance': 7303.46, 'enhanced_altitude': 166.79999999999995, 'enhanced_speed': 2.995, 'fractional_cadence': 0.5, 'heart_rate': 157, 'position_lat': 601789881, 'position_long': 362329283, 'speed': 2.995, 'timestamp': datetime.datetime(2024, 9, 11, 4, 16, 57)}\n",
      "{'altitude': 167.39999999999998, 'cadence': 84, 'distance': 7324.59, 'enhanced_altitude': 167.39999999999998, 'enhanced_speed': 3.004, 'fractional_cadence': 0.5, 'heart_rate': 157, 'position_lat': 601792073, 'position_long': 362328422, 'speed': 3.004, 'timestamp': datetime.datetime(2024, 9, 11, 4, 17, 4)}\n",
      "{'altitude': 166.79999999999995, 'cadence': 85, 'distance': 7345.56, 'enhanced_altitude': 166.79999999999995, 'enhanced_speed': 2.995, 'fractional_cadence': 0.5, 'heart_rate': 156, 'position_lat': 601794219, 'position_long': 362327426, 'speed': 2.995, 'timestamp': datetime.datetime(2024, 9, 11, 4, 17, 11)}\n",
      "{'altitude': 164.79999999999995, 'cadence': 85, 'distance': 7365.94, 'enhanced_altitude': 164.79999999999995, 'enhanced_speed': 3.004, 'fractional_cadence': 0.5, 'heart_rate': 158, 'position_lat': 601796333, 'position_long': 362326562, 'speed': 3.004, 'timestamp': datetime.datetime(2024, 9, 11, 4, 17, 18)}\n",
      "{'altitude': 163.20000000000005, 'cadence': 85, 'distance': 7386.94, 'enhanced_altitude': 163.20000000000005, 'enhanced_speed': 2.967, 'fractional_cadence': 0.5, 'heart_rate': 157, 'position_lat': 601798456, 'position_long': 362325386, 'speed': 2.967, 'timestamp': datetime.datetime(2024, 9, 11, 4, 17, 26)}\n",
      "{'altitude': 163.60000000000002, 'cadence': 85, 'distance': 7409.51, 'enhanced_altitude': 163.60000000000002, 'enhanced_speed': 2.967, 'fractional_cadence': 0.5, 'heart_rate': 157, 'position_lat': 601800608, 'position_long': 362323656, 'speed': 2.967, 'timestamp': datetime.datetime(2024, 9, 11, 4, 17, 33)}\n",
      "{'altitude': 161.20000000000005, 'cadence': 85, 'distance': 7432.03, 'enhanced_altitude': 161.20000000000005, 'enhanced_speed': 2.958, 'fractional_cadence': 0.5, 'heart_rate': 157, 'position_lat': 601802859, 'position_long': 362322298, 'speed': 2.958, 'timestamp': datetime.datetime(2024, 9, 11, 4, 17, 41)}\n",
      "{'altitude': 159.79999999999995, 'cadence': 85, 'distance': 7454.74, 'enhanced_altitude': 159.79999999999995, 'enhanced_speed': 2.939, 'fractional_cadence': 0.5, 'heart_rate': 157, 'position_lat': 601805169, 'position_long': 362321133, 'speed': 2.939, 'timestamp': datetime.datetime(2024, 9, 11, 4, 17, 49)}\n",
      "{'altitude': 158.39999999999998, 'cadence': 84, 'distance': 7476.64, 'enhanced_altitude': 158.39999999999998, 'enhanced_speed': 2.948, 'fractional_cadence': 0.5, 'heart_rate': 159, 'position_lat': 601807502, 'position_long': 362320698, 'speed': 2.948, 'timestamp': datetime.datetime(2024, 9, 11, 4, 17, 56)}\n",
      "{'altitude': 159.20000000000005, 'cadence': 84, 'distance': 7490.68, 'enhanced_altitude': 159.20000000000005, 'enhanced_speed': 2.948, 'fractional_cadence': 0.5, 'heart_rate': 156, 'position_lat': 601809000, 'position_long': 362320764, 'speed': 2.948, 'timestamp': datetime.datetime(2024, 9, 11, 4, 18, 1)}\n",
      "{'altitude': 159.0, 'cadence': 85, 'distance': 7511.16, 'enhanced_altitude': 159.0, 'enhanced_speed': 2.911, 'fractional_cadence': 0.5, 'heart_rate': 157, 'position_lat': 601810870, 'position_long': 362322518, 'speed': 2.911, 'timestamp': datetime.datetime(2024, 9, 11, 4, 18, 9)}\n",
      "{'altitude': 159.60000000000002, 'cadence': 85, 'distance': 7531.6, 'enhanced_altitude': 159.60000000000002, 'enhanced_speed': 2.902, 'fractional_cadence': 0.5, 'heart_rate': 157, 'position_lat': 601812336, 'position_long': 362325057, 'speed': 2.902, 'timestamp': datetime.datetime(2024, 9, 11, 4, 18, 16)}\n",
      "{'altitude': 161.20000000000005, 'cadence': 84, 'distance': 7552.75, 'enhanced_altitude': 161.20000000000005, 'enhanced_speed': 2.893, 'fractional_cadence': 0.5, 'heart_rate': 155, 'position_lat': 601813209, 'position_long': 362328326, 'speed': 2.893, 'timestamp': datetime.datetime(2024, 9, 11, 4, 18, 23)}\n",
      "{'altitude': 162.60000000000002, 'cadence': 84, 'distance': 7574.56, 'enhanced_altitude': 162.60000000000002, 'enhanced_speed': 2.893, 'fractional_cadence': 0.5, 'heart_rate': 155, 'position_lat': 601813351, 'position_long': 362331934, 'speed': 2.893, 'timestamp': datetime.datetime(2024, 9, 11, 4, 18, 31)}\n",
      "{'altitude': 164.60000000000002, 'cadence': 85, 'distance': 7594.78, 'enhanced_altitude': 164.60000000000002, 'enhanced_speed': 2.883, 'fractional_cadence': 0.5, 'heart_rate': 154, 'position_lat': 601812565, 'position_long': 362335103, 'speed': 2.883, 'timestamp': datetime.datetime(2024, 9, 11, 4, 18, 38)}\n",
      "{'altitude': 169.79999999999995, 'cadence': 86, 'distance': 7615.52, 'enhanced_altitude': 169.79999999999995, 'enhanced_speed': 2.883, 'fractional_cadence': 0.5, 'heart_rate': 154, 'position_lat': 601811952, 'position_long': 362338441, 'speed': 2.883, 'timestamp': datetime.datetime(2024, 9, 11, 4, 18, 45)}\n",
      "{'altitude': 174.39999999999998, 'cadence': 86, 'distance': 7635.65, 'enhanced_altitude': 174.39999999999998, 'enhanced_speed': 2.902, 'fractional_cadence': 0.5, 'heart_rate': 156, 'position_lat': 601811254, 'position_long': 362341633, 'speed': 2.902, 'timestamp': datetime.datetime(2024, 9, 11, 4, 18, 51)}\n",
      "{'altitude': 177.39999999999998, 'cadence': 86, 'distance': 7655.96, 'enhanced_altitude': 177.39999999999998, 'enhanced_speed': 2.911, 'fractional_cadence': 0.5, 'heart_rate': 157, 'position_lat': 601810664, 'position_long': 362344912, 'speed': 2.911, 'timestamp': datetime.datetime(2024, 9, 11, 4, 18, 58)}\n",
      "{'altitude': 179.0, 'cadence': 85, 'distance': 7678.41, 'enhanced_altitude': 179.0, 'enhanced_speed': 2.902, 'fractional_cadence': 0.5, 'heart_rate': 157, 'position_lat': 601809873, 'position_long': 362348465, 'speed': 2.902, 'timestamp': datetime.datetime(2024, 9, 11, 4, 19, 6)}\n",
      "{'altitude': 181.79999999999995, 'cadence': 87, 'distance': 7693.24, 'enhanced_altitude': 181.79999999999995, 'enhanced_speed': 2.883, 'fractional_cadence': 0.0, 'heart_rate': 160, 'position_lat': 601809445, 'position_long': 362350864, 'speed': 2.883, 'timestamp': datetime.datetime(2024, 9, 11, 4, 19, 11)}\n",
      "{'altitude': 185.20000000000005, 'cadence': 86, 'distance': 7715.51, 'enhanced_altitude': 185.20000000000005, 'enhanced_speed': 2.902, 'fractional_cadence': 0.5, 'heart_rate': 157, 'position_lat': 601808551, 'position_long': 362354327, 'speed': 2.902, 'timestamp': datetime.datetime(2024, 9, 11, 4, 19, 18)}\n",
      "{'altitude': 184.60000000000002, 'cadence': 85, 'distance': 7735.99, 'enhanced_altitude': 184.60000000000002, 'enhanced_speed': 2.921, 'fractional_cadence': 0.5, 'heart_rate': 158, 'position_lat': 601807652, 'position_long': 362357476, 'speed': 2.921, 'timestamp': datetime.datetime(2024, 9, 11, 4, 19, 24)}\n",
      "{'altitude': 183.0, 'cadence': 85, 'distance': 7758.58, 'enhanced_altitude': 183.0, 'enhanced_speed': 2.958, 'fractional_cadence': 0.5, 'heart_rate': 160, 'position_lat': 601806976, 'position_long': 362361126, 'speed': 2.958, 'timestamp': datetime.datetime(2024, 9, 11, 4, 19, 31)}\n",
      "{'altitude': 181.0, 'cadence': 85, 'distance': 7778.97, 'enhanced_altitude': 181.0, 'enhanced_speed': 2.93, 'fractional_cadence': 0.5, 'heart_rate': 159, 'position_lat': 601807381, 'position_long': 362364384, 'speed': 2.93, 'timestamp': datetime.datetime(2024, 9, 11, 4, 19, 40)}\n",
      "{'altitude': 177.20000000000005, 'cadence': 85, 'distance': 7799.9, 'enhanced_altitude': 177.20000000000005, 'enhanced_speed': 2.678, 'fractional_cadence': 0.5, 'heart_rate': 158, 'position_lat': 601809200, 'position_long': 362366235, 'speed': 2.678, 'timestamp': datetime.datetime(2024, 9, 11, 4, 19, 52)}\n",
      "{'altitude': 174.0, 'cadence': 86, 'distance': 7822.15, 'enhanced_altitude': 174.0, 'enhanced_speed': 2.715, 'fractional_cadence': 0.5, 'heart_rate': 158, 'position_lat': 601811065, 'position_long': 362368563, 'speed': 2.715, 'timestamp': datetime.datetime(2024, 9, 11, 4, 20)}\n",
      "{'altitude': 171.39999999999998, 'cadence': 85, 'distance': 7837.95, 'enhanced_altitude': 171.39999999999998, 'enhanced_speed': 2.753, 'fractional_cadence': 0.5, 'heart_rate': 155, 'position_lat': 601812310, 'position_long': 362370364, 'speed': 2.753, 'timestamp': datetime.datetime(2024, 9, 11, 4, 20, 6)}\n",
      "{'altitude': 167.20000000000005, 'cadence': 87, 'distance': 7854.64, 'enhanced_altitude': 167.20000000000005, 'enhanced_speed': 2.687, 'fractional_cadence': 0.0, 'heart_rate': 158, 'position_lat': 601813845, 'position_long': 362371817, 'speed': 2.687, 'timestamp': datetime.datetime(2024, 9, 11, 4, 20, 13)}\n",
      "{'altitude': 166.79999999999995, 'cadence': 86, 'distance': 7876.52, 'enhanced_altitude': 166.79999999999995, 'enhanced_speed': 2.753, 'fractional_cadence': 0.5, 'heart_rate': 158, 'position_lat': 601815517, 'position_long': 362374313, 'speed': 2.753, 'timestamp': datetime.datetime(2024, 9, 11, 4, 20, 19)}\n",
      "{'altitude': 167.0, 'cadence': 86, 'distance': 7890.65, 'enhanced_altitude': 167.0, 'enhanced_speed': 2.809, 'fractional_cadence': 0.5, 'heart_rate': 155, 'position_lat': 601816139, 'position_long': 362376474, 'speed': 2.809, 'timestamp': datetime.datetime(2024, 9, 11, 4, 20, 23)}\n",
      "{'altitude': 163.20000000000005, 'cadence': 85, 'distance': 7912.99, 'enhanced_altitude': 163.20000000000005, 'enhanced_speed': 2.865, 'fractional_cadence': 0.5, 'heart_rate': 157, 'position_lat': 601816876, 'position_long': 362380030, 'speed': 2.865, 'timestamp': datetime.datetime(2024, 9, 11, 4, 20, 30)}\n",
      "{'altitude': 164.39999999999998, 'cadence': 85, 'distance': 7934.84, 'enhanced_altitude': 164.39999999999998, 'enhanced_speed': 2.93, 'fractional_cadence': 0.5, 'heart_rate': 155, 'position_lat': 601816846, 'position_long': 362383635, 'speed': 2.93, 'timestamp': datetime.datetime(2024, 9, 11, 4, 20, 36)}\n",
      "{'altitude': 163.79999999999995, 'cadence': 87, 'distance': 7955.33, 'enhanced_altitude': 163.79999999999995, 'enhanced_speed': 2.995, 'fractional_cadence': 0.0, 'heart_rate': 156, 'position_lat': 601816148, 'position_long': 362386933, 'speed': 2.995, 'timestamp': datetime.datetime(2024, 9, 11, 4, 20, 42)}\n",
      "{'altitude': 166.20000000000005, 'cadence': 85, 'distance': 7977.88, 'enhanced_altitude': 166.20000000000005, 'enhanced_speed': 3.042, 'fractional_cadence': 0.5, 'heart_rate': 157, 'position_lat': 601815323, 'position_long': 362390525, 'speed': 3.042, 'timestamp': datetime.datetime(2024, 9, 11, 4, 20, 49)}\n",
      "{'altitude': 172.60000000000002, 'cadence': 84, 'distance': 7999.9, 'enhanced_altitude': 172.60000000000002, 'enhanced_speed': 2.948, 'fractional_cadence': 0.5, 'heart_rate': 157, 'position_lat': 601814933, 'position_long': 362394255, 'speed': 2.948, 'timestamp': datetime.datetime(2024, 9, 11, 4, 20, 57)}\n",
      "{'altitude': 174.20000000000005, 'cadence': 84, 'distance': 8020.46, 'enhanced_altitude': 174.20000000000005, 'enhanced_speed': 2.958, 'fractional_cadence': 0.5, 'heart_rate': 159, 'position_lat': 601814320, 'position_long': 362397575, 'speed': 2.958, 'timestamp': datetime.datetime(2024, 9, 11, 4, 21, 4)}\n",
      "{'altitude': 175.39999999999998, 'cadence': 85, 'distance': 8041.91, 'enhanced_altitude': 175.39999999999998, 'enhanced_speed': 2.939, 'fractional_cadence': 0.5, 'heart_rate': 157, 'position_lat': 601813530, 'position_long': 362400944, 'speed': 2.939, 'timestamp': datetime.datetime(2024, 9, 11, 4, 21, 11)}\n",
      "{'altitude': 175.79999999999995, 'cadence': 85, 'distance': 8063.31, 'enhanced_altitude': 175.79999999999995, 'enhanced_speed': 2.967, 'fractional_cadence': 0.5, 'heart_rate': 157, 'position_lat': 601812351, 'position_long': 362404028, 'speed': 2.967, 'timestamp': datetime.datetime(2024, 9, 11, 4, 21, 18)}\n",
      "{'altitude': 174.20000000000005, 'cadence': 85, 'distance': 8084.28, 'enhanced_altitude': 174.20000000000005, 'enhanced_speed': 2.986, 'fractional_cadence': 0.5, 'heart_rate': 158, 'position_lat': 601811079, 'position_long': 362406948, 'speed': 2.986, 'timestamp': datetime.datetime(2024, 9, 11, 4, 21, 25)}\n",
      "{'altitude': 174.20000000000005, 'cadence': 85, 'distance': 8104.84, 'enhanced_altitude': 174.20000000000005, 'enhanced_speed': 2.986, 'fractional_cadence': 0.5, 'heart_rate': 158, 'position_lat': 601809566, 'position_long': 362409421, 'speed': 2.986, 'timestamp': datetime.datetime(2024, 9, 11, 4, 21, 32)}\n",
      "{'altitude': 175.20000000000005, 'cadence': 84, 'distance': 8122.06, 'enhanced_altitude': 175.20000000000005, 'enhanced_speed': 2.976, 'fractional_cadence': 0.5, 'heart_rate': 155, 'position_lat': 601807898, 'position_long': 362410653, 'speed': 2.976, 'timestamp': datetime.datetime(2024, 9, 11, 4, 21, 38)}\n",
      "{'altitude': 172.79999999999995, 'cadence': 84, 'distance': 8143.52, 'enhanced_altitude': 172.79999999999995, 'enhanced_speed': 2.874, 'fractional_cadence': 0.5, 'heart_rate': 157, 'position_lat': 601806257, 'position_long': 362412988, 'speed': 2.874, 'timestamp': datetime.datetime(2024, 9, 11, 4, 21, 47)}\n",
      "{'altitude': 173.0, 'cadence': 85, 'distance': 8151.24, 'enhanced_altitude': 173.0, 'enhanced_speed': 2.855, 'fractional_cadence': 0.5, 'heart_rate': 160, 'position_lat': 601806192, 'position_long': 362414278, 'speed': 2.855, 'timestamp': datetime.datetime(2024, 9, 11, 4, 21, 50)}\n",
      "{'altitude': 172.79999999999995, 'cadence': 85, 'distance': 8168.99, 'enhanced_altitude': 172.79999999999995, 'enhanced_speed': 2.865, 'fractional_cadence': 0.5, 'heart_rate': 157, 'position_lat': 601805582, 'position_long': 362417094, 'speed': 2.865, 'timestamp': datetime.datetime(2024, 9, 11, 4, 21, 56)}\n",
      "{'altitude': 175.20000000000005, 'cadence': 84, 'distance': 8189.06, 'enhanced_altitude': 175.20000000000005, 'enhanced_speed': 2.883, 'fractional_cadence': 0.5, 'heart_rate': 158, 'position_lat': 601804415, 'position_long': 362419862, 'speed': 2.883, 'timestamp': datetime.datetime(2024, 9, 11, 4, 22, 2)}\n",
      "{'altitude': 176.20000000000005, 'cadence': 85, 'distance': 8209.11, 'enhanced_altitude': 176.20000000000005, 'enhanced_speed': 2.902, 'fractional_cadence': 0.5, 'heart_rate': 158, 'position_lat': 601802433, 'position_long': 362421057, 'speed': 2.902, 'timestamp': datetime.datetime(2024, 9, 11, 4, 22, 10)}\n",
      "{'altitude': 176.79999999999995, 'cadence': 84, 'distance': 8229.3, 'enhanced_altitude': 176.79999999999995, 'enhanced_speed': 2.818, 'fractional_cadence': 0.5, 'heart_rate': 158, 'position_lat': 601800340, 'position_long': 362421847, 'speed': 2.818, 'timestamp': datetime.datetime(2024, 9, 11, 4, 22, 18)}\n",
      "{'altitude': 176.60000000000002, 'cadence': 84, 'distance': 8249.66, 'enhanced_altitude': 176.60000000000002, 'enhanced_speed': 2.697, 'fractional_cadence': 0.5, 'heart_rate': 159, 'position_lat': 601798250, 'position_long': 362422881, 'speed': 2.697, 'timestamp': datetime.datetime(2024, 9, 11, 4, 22, 26)}\n",
      "{'altitude': 176.60000000000002, 'cadence': 84, 'distance': 8269.98, 'enhanced_altitude': 176.60000000000002, 'enhanced_speed': 2.762, 'fractional_cadence': 0.5, 'heart_rate': 160, 'position_lat': 601796142, 'position_long': 362423788, 'speed': 2.762, 'timestamp': datetime.datetime(2024, 9, 11, 4, 22, 33)}\n",
      "{'altitude': 176.39999999999998, 'cadence': 83, 'distance': 8291.25, 'enhanced_altitude': 176.39999999999998, 'enhanced_speed': 2.706, 'fractional_cadence': 0.5, 'heart_rate': 160, 'position_lat': 601793999, 'position_long': 362425017, 'speed': 2.706, 'timestamp': datetime.datetime(2024, 9, 11, 4, 22, 42)}\n",
      "{'altitude': 177.39999999999998, 'cadence': 85, 'distance': 8313.83, 'enhanced_altitude': 177.39999999999998, 'enhanced_speed': 2.687, 'fractional_cadence': 0.5, 'heart_rate': 161, 'position_lat': 601791684, 'position_long': 362426168, 'speed': 2.687, 'timestamp': datetime.datetime(2024, 9, 11, 4, 22, 50)}\n",
      "{'altitude': 176.0, 'cadence': 85, 'distance': 8334.53, 'enhanced_altitude': 176.0, 'enhanced_speed': 2.697, 'fractional_cadence': 0.5, 'heart_rate': 162, 'position_lat': 601789544, 'position_long': 362427079, 'speed': 2.697, 'timestamp': datetime.datetime(2024, 9, 11, 4, 22, 57)}\n",
      "{'altitude': 176.20000000000005, 'cadence': 85, 'distance': 8357.25, 'enhanced_altitude': 176.20000000000005, 'enhanced_speed': 2.687, 'fractional_cadence': 0.5, 'heart_rate': 161, 'position_lat': 601787361, 'position_long': 362428755, 'speed': 2.687, 'timestamp': datetime.datetime(2024, 9, 11, 4, 23, 5)}\n",
      "{'altitude': 179.0, 'cadence': 84, 'distance': 8379.05, 'enhanced_altitude': 179.0, 'enhanced_speed': 2.734, 'fractional_cadence': 0.5, 'heart_rate': 160, 'position_lat': 601785035, 'position_long': 362429262, 'speed': 2.734, 'timestamp': datetime.datetime(2024, 9, 11, 4, 23, 11)}\n",
      "{'altitude': 182.0, 'cadence': 85, 'distance': 8399.9, 'enhanced_altitude': 182.0, 'enhanced_speed': 2.762, 'fractional_cadence': 0.5, 'heart_rate': 160, 'position_lat': 601782854, 'position_long': 362428255, 'speed': 2.762, 'timestamp': datetime.datetime(2024, 9, 11, 4, 23, 18)}\n",
      "{'altitude': 182.20000000000005, 'cadence': 85, 'distance': 8422.13, 'enhanced_altitude': 182.20000000000005, 'enhanced_speed': 2.874, 'fractional_cadence': 0.5, 'heart_rate': 161, 'position_lat': 601780596, 'position_long': 362427002, 'speed': 2.874, 'timestamp': datetime.datetime(2024, 9, 11, 4, 23, 25)}\n",
      "{'altitude': 181.39999999999998, 'cadence': 85, 'distance': 8443.86, 'enhanced_altitude': 181.39999999999998, 'enhanced_speed': 2.893, 'fractional_cadence': 0.5, 'heart_rate': 160, 'position_lat': 601778558, 'position_long': 362425224, 'speed': 2.893, 'timestamp': datetime.datetime(2024, 9, 11, 4, 23, 32)}\n",
      "{'altitude': 175.60000000000002, 'cadence': 85, 'distance': 8465.14, 'enhanced_altitude': 175.60000000000002, 'enhanced_speed': 2.967, 'fractional_cadence': 0.5, 'heart_rate': 160, 'position_lat': 601776483, 'position_long': 362423741, 'speed': 2.967, 'timestamp': datetime.datetime(2024, 9, 11, 4, 23, 38)}\n",
      "{'altitude': 174.39999999999998, 'cadence': 85, 'distance': 8486.89, 'enhanced_altitude': 174.39999999999998, 'enhanced_speed': 3.014, 'fractional_cadence': 0.5, 'heart_rate': 159, 'position_lat': 601774310, 'position_long': 362422470, 'speed': 3.014, 'timestamp': datetime.datetime(2024, 9, 11, 4, 23, 45)}\n",
      "{'altitude': 173.60000000000002, 'cadence': 86, 'distance': 8507.67, 'enhanced_altitude': 173.60000000000002, 'enhanced_speed': 3.07, 'fractional_cadence': 0.5, 'heart_rate': 157, 'position_lat': 601772257, 'position_long': 362421136, 'speed': 3.07, 'timestamp': datetime.datetime(2024, 9, 11, 4, 23, 51)}\n",
      "{'altitude': 172.79999999999995, 'cadence': 86, 'distance': 8528.38, 'enhanced_altitude': 172.79999999999995, 'enhanced_speed': 3.135, 'fractional_cadence': 0.5, 'heart_rate': 158, 'position_lat': 601770779, 'position_long': 362418511, 'speed': 3.135, 'timestamp': datetime.datetime(2024, 9, 11, 4, 23, 57)}\n",
      "{'altitude': 174.79999999999995, 'cadence': 85, 'distance': 8550.59, 'enhanced_altitude': 174.79999999999995, 'enhanced_speed': 3.126, 'fractional_cadence': 0.5, 'heart_rate': 159, 'position_lat': 601769338, 'position_long': 362415480, 'speed': 3.126, 'timestamp': datetime.datetime(2024, 9, 11, 4, 24, 5)}\n",
      "{'altitude': 176.79999999999995, 'cadence': 84, 'distance': 8572.97, 'enhanced_altitude': 176.79999999999995, 'enhanced_speed': 3.126, 'fractional_cadence': 0.5, 'heart_rate': 157, 'position_lat': 601768069, 'position_long': 362412312, 'speed': 3.126, 'timestamp': datetime.datetime(2024, 9, 11, 4, 24, 12)}\n",
      "{'altitude': 175.39999999999998, 'cadence': 84, 'distance': 8593.65, 'enhanced_altitude': 175.39999999999998, 'enhanced_speed': 3.135, 'fractional_cadence': 0.5, 'heart_rate': 158, 'position_lat': 601767150, 'position_long': 362409163, 'speed': 3.135, 'timestamp': datetime.datetime(2024, 9, 11, 4, 24, 19)}\n",
      "{'altitude': 173.39999999999998, 'cadence': 84, 'distance': 8614.93, 'enhanced_altitude': 173.39999999999998, 'enhanced_speed': 3.126, 'fractional_cadence': 0.5, 'heart_rate': 158, 'position_lat': 601765887, 'position_long': 362406190, 'speed': 3.126, 'timestamp': datetime.datetime(2024, 9, 11, 4, 24, 26)}\n",
      "{'altitude': 170.60000000000002, 'cadence': 84, 'distance': 8635.53, 'enhanced_altitude': 170.60000000000002, 'enhanced_speed': 3.116, 'fractional_cadence': 0.5, 'heart_rate': 159, 'position_lat': 601764830, 'position_long': 362403179, 'speed': 3.116, 'timestamp': datetime.datetime(2024, 9, 11, 4, 24, 33)}\n",
      "{'altitude': 171.0, 'cadence': 84, 'distance': 8656.25, 'enhanced_altitude': 171.0, 'enhanced_speed': 3.107, 'fractional_cadence': 0.5, 'heart_rate': 157, 'position_lat': 601763982, 'position_long': 362399981, 'speed': 3.107, 'timestamp': datetime.datetime(2024, 9, 11, 4, 24, 40)}\n",
      "{'altitude': 172.0, 'cadence': 84, 'distance': 8677.31, 'enhanced_altitude': 172.0, 'enhanced_speed': 3.098, 'fractional_cadence': 0.5, 'heart_rate': 155, 'position_lat': 601763415, 'position_long': 362396563, 'speed': 3.098, 'timestamp': datetime.datetime(2024, 9, 11, 4, 24, 47)}\n",
      "{'altitude': 172.0, 'cadence': 85, 'distance': 8699.41, 'enhanced_altitude': 172.0, 'enhanced_speed': 3.098, 'fractional_cadence': 0.5, 'heart_rate': 155, 'position_lat': 601762745, 'position_long': 362393027, 'speed': 3.098, 'timestamp': datetime.datetime(2024, 9, 11, 4, 24, 54)}\n",
      "{'altitude': 169.20000000000005, 'cadence': 85, 'distance': 8722.07, 'enhanced_altitude': 169.20000000000005, 'enhanced_speed': 3.116, 'fractional_cadence': 0.5, 'heart_rate': 157, 'position_lat': 601761939, 'position_long': 362389417, 'speed': 3.116, 'timestamp': datetime.datetime(2024, 9, 11, 4, 25, 1)}\n",
      "{'altitude': 170.39999999999998, 'cadence': 85, 'distance': 8743.3, 'enhanced_altitude': 170.39999999999998, 'enhanced_speed': 3.144, 'fractional_cadence': 0.5, 'heart_rate': 156, 'position_lat': 601761710, 'position_long': 362385874, 'speed': 3.144, 'timestamp': datetime.datetime(2024, 9, 11, 4, 25, 7)}\n",
      "{'altitude': 169.20000000000005, 'cadence': 86, 'distance': 8764.65, 'enhanced_altitude': 169.20000000000005, 'enhanced_speed': 3.163, 'fractional_cadence': 0.5, 'heart_rate': 155, 'position_lat': 601760958, 'position_long': 362382531, 'speed': 3.163, 'timestamp': datetime.datetime(2024, 9, 11, 4, 25, 14)}\n",
      "{'altitude': 167.79999999999995, 'cadence': 85, 'distance': 8786.2, 'enhanced_altitude': 167.79999999999995, 'enhanced_speed': 3.126, 'fractional_cadence': 0.5, 'heart_rate': 157, 'position_lat': 601759521, 'position_long': 362379667, 'speed': 3.126, 'timestamp': datetime.datetime(2024, 9, 11, 4, 25, 22)}\n",
      "{'altitude': 168.60000000000002, 'cadence': 86, 'distance': 8807.03, 'enhanced_altitude': 168.60000000000002, 'enhanced_speed': 3.116, 'fractional_cadence': 0.0, 'heart_rate': 157, 'position_lat': 601758377, 'position_long': 362376659, 'speed': 3.116, 'timestamp': datetime.datetime(2024, 9, 11, 4, 25, 29)}\n",
      "{'altitude': 169.79999999999995, 'cadence': 85, 'distance': 8827.7, 'enhanced_altitude': 169.79999999999995, 'enhanced_speed': 3.116, 'fractional_cadence': 0.5, 'heart_rate': 159, 'position_lat': 601757447, 'position_long': 362373514, 'speed': 3.116, 'timestamp': datetime.datetime(2024, 9, 11, 4, 25, 36)}\n",
      "{'altitude': 171.60000000000002, 'cadence': 85, 'distance': 8847.74, 'enhanced_altitude': 171.60000000000002, 'enhanced_speed': 3.107, 'fractional_cadence': 0.5, 'heart_rate': 158, 'position_lat': 601756469, 'position_long': 362370512, 'speed': 3.107, 'timestamp': datetime.datetime(2024, 9, 11, 4, 25, 43)}\n",
      "{'altitude': 175.39999999999998, 'cadence': 87, 'distance': 8868.93, 'enhanced_altitude': 175.39999999999998, 'enhanced_speed': 3.06, 'fractional_cadence': 0.0, 'heart_rate': 158, 'position_lat': 601755603, 'position_long': 362367242, 'speed': 3.06, 'timestamp': datetime.datetime(2024, 9, 11, 4, 25, 51)}\n",
      "{'altitude': 178.39999999999998, 'cadence': 84, 'distance': 8889.53, 'enhanced_altitude': 178.39999999999998, 'enhanced_speed': 3.042, 'fractional_cadence': 0.5, 'heart_rate': 157, 'position_lat': 601754788, 'position_long': 362364057, 'speed': 3.042, 'timestamp': datetime.datetime(2024, 9, 11, 4, 25, 58)}\n",
      "{'altitude': 174.39999999999998, 'cadence': 84, 'distance': 8910.0, 'enhanced_altitude': 174.39999999999998, 'enhanced_speed': 3.051, 'fractional_cadence': 0.5, 'heart_rate': 155, 'position_lat': 601753963, 'position_long': 362360886, 'speed': 3.051, 'timestamp': datetime.datetime(2024, 9, 11, 4, 26, 4)}\n",
      "{'altitude': 171.39999999999998, 'cadence': 85, 'distance': 8932.6, 'enhanced_altitude': 171.39999999999998, 'enhanced_speed': 3.079, 'fractional_cadence': 0.5, 'heart_rate': 155, 'position_lat': 601753028, 'position_long': 362357397, 'speed': 3.079, 'timestamp': datetime.datetime(2024, 9, 11, 4, 26, 11)}\n",
      "{'altitude': 170.0, 'cadence': 85, 'distance': 8953.56, 'enhanced_altitude': 170.0, 'enhanced_speed': 3.07, 'fractional_cadence': 0.5, 'heart_rate': 157, 'position_lat': 601752085, 'position_long': 362354207, 'speed': 3.07, 'timestamp': datetime.datetime(2024, 9, 11, 4, 26, 18)}\n",
      "{'altitude': 169.60000000000002, 'cadence': 85, 'distance': 8973.63, 'enhanced_altitude': 169.60000000000002, 'enhanced_speed': 3.088, 'fractional_cadence': 0.5, 'heart_rate': 156, 'position_lat': 601752070, 'position_long': 362350840, 'speed': 3.088, 'timestamp': datetime.datetime(2024, 9, 11, 4, 26, 24)}\n",
      "{'altitude': 171.0, 'cadence': 85, 'distance': 8995.74, 'enhanced_altitude': 171.0, 'enhanced_speed': 3.098, 'fractional_cadence': 0.5, 'heart_rate': 157, 'position_lat': 601753270, 'position_long': 362347824, 'speed': 3.098, 'timestamp': datetime.datetime(2024, 9, 11, 4, 26, 31)}\n",
      "{'altitude': 169.20000000000005, 'cadence': 85, 'distance': 9017.43, 'enhanced_altitude': 169.20000000000005, 'enhanced_speed': 3.107, 'fractional_cadence': 0.5, 'heart_rate': 157, 'position_lat': 601755432, 'position_long': 362346475, 'speed': 3.107, 'timestamp': datetime.datetime(2024, 9, 11, 4, 26, 38)}\n",
      "{'altitude': 165.79999999999995, 'cadence': 86, 'distance': 9038.67, 'enhanced_altitude': 165.79999999999995, 'enhanced_speed': 3.098, 'fractional_cadence': 0.0, 'heart_rate': 156, 'position_lat': 601757563, 'position_long': 362345209, 'speed': 3.098, 'timestamp': datetime.datetime(2024, 9, 11, 4, 26, 45)}\n",
      "{'altitude': 163.60000000000002, 'cadence': 86, 'distance': 9059.17, 'enhanced_altitude': 163.60000000000002, 'enhanced_speed': 3.107, 'fractional_cadence': 0.0, 'heart_rate': 155, 'position_lat': 601759425, 'position_long': 362343385, 'speed': 3.107, 'timestamp': datetime.datetime(2024, 9, 11, 4, 26, 51)}\n",
      "{'altitude': 163.39999999999998, 'cadence': 86, 'distance': 9081.72, 'enhanced_altitude': 163.39999999999998, 'enhanced_speed': 3.116, 'fractional_cadence': 0.0, 'heart_rate': 154, 'position_lat': 601761786, 'position_long': 362342565, 'speed': 3.116, 'timestamp': datetime.datetime(2024, 9, 11, 4, 26, 58)}\n",
      "{'altitude': 163.20000000000005, 'cadence': 86, 'distance': 9093.96, 'enhanced_altitude': 163.20000000000005, 'enhanced_speed': 3.126, 'fractional_cadence': 0.0, 'heart_rate': 157, 'position_lat': 601763055, 'position_long': 362342029, 'speed': 3.126, 'timestamp': datetime.datetime(2024, 9, 11, 4, 27, 2)}\n",
      "{'altitude': 164.20000000000005, 'cadence': 86, 'distance': 9114.36, 'enhanced_altitude': 164.20000000000005, 'enhanced_speed': 3.107, 'fractional_cadence': 0.5, 'heart_rate': 156, 'position_lat': 601765180, 'position_long': 362341275, 'speed': 3.107, 'timestamp': datetime.datetime(2024, 9, 11, 4, 27, 9)}\n",
      "{'altitude': 165.20000000000005, 'cadence': 86, 'distance': 9134.89, 'enhanced_altitude': 165.20000000000005, 'enhanced_speed': 3.088, 'fractional_cadence': 0.5, 'heart_rate': 156, 'position_lat': 601767375, 'position_long': 362341034, 'speed': 3.088, 'timestamp': datetime.datetime(2024, 9, 11, 4, 27, 16)}\n",
      "{'altitude': 165.0, 'cadence': 85, 'distance': 9156.58, 'enhanced_altitude': 165.0, 'enhanced_speed': 3.088, 'fractional_cadence': 0.5, 'heart_rate': 156, 'position_lat': 601769460, 'position_long': 362339479, 'speed': 3.088, 'timestamp': datetime.datetime(2024, 9, 11, 4, 27, 23)}\n",
      "{'altitude': 165.79999999999995, 'cadence': 85, 'distance': 9176.9, 'enhanced_altitude': 165.79999999999995, 'enhanced_speed': 3.098, 'fractional_cadence': 0.5, 'heart_rate': 157, 'position_lat': 601771414, 'position_long': 362338000, 'speed': 3.098, 'timestamp': datetime.datetime(2024, 9, 11, 4, 27, 29)}\n",
      "{'altitude': 168.20000000000005, 'cadence': 85, 'distance': 9198.41, 'enhanced_altitude': 168.20000000000005, 'enhanced_speed': 3.107, 'fractional_cadence': 0.5, 'heart_rate': 157, 'position_lat': 601773658, 'position_long': 362337263, 'speed': 3.107, 'timestamp': datetime.datetime(2024, 9, 11, 4, 27, 36)}\n",
      "{'altitude': 168.60000000000002, 'cadence': 85, 'distance': 9220.7, 'enhanced_altitude': 168.60000000000002, 'enhanced_speed': 3.079, 'fractional_cadence': 0.5, 'heart_rate': 156, 'position_lat': 601776023, 'position_long': 362337804, 'speed': 3.079, 'timestamp': datetime.datetime(2024, 9, 11, 4, 27, 44)}\n",
      "{'altitude': 167.60000000000002, 'cadence': 85, 'distance': 9242.07, 'enhanced_altitude': 167.60000000000002, 'enhanced_speed': 3.042, 'fractional_cadence': 0.5, 'heart_rate': 156, 'position_lat': 601778278, 'position_long': 362337425, 'speed': 3.042, 'timestamp': datetime.datetime(2024, 9, 11, 4, 27, 52)}\n",
      "{'altitude': 168.39999999999998, 'cadence': 85, 'distance': 9251.64, 'enhanced_altitude': 168.39999999999998, 'enhanced_speed': 3.032, 'fractional_cadence': 0.5, 'heart_rate': 153, 'position_lat': 601779266, 'position_long': 362336985, 'speed': 3.032, 'timestamp': datetime.datetime(2024, 9, 11, 4, 27, 55)}\n",
      "{'altitude': 166.20000000000005, 'cadence': 85, 'distance': 9273.14, 'enhanced_altitude': 166.20000000000005, 'enhanced_speed': 3.032, 'fractional_cadence': 0.5, 'heart_rate': 153, 'position_lat': 601781410, 'position_long': 362335642, 'speed': 3.032, 'timestamp': datetime.datetime(2024, 9, 11, 4, 28, 2)}\n",
      "{'altitude': 164.60000000000002, 'cadence': 85, 'distance': 9293.71, 'enhanced_altitude': 164.60000000000002, 'enhanced_speed': 3.023, 'fractional_cadence': 0.5, 'heart_rate': 153, 'position_lat': 601783538, 'position_long': 362334742, 'speed': 3.023, 'timestamp': datetime.datetime(2024, 9, 11, 4, 28, 9)}\n",
      "{'altitude': 164.79999999999995, 'cadence': 85, 'distance': 9316.22, 'enhanced_altitude': 164.79999999999995, 'enhanced_speed': 3.004, 'fractional_cadence': 0.5, 'heart_rate': 155, 'position_lat': 601785881, 'position_long': 362333824, 'speed': 3.004, 'timestamp': datetime.datetime(2024, 9, 11, 4, 28, 17)}\n",
      "{'altitude': 164.0, 'cadence': 85, 'distance': 9337.74, 'enhanced_altitude': 164.0, 'enhanced_speed': 3.004, 'fractional_cadence': 0.5, 'heart_rate': 155, 'position_lat': 601787510, 'position_long': 362331319, 'speed': 3.004, 'timestamp': datetime.datetime(2024, 9, 11, 4, 28, 24)}\n",
      "{'altitude': 163.39999999999998, 'cadence': 85, 'distance': 9359.73, 'enhanced_altitude': 163.39999999999998, 'enhanced_speed': 3.014, 'fractional_cadence': 0.5, 'heart_rate': 154, 'position_lat': 601789523, 'position_long': 362329523, 'speed': 3.014, 'timestamp': datetime.datetime(2024, 9, 11, 4, 28, 31)}\n",
      "{'altitude': 163.39999999999998, 'cadence': 86, 'distance': 9368.57, 'enhanced_altitude': 163.39999999999998, 'enhanced_speed': 3.014, 'fractional_cadence': 0.0, 'heart_rate': 157, 'position_lat': 601790423, 'position_long': 362329060, 'speed': 3.014, 'timestamp': datetime.datetime(2024, 9, 11, 4, 28, 34)}\n",
      "{'altitude': 163.60000000000002, 'cadence': 85, 'distance': 9391.07, 'enhanced_altitude': 163.60000000000002, 'enhanced_speed': 3.023, 'fractional_cadence': 0.5, 'heart_rate': 155, 'position_lat': 601792801, 'position_long': 362328416, 'speed': 3.023, 'timestamp': datetime.datetime(2024, 9, 11, 4, 28, 41)}\n",
      "{'altitude': 162.39999999999998, 'cadence': 85, 'distance': 9412.23, 'enhanced_altitude': 162.39999999999998, 'enhanced_speed': 3.032, 'fractional_cadence': 0.5, 'heart_rate': 155, 'position_lat': 601795021, 'position_long': 362327675, 'speed': 3.032, 'timestamp': datetime.datetime(2024, 9, 11, 4, 28, 48)}\n",
      "{'altitude': 160.79999999999995, 'cadence': 84, 'distance': 9434.82, 'enhanced_altitude': 160.79999999999995, 'enhanced_speed': 3.014, 'fractional_cadence': 0.5, 'heart_rate': 157, 'position_lat': 601797316, 'position_long': 362326434, 'speed': 3.014, 'timestamp': datetime.datetime(2024, 9, 11, 4, 28, 56)}\n",
      "{'altitude': 160.79999999999995, 'cadence': 85, 'distance': 9455.45, 'enhanced_altitude': 160.79999999999995, 'enhanced_speed': 3.004, 'fractional_cadence': 0.5, 'heart_rate': 156, 'position_lat': 601799380, 'position_long': 362325167, 'speed': 3.004, 'timestamp': datetime.datetime(2024, 9, 11, 4, 29, 3)}\n",
      "{'altitude': 161.60000000000002, 'cadence': 85, 'distance': 9476.74, 'enhanced_altitude': 161.60000000000002, 'enhanced_speed': 3.004, 'fractional_cadence': 0.5, 'heart_rate': 157, 'position_lat': 601801394, 'position_long': 362323475, 'speed': 3.004, 'timestamp': datetime.datetime(2024, 9, 11, 4, 29, 10)}\n",
      "{'altitude': 163.0, 'cadence': 85, 'distance': 9498.04, 'enhanced_altitude': 163.0, 'enhanced_speed': 3.014, 'fractional_cadence': 0.5, 'heart_rate': 157, 'position_lat': 601803510, 'position_long': 362322086, 'speed': 3.014, 'timestamp': datetime.datetime(2024, 9, 11, 4, 29, 17)}\n",
      "{'altitude': 164.0, 'cadence': 85, 'distance': 9520.63, 'enhanced_altitude': 164.0, 'enhanced_speed': 3.004, 'fractional_cadence': 0.5, 'heart_rate': 156, 'position_lat': 601805736, 'position_long': 362320587, 'speed': 3.004, 'timestamp': datetime.datetime(2024, 9, 11, 4, 29, 25)}\n",
      "{'altitude': 164.20000000000005, 'cadence': 85, 'distance': 9541.5, 'enhanced_altitude': 164.20000000000005, 'enhanced_speed': 2.986, 'fractional_cadence': 0.5, 'heart_rate': 157, 'position_lat': 601807932, 'position_long': 362319898, 'speed': 2.986, 'timestamp': datetime.datetime(2024, 9, 11, 4, 29, 32)}\n",
      "{'altitude': 162.79999999999995, 'cadence': 86, 'distance': 9563.66, 'enhanced_altitude': 162.79999999999995, 'enhanced_speed': 2.967, 'fractional_cadence': 0.0, 'heart_rate': 157, 'position_lat': 601810090, 'position_long': 362320898, 'speed': 2.967, 'timestamp': datetime.datetime(2024, 9, 11, 4, 29, 40)}\n",
      "{'altitude': 163.39999999999998, 'cadence': 85, 'distance': 9586.34, 'enhanced_altitude': 163.39999999999998, 'enhanced_speed': 2.976, 'fractional_cadence': 0.5, 'heart_rate': 155, 'position_lat': 601811929, 'position_long': 362323351, 'speed': 2.976, 'timestamp': datetime.datetime(2024, 9, 11, 4, 29, 47)}\n",
      "{'altitude': 165.39999999999998, 'cadence': 86, 'distance': 9606.49, 'enhanced_altitude': 165.39999999999998, 'enhanced_speed': 2.967, 'fractional_cadence': 0.0, 'heart_rate': 157, 'position_lat': 601812808, 'position_long': 362326400, 'speed': 2.967, 'timestamp': datetime.datetime(2024, 9, 11, 4, 29, 54)}\n",
      "{'altitude': 168.39999999999998, 'cadence': 86, 'distance': 9628.63, 'enhanced_altitude': 168.39999999999998, 'enhanced_speed': 2.976, 'fractional_cadence': 0.0, 'heart_rate': 156, 'position_lat': 601813564, 'position_long': 362329934, 'speed': 2.976, 'timestamp': datetime.datetime(2024, 9, 11, 4, 30, 1)}\n",
      "{'altitude': 169.79999999999995, 'cadence': 86, 'distance': 9634.6, 'enhanced_altitude': 169.79999999999995, 'enhanced_speed': 2.976, 'fractional_cadence': 0.0, 'heart_rate': 155, 'position_lat': 601813447, 'position_long': 362330922, 'speed': 2.976, 'timestamp': datetime.datetime(2024, 9, 11, 4, 30, 2)}\n",
      "{'altitude': 174.39999999999998, 'cadence': 86, 'distance': 9657.22, 'enhanced_altitude': 174.39999999999998, 'enhanced_speed': 2.939, 'fractional_cadence': 0.0, 'heart_rate': 156, 'position_lat': 601812980, 'position_long': 362334710, 'speed': 2.939, 'timestamp': datetime.datetime(2024, 9, 11, 4, 30, 12)}\n",
      "{'altitude': 177.79999999999995, 'cadence': 86, 'distance': 9678.69, 'enhanced_altitude': 177.79999999999995, 'enhanced_speed': 2.902, 'fractional_cadence': 0.0, 'heart_rate': 155, 'position_lat': 601812657, 'position_long': 362338333, 'speed': 2.902, 'timestamp': datetime.datetime(2024, 9, 11, 4, 30, 20)}\n",
      "{'altitude': 179.39999999999998, 'cadence': 86, 'distance': 9699.7, 'enhanced_altitude': 179.39999999999998, 'enhanced_speed': 2.883, 'fractional_cadence': 0.0, 'heart_rate': 157, 'position_lat': 601811910, 'position_long': 362341631, 'speed': 2.883, 'timestamp': datetime.datetime(2024, 9, 11, 4, 30, 27)}\n",
      "{'altitude': 182.20000000000005, 'cadence': 86, 'distance': 9721.68, 'enhanced_altitude': 182.20000000000005, 'enhanced_speed': 2.902, 'fractional_cadence': 0.0, 'heart_rate': 159, 'position_lat': 601811039, 'position_long': 362345060, 'speed': 2.902, 'timestamp': datetime.datetime(2024, 9, 11, 4, 30, 34)}\n",
      "{'altitude': 185.39999999999998, 'cadence': 86, 'distance': 9742.76, 'enhanced_altitude': 185.39999999999998, 'enhanced_speed': 2.893, 'fractional_cadence': 0.0, 'heart_rate': 157, 'position_lat': 601810173, 'position_long': 362348312, 'speed': 2.893, 'timestamp': datetime.datetime(2024, 9, 11, 4, 30, 41)}\n",
      "{'altitude': 189.0, 'cadence': 85, 'distance': 9763.08, 'enhanced_altitude': 189.0, 'enhanced_speed': 2.902, 'fractional_cadence': 0.5, 'heart_rate': 157, 'position_lat': 601809383, 'position_long': 362351500, 'speed': 2.902, 'timestamp': datetime.datetime(2024, 9, 11, 4, 30, 48)}\n",
      "{'altitude': 191.60000000000002, 'cadence': 86, 'distance': 9783.62, 'enhanced_altitude': 191.60000000000002, 'enhanced_speed': 2.883, 'fractional_cadence': 0.0, 'heart_rate': 158, 'position_lat': 601808694, 'position_long': 362354767, 'speed': 2.883, 'timestamp': datetime.datetime(2024, 9, 11, 4, 30, 55)}\n",
      "{'altitude': 189.0, 'cadence': 85, 'distance': 9806.29, 'enhanced_altitude': 189.0, 'enhanced_speed': 2.883, 'fractional_cadence': 0.5, 'heart_rate': 159, 'position_lat': 601807794, 'position_long': 362358302, 'speed': 2.883, 'timestamp': datetime.datetime(2024, 9, 11, 4, 31, 2)}\n",
      "{'altitude': 184.39999999999998, 'cadence': 85, 'distance': 9827.22, 'enhanced_altitude': 184.39999999999998, 'enhanced_speed': 2.911, 'fractional_cadence': 0.5, 'heart_rate': 159, 'position_lat': 601807271, 'position_long': 362361708, 'speed': 2.911, 'timestamp': datetime.datetime(2024, 9, 11, 4, 31, 9)}\n",
      "{'altitude': 179.60000000000002, 'cadence': 87, 'distance': 9848.55, 'enhanced_altitude': 179.60000000000002, 'enhanced_speed': 2.827, 'fractional_cadence': 0.0, 'heart_rate': 159, 'position_lat': 601808288, 'position_long': 362364850, 'speed': 2.827, 'timestamp': datetime.datetime(2024, 9, 11, 4, 31, 19)}\n",
      "{'altitude': 181.60000000000002, 'cadence': 85, 'distance': 9870.19, 'enhanced_altitude': 181.60000000000002, 'enhanced_speed': 2.725, 'fractional_cadence': 0.5, 'heart_rate': 157, 'position_lat': 601810290, 'position_long': 362366787, 'speed': 2.725, 'timestamp': datetime.datetime(2024, 9, 11, 4, 31, 29)}\n",
      "{'altitude': 175.79999999999995, 'cadence': 86, 'distance': 9891.58, 'enhanced_altitude': 175.79999999999995, 'enhanced_speed': 2.659, 'fractional_cadence': 0.0, 'heart_rate': 158, 'position_lat': 601811953, 'position_long': 362369250, 'speed': 2.659, 'timestamp': datetime.datetime(2024, 9, 11, 4, 31, 38)}\n",
      "{'altitude': 173.79999999999995, 'cadence': 86, 'distance': 9914.19, 'enhanced_altitude': 173.79999999999995, 'enhanced_speed': 2.706, 'fractional_cadence': 0.5, 'heart_rate': 159, 'position_lat': 601813792, 'position_long': 362371726, 'speed': 2.706, 'timestamp': datetime.datetime(2024, 9, 11, 4, 31, 45)}\n",
      "{'altitude': 173.60000000000002, 'cadence': 86, 'distance': 9927.79, 'enhanced_altitude': 173.60000000000002, 'enhanced_speed': 2.809, 'fractional_cadence': 0.5, 'heart_rate': 156, 'position_lat': 601814973, 'position_long': 362373055, 'speed': 2.809, 'timestamp': datetime.datetime(2024, 9, 11, 4, 31, 49)}\n",
      "{'altitude': 176.20000000000005, 'cadence': 86, 'distance': 9950.66, 'enhanced_altitude': 176.20000000000005, 'enhanced_speed': 2.855, 'fractional_cadence': 0.0, 'heart_rate': 156, 'position_lat': 601816458, 'position_long': 362376045, 'speed': 2.855, 'timestamp': datetime.datetime(2024, 9, 11, 4, 31, 56)}\n",
      "{'altitude': 179.60000000000002, 'cadence': 86, 'distance': 9972.51, 'enhanced_altitude': 179.60000000000002, 'enhanced_speed': 2.883, 'fractional_cadence': 0.0, 'heart_rate': 156, 'position_lat': 601817393, 'position_long': 362379443, 'speed': 2.883, 'timestamp': datetime.datetime(2024, 9, 11, 4, 32, 3)}\n",
      "{'altitude': 179.20000000000005, 'cadence': 86, 'distance': 9993.9, 'enhanced_altitude': 179.20000000000005, 'enhanced_speed': 2.883, 'fractional_cadence': 0.0, 'heart_rate': 155, 'position_lat': 601818015, 'position_long': 362382972, 'speed': 2.883, 'timestamp': datetime.datetime(2024, 9, 11, 4, 32, 10)}\n",
      "{'altitude': 180.60000000000002, 'cadence': 86, 'distance': 10013.96, 'enhanced_altitude': 180.60000000000002, 'enhanced_speed': 2.837, 'fractional_cadence': 0.5, 'heart_rate': 156, 'position_lat': 601817859, 'position_long': 362386454, 'speed': 2.837, 'timestamp': datetime.datetime(2024, 9, 11, 4, 32, 17)}\n",
      "{'altitude': 182.0, 'cadence': 84, 'distance': 10035.67, 'enhanced_altitude': 182.0, 'enhanced_speed': 2.865, 'fractional_cadence': 0.5, 'heart_rate': 156, 'position_lat': 601817336, 'position_long': 362390061, 'speed': 2.865, 'timestamp': datetime.datetime(2024, 9, 11, 4, 32, 25)}\n",
      "{'altitude': 182.79999999999995, 'cadence': 84, 'distance': 10056.06, 'enhanced_altitude': 182.79999999999995, 'enhanced_speed': 2.837, 'fractional_cadence': 0.5, 'heart_rate': 157, 'position_lat': 601816730, 'position_long': 362393347, 'speed': 2.837, 'timestamp': datetime.datetime(2024, 9, 11, 4, 32, 32)}\n",
      "{'altitude': 183.79999999999995, 'cadence': 85, 'distance': 10076.76, 'enhanced_altitude': 183.79999999999995, 'enhanced_speed': 2.818, 'fractional_cadence': 0.5, 'heart_rate': 156, 'position_lat': 601816131, 'position_long': 362396641, 'speed': 2.818, 'timestamp': datetime.datetime(2024, 9, 11, 4, 32, 39)}\n",
      "{'altitude': 185.39999999999998, 'cadence': 85, 'distance': 10097.24, 'enhanced_altitude': 185.39999999999998, 'enhanced_speed': 2.865, 'fractional_cadence': 0.5, 'heart_rate': 157, 'position_lat': 601814888, 'position_long': 362399478, 'speed': 2.865, 'timestamp': datetime.datetime(2024, 9, 11, 4, 32, 45)}\n",
      "{'altitude': 183.0, 'cadence': 85, 'distance': 10117.78, 'enhanced_altitude': 183.0, 'enhanced_speed': 2.902, 'fractional_cadence': 0.5, 'heart_rate': 156, 'position_lat': 601813470, 'position_long': 362402145, 'speed': 2.902, 'timestamp': datetime.datetime(2024, 9, 11, 4, 32, 51)}\n",
      "{'altitude': 179.20000000000005, 'cadence': 85, 'distance': 10140.22, 'enhanced_altitude': 179.20000000000005, 'enhanced_speed': 2.967, 'fractional_cadence': 0.5, 'heart_rate': 155, 'position_lat': 601812251, 'position_long': 362405391, 'speed': 2.967, 'timestamp': datetime.datetime(2024, 9, 11, 4, 32, 58)}\n",
      "{'altitude': 179.20000000000005, 'cadence': 84, 'distance': 10161.54, 'enhanced_altitude': 179.20000000000005, 'enhanced_speed': 2.939, 'fractional_cadence': 0.5, 'heart_rate': 155, 'position_lat': 601810983, 'position_long': 362408350, 'speed': 2.939, 'timestamp': datetime.datetime(2024, 9, 11, 4, 33, 5)}\n",
      "{'altitude': 181.60000000000002, 'cadence': 85, 'distance': 10182.9, 'enhanced_altitude': 181.60000000000002, 'enhanced_speed': 2.93, 'fractional_cadence': 0.5, 'heart_rate': 155, 'position_lat': 601809127, 'position_long': 362410324, 'speed': 2.93, 'timestamp': datetime.datetime(2024, 9, 11, 4, 33, 12)}\n",
      "{'altitude': 177.60000000000002, 'cadence': 85, 'distance': 10198.28, 'enhanced_altitude': 177.60000000000002, 'enhanced_speed': 2.939, 'fractional_cadence': 0.5, 'heart_rate': 158, 'position_lat': 601807584, 'position_long': 362411229, 'speed': 2.939, 'timestamp': datetime.datetime(2024, 9, 11, 4, 33, 17)}\n",
      "{'altitude': 176.60000000000002, 'cadence': 84, 'distance': 10220.22, 'enhanced_altitude': 176.60000000000002, 'enhanced_speed': 2.921, 'fractional_cadence': 0.5, 'heart_rate': 159, 'position_lat': 601806541, 'position_long': 362414478, 'speed': 2.921, 'timestamp': datetime.datetime(2024, 9, 11, 4, 33, 25)}\n",
      "{'altitude': 178.20000000000005, 'cadence': 84, 'distance': 10240.76, 'enhanced_altitude': 178.20000000000005, 'enhanced_speed': 2.911, 'fractional_cadence': 0.5, 'heart_rate': 157, 'position_lat': 601805874, 'position_long': 362417772, 'speed': 2.911, 'timestamp': datetime.datetime(2024, 9, 11, 4, 33, 32)}\n",
      "{'altitude': 180.79999999999995, 'cadence': 85, 'distance': 10262.28, 'enhanced_altitude': 180.79999999999995, 'enhanced_speed': 2.939, 'fractional_cadence': 0.5, 'heart_rate': 158, 'position_lat': 601804410, 'position_long': 362420416, 'speed': 2.939, 'timestamp': datetime.datetime(2024, 9, 11, 4, 33, 39)}\n",
      "{'altitude': 180.20000000000005, 'cadence': 85, 'distance': 10282.72, 'enhanced_altitude': 180.20000000000005, 'enhanced_speed': 2.902, 'fractional_cadence': 0.5, 'heart_rate': 157, 'position_lat': 601802267, 'position_long': 362421159, 'speed': 2.902, 'timestamp': datetime.datetime(2024, 9, 11, 4, 33, 47)}\n",
      "{'altitude': 181.39999999999998, 'cadence': 85, 'distance': 10303.82, 'enhanced_altitude': 181.39999999999998, 'enhanced_speed': 2.855, 'fractional_cadence': 0.5, 'heart_rate': 159, 'position_lat': 601800090, 'position_long': 362422121, 'speed': 2.855, 'timestamp': datetime.datetime(2024, 9, 11, 4, 33, 55)}\n",
      "{'altitude': 178.0, 'cadence': 84, 'distance': 10324.14, 'enhanced_altitude': 178.0, 'enhanced_speed': 2.846, 'fractional_cadence': 0.5, 'heart_rate': 160, 'position_lat': 601797994, 'position_long': 362423077, 'speed': 2.846, 'timestamp': datetime.datetime(2024, 9, 11, 4, 34, 2)}\n",
      "{'altitude': 177.0, 'cadence': 85, 'distance': 10347.27, 'enhanced_altitude': 177.0, 'enhanced_speed': 2.827, 'fractional_cadence': 0.5, 'heart_rate': 160, 'position_lat': 601795610, 'position_long': 362424271, 'speed': 2.827, 'timestamp': datetime.datetime(2024, 9, 11, 4, 34, 10)}\n",
      "{'altitude': 175.39999999999998, 'cadence': 85, 'distance': 10369.44, 'enhanced_altitude': 175.39999999999998, 'enhanced_speed': 2.818, 'fractional_cadence': 0.5, 'heart_rate': 160, 'position_lat': 601793326, 'position_long': 362425317, 'speed': 2.818, 'timestamp': datetime.datetime(2024, 9, 11, 4, 34, 18)}\n",
      "{'altitude': 175.0, 'cadence': 84, 'distance': 10382.99, 'enhanced_altitude': 175.0, 'enhanced_speed': 2.827, 'fractional_cadence': 0.5, 'heart_rate': 163, 'position_lat': 601791956, 'position_long': 362426089, 'speed': 2.827, 'timestamp': datetime.datetime(2024, 9, 11, 4, 34, 22)}\n",
      "{'altitude': 175.79999999999995, 'cadence': 85, 'distance': 10404.22, 'enhanced_altitude': 175.79999999999995, 'enhanced_speed': 2.855, 'fractional_cadence': 0.5, 'heart_rate': 161, 'position_lat': 601789811, 'position_long': 362427325, 'speed': 2.855, 'timestamp': datetime.datetime(2024, 9, 11, 4, 34, 29)}\n",
      "{'altitude': 176.79999999999995, 'cadence': 84, 'distance': 10426.07, 'enhanced_altitude': 176.79999999999995, 'enhanced_speed': 2.846, 'fractional_cadence': 0.5, 'heart_rate': 161, 'position_lat': 601787586, 'position_long': 362428506, 'speed': 2.846, 'timestamp': datetime.datetime(2024, 9, 11, 4, 34, 37)}\n",
      "{'altitude': 177.0, 'cadence': 86, 'distance': 10446.55, 'enhanced_altitude': 177.0, 'enhanced_speed': 2.837, 'fractional_cadence': 0.0, 'heart_rate': 162, 'position_lat': 601785404, 'position_long': 362429121, 'speed': 2.837, 'timestamp': datetime.datetime(2024, 9, 11, 4, 34, 44)}\n",
      "{'altitude': 182.20000000000005, 'cadence': 85, 'distance': 10467.95, 'enhanced_altitude': 182.20000000000005, 'enhanced_speed': 2.837, 'fractional_cadence': 0.5, 'heart_rate': 161, 'position_lat': 601783092, 'position_long': 362428446, 'speed': 2.837, 'timestamp': datetime.datetime(2024, 9, 11, 4, 34, 52)}\n",
      "{'altitude': 185.0, 'cadence': 85, 'distance': 10488.88, 'enhanced_altitude': 185.0, 'enhanced_speed': 2.874, 'fractional_cadence': 0.5, 'heart_rate': 160, 'position_lat': 601781004, 'position_long': 362427132, 'speed': 2.874, 'timestamp': datetime.datetime(2024, 9, 11, 4, 34, 58)}\n",
      "{'altitude': 186.79999999999995, 'cadence': 84, 'distance': 10510.78, 'enhanced_altitude': 186.79999999999995, 'enhanced_speed': 2.902, 'fractional_cadence': 0.5, 'heart_rate': 159, 'position_lat': 601778775, 'position_long': 362425943, 'speed': 2.902, 'timestamp': datetime.datetime(2024, 9, 11, 4, 35, 5)}\n",
      "{'altitude': 184.0, 'cadence': 85, 'distance': 10534.16, 'enhanced_altitude': 184.0, 'enhanced_speed': 2.976, 'fractional_cadence': 0.5, 'heart_rate': 160, 'position_lat': 601776436, 'position_long': 362424512, 'speed': 2.976, 'timestamp': datetime.datetime(2024, 9, 11, 4, 35, 12)}\n",
      "{'altitude': 183.60000000000002, 'cadence': 85, 'distance': 10554.69, 'enhanced_altitude': 183.60000000000002, 'enhanced_speed': 3.032, 'fractional_cadence': 0.5, 'heart_rate': 160, 'position_lat': 601774350, 'position_long': 362423419, 'speed': 3.032, 'timestamp': datetime.datetime(2024, 9, 11, 4, 35, 18)}\n",
      "{'altitude': 179.0, 'cadence': 85, 'distance': 10577.55, 'enhanced_altitude': 179.0, 'enhanced_speed': 3.079, 'fractional_cadence': 0.5, 'heart_rate': 159, 'position_lat': 601772084, 'position_long': 362422135, 'speed': 3.079, 'timestamp': datetime.datetime(2024, 9, 11, 4, 35, 25)}\n",
      "{'altitude': 178.20000000000005, 'cadence': 85, 'distance': 10584.91, 'enhanced_altitude': 178.20000000000005, 'enhanced_speed': 3.107, 'fractional_cadence': 0.5, 'heart_rate': 160, 'position_lat': 601771535, 'position_long': 362421232, 'speed': 3.107, 'timestamp': datetime.datetime(2024, 9, 11, 4, 35, 26)}\n",
      "{'altitude': 177.39999999999998, 'cadence': 85, 'distance': 10588.69, 'enhanced_altitude': 177.39999999999998, 'enhanced_speed': 3.126, 'fractional_cadence': 0.5, 'heart_rate': 157, 'position_lat': 601771310, 'position_long': 362420701, 'speed': 3.126, 'timestamp': datetime.datetime(2024, 9, 11, 4, 35, 28)}\n",
      "{'altitude': 179.20000000000005, 'cadence': 85, 'distance': 10608.87, 'enhanced_altitude': 179.20000000000005, 'enhanced_speed': 3.21, 'fractional_cadence': 0.5, 'heart_rate': 159, 'position_lat': 601770189, 'position_long': 362417776, 'speed': 3.21, 'timestamp': datetime.datetime(2024, 9, 11, 4, 35, 34)}\n",
      "{'altitude': 177.60000000000002, 'cadence': 85, 'distance': 10631.7, 'enhanced_altitude': 177.60000000000002, 'enhanced_speed': 3.266, 'fractional_cadence': 0.5, 'heart_rate': 160, 'position_lat': 601768859, 'position_long': 362414548, 'speed': 3.266, 'timestamp': datetime.datetime(2024, 9, 11, 4, 35, 41)}\n",
      "{'altitude': 175.79999999999995, 'cadence': 84, 'distance': 10652.79, 'enhanced_altitude': 175.79999999999995, 'enhanced_speed': 3.256, 'fractional_cadence': 0.5, 'heart_rate': 159, 'position_lat': 601767931, 'position_long': 362411317, 'speed': 3.256, 'timestamp': datetime.datetime(2024, 9, 11, 4, 35, 48)}\n",
      "{'altitude': 175.20000000000005, 'cadence': 86, 'distance': 10674.12, 'enhanced_altitude': 175.20000000000005, 'enhanced_speed': 3.228, 'fractional_cadence': 0.0, 'heart_rate': 160, 'position_lat': 601766714, 'position_long': 362408292, 'speed': 3.228, 'timestamp': datetime.datetime(2024, 9, 11, 4, 35, 55)}\n",
      "{'altitude': 174.79999999999995, 'cadence': 85, 'distance': 10694.22, 'enhanced_altitude': 174.79999999999995, 'enhanced_speed': 3.2, 'fractional_cadence': 0.5, 'heart_rate': 160, 'position_lat': 601765663, 'position_long': 362405346, 'speed': 3.2, 'timestamp': datetime.datetime(2024, 9, 11, 4, 36, 2)}\n",
      "{'altitude': 173.60000000000002, 'cadence': 85, 'distance': 10716.96, 'enhanced_altitude': 173.60000000000002, 'enhanced_speed': 3.2, 'fractional_cadence': 0.5, 'heart_rate': 159, 'position_lat': 601764480, 'position_long': 362402010, 'speed': 3.2, 'timestamp': datetime.datetime(2024, 9, 11, 4, 36, 9)}\n",
      "{'altitude': 173.60000000000002, 'cadence': 85, 'distance': 10739.81, 'enhanced_altitude': 173.60000000000002, 'enhanced_speed': 3.21, 'fractional_cadence': 0.5, 'heart_rate': 158, 'position_lat': 601763524, 'position_long': 362398523, 'speed': 3.21, 'timestamp': datetime.datetime(2024, 9, 11, 4, 36, 16)}\n",
      "{'altitude': 174.20000000000005, 'cadence': 85, 'distance': 10759.93, 'enhanced_altitude': 174.20000000000005, 'enhanced_speed': 3.191, 'fractional_cadence': 0.5, 'heart_rate': 158, 'position_lat': 601763089, 'position_long': 362395213, 'speed': 3.191, 'timestamp': datetime.datetime(2024, 9, 11, 4, 36, 23)}\n",
      "{'altitude': 175.20000000000005, 'cadence': 85, 'distance': 10782.64, 'enhanced_altitude': 175.20000000000005, 'enhanced_speed': 3.2, 'fractional_cadence': 0.5, 'heart_rate': 158, 'position_lat': 601762201, 'position_long': 362391664, 'speed': 3.2, 'timestamp': datetime.datetime(2024, 9, 11, 4, 36, 30)}\n",
      "{'altitude': 174.60000000000002, 'cadence': 86, 'distance': 10805.01, 'enhanced_altitude': 174.60000000000002, 'enhanced_speed': 3.2, 'fractional_cadence': 0.0, 'heart_rate': 158, 'position_lat': 601761591, 'position_long': 362388017, 'speed': 3.2, 'timestamp': datetime.datetime(2024, 9, 11, 4, 36, 37)}\n",
      "{'altitude': 175.0, 'cadence': 86, 'distance': 10825.06, 'enhanced_altitude': 175.0, 'enhanced_speed': 3.219, 'fractional_cadence': 0.0, 'heart_rate': 159, 'position_lat': 601761476, 'position_long': 362384629, 'speed': 3.219, 'timestamp': datetime.datetime(2024, 9, 11, 4, 36, 43)}\n",
      "{'altitude': 175.0, 'cadence': 87, 'distance': 10846.52, 'enhanced_altitude': 175.0, 'enhanced_speed': 3.2, 'fractional_cadence': 0.0, 'heart_rate': 158, 'position_lat': 601760216, 'position_long': 362381714, 'speed': 3.2, 'timestamp': datetime.datetime(2024, 9, 11, 4, 36, 51)}\n",
      "{'altitude': 174.39999999999998, 'cadence': 86, 'distance': 10869.28, 'enhanced_altitude': 174.39999999999998, 'enhanced_speed': 3.182, 'fractional_cadence': 0.0, 'heart_rate': 162, 'position_lat': 601758754, 'position_long': 362378694, 'speed': 3.182, 'timestamp': datetime.datetime(2024, 9, 11, 4, 36, 58)}\n",
      "{'altitude': 173.20000000000005, 'cadence': 85, 'distance': 10892.01, 'enhanced_altitude': 173.20000000000005, 'enhanced_speed': 3.2, 'fractional_cadence': 0.5, 'heart_rate': 162, 'position_lat': 601757736, 'position_long': 362375225, 'speed': 3.2, 'timestamp': datetime.datetime(2024, 9, 11, 4, 37, 5)}\n",
      "{'altitude': 173.39999999999998, 'cadence': 86, 'distance': 10913.09, 'enhanced_altitude': 173.39999999999998, 'enhanced_speed': 3.191, 'fractional_cadence': 0.0, 'heart_rate': 161, 'position_lat': 601756794, 'position_long': 362372021, 'speed': 3.191, 'timestamp': datetime.datetime(2024, 9, 11, 4, 37, 12)}\n",
      "{'altitude': 174.0, 'cadence': 87, 'distance': 10933.23, 'enhanced_altitude': 174.0, 'enhanced_speed': 3.163, 'fractional_cadence': 0.0, 'heart_rate': 159, 'position_lat': 601755593, 'position_long': 362369219, 'speed': 3.163, 'timestamp': datetime.datetime(2024, 9, 11, 4, 37, 19)}\n",
      "{'altitude': 177.20000000000005, 'cadence': 86, 'distance': 10953.28, 'enhanced_altitude': 177.20000000000005, 'enhanced_speed': 3.154, 'fractional_cadence': 0.0, 'heart_rate': 160, 'position_lat': 601754821, 'position_long': 362366083, 'speed': 3.154, 'timestamp': datetime.datetime(2024, 9, 11, 4, 37, 26)}\n",
      "{'altitude': 178.0, 'cadence': 86, 'distance': 10974.26, 'enhanced_altitude': 178.0, 'enhanced_speed': 3.135, 'fractional_cadence': 0.0, 'heart_rate': 162, 'position_lat': 601754098, 'position_long': 362362745, 'speed': 3.135, 'timestamp': datetime.datetime(2024, 9, 11, 4, 37, 33)}\n",
      "{'altitude': 172.60000000000002, 'cadence': 87, 'distance': 10995.35, 'enhanced_altitude': 172.60000000000002, 'enhanced_speed': 3.135, 'fractional_cadence': 0.0, 'heart_rate': 162, 'position_lat': 601753604, 'position_long': 362359282, 'speed': 3.135, 'timestamp': datetime.datetime(2024, 9, 11, 4, 37, 39)}\n",
      "{'altitude': 170.60000000000002, 'cadence': 87, 'distance': 11015.5, 'enhanced_altitude': 170.60000000000002, 'enhanced_speed': 3.163, 'fractional_cadence': 0.0, 'heart_rate': 163, 'position_lat': 601752630, 'position_long': 362356276, 'speed': 3.163, 'timestamp': datetime.datetime(2024, 9, 11, 4, 37, 45)}\n",
      "{'altitude': 170.39999999999998, 'cadence': 87, 'distance': 11037.45, 'enhanced_altitude': 170.39999999999998, 'enhanced_speed': 3.163, 'fractional_cadence': 0.0, 'heart_rate': 164, 'position_lat': 601751903, 'position_long': 362352807, 'speed': 3.163, 'timestamp': datetime.datetime(2024, 9, 11, 4, 37, 52)}\n",
      "{'altitude': 170.60000000000002, 'cadence': 86, 'distance': 11057.6, 'enhanced_altitude': 170.60000000000002, 'enhanced_speed': 3.172, 'fractional_cadence': 0.0, 'heart_rate': 162, 'position_lat': 601752156, 'position_long': 362349467, 'speed': 3.172, 'timestamp': datetime.datetime(2024, 9, 11, 4, 37, 58)}\n",
      "{'altitude': 168.79999999999995, 'cadence': 87, 'distance': 11078.69, 'enhanced_altitude': 168.79999999999995, 'enhanced_speed': 3.191, 'fractional_cadence': 0.0, 'heart_rate': 163, 'position_lat': 601753867, 'position_long': 362347336, 'speed': 3.191, 'timestamp': datetime.datetime(2024, 9, 11, 4, 38, 4)}\n",
      "{'altitude': 167.60000000000002, 'cadence': 87, 'distance': 11099.61, 'enhanced_altitude': 167.60000000000002, 'enhanced_speed': 3.21, 'fractional_cadence': 0.0, 'heart_rate': 162, 'position_lat': 601755976, 'position_long': 362346133, 'speed': 3.21, 'timestamp': datetime.datetime(2024, 9, 11, 4, 38, 10)}\n",
      "{'altitude': 167.39999999999998, 'cadence': 86, 'distance': 11122.57, 'enhanced_altitude': 167.39999999999998, 'enhanced_speed': 3.219, 'fractional_cadence': 0.0, 'heart_rate': 161, 'position_lat': 601758211, 'position_long': 362344524, 'speed': 3.219, 'timestamp': datetime.datetime(2024, 9, 11, 4, 38, 17)}\n",
      "{'altitude': 167.60000000000002, 'cadence': 86, 'distance': 11142.73, 'enhanced_altitude': 167.60000000000002, 'enhanced_speed': 3.238, 'fractional_cadence': 0.0, 'heart_rate': 162, 'position_lat': 601760094, 'position_long': 362342894, 'speed': 3.238, 'timestamp': datetime.datetime(2024, 9, 11, 4, 38, 23)}\n",
      "{'altitude': 168.60000000000002, 'cadence': 86, 'distance': 11164.19, 'enhanced_altitude': 168.60000000000002, 'enhanced_speed': 3.228, 'fractional_cadence': 0.0, 'heart_rate': 161, 'position_lat': 601762315, 'position_long': 362341936, 'speed': 3.228, 'timestamp': datetime.datetime(2024, 9, 11, 4, 38, 30)}\n",
      "{'altitude': 167.79999999999995, 'cadence': 86, 'distance': 11186.43, 'enhanced_altitude': 167.79999999999995, 'enhanced_speed': 3.228, 'fractional_cadence': 0.0, 'heart_rate': 161, 'position_lat': 601764684, 'position_long': 362341510, 'speed': 3.228, 'timestamp': datetime.datetime(2024, 9, 11, 4, 38, 37)}\n",
      "{'altitude': 168.0, 'cadence': 86, 'distance': 11207.52, 'enhanced_altitude': 168.0, 'enhanced_speed': 3.21, 'fractional_cadence': 0.0, 'heart_rate': 160, 'position_lat': 601766914, 'position_long': 362340955, 'speed': 3.21, 'timestamp': datetime.datetime(2024, 9, 11, 4, 38, 44)}\n",
      "{'altitude': 168.39999999999998, 'cadence': 86, 'distance': 11227.28, 'enhanced_altitude': 168.39999999999998, 'enhanced_speed': 3.21, 'fractional_cadence': 0.0, 'heart_rate': 163, 'position_lat': 601768872, 'position_long': 362339723, 'speed': 3.21, 'timestamp': datetime.datetime(2024, 9, 11, 4, 38, 50)}\n",
      "{'altitude': 168.60000000000002, 'cadence': 87, 'distance': 11247.55, 'enhanced_altitude': 168.60000000000002, 'enhanced_speed': 3.219, 'fractional_cadence': 0.0, 'heart_rate': 161, 'position_lat': 601770760, 'position_long': 362338068, 'speed': 3.219, 'timestamp': datetime.datetime(2024, 9, 11, 4, 38, 56)}\n",
      "{'altitude': 168.60000000000002, 'cadence': 86, 'distance': 11270.34, 'enhanced_altitude': 168.60000000000002, 'enhanced_speed': 3.228, 'fractional_cadence': 0.0, 'heart_rate': 162, 'position_lat': 601773156, 'position_long': 362337332, 'speed': 3.228, 'timestamp': datetime.datetime(2024, 9, 11, 4, 39, 3)}\n",
      "{'altitude': 168.39999999999998, 'cadence': 86, 'distance': 11290.04, 'enhanced_altitude': 168.39999999999998, 'enhanced_speed': 3.2, 'fractional_cadence': 0.0, 'heart_rate': 159, 'position_lat': 601775225, 'position_long': 362337926, 'speed': 3.2, 'timestamp': datetime.datetime(2024, 9, 11, 4, 39, 10)}\n",
      "{'altitude': 166.79999999999995, 'cadence': 87, 'distance': 11312.52, 'enhanced_altitude': 166.79999999999995, 'enhanced_speed': 3.154, 'fractional_cadence': 0.0, 'heart_rate': 160, 'position_lat': 601777605, 'position_long': 362337545, 'speed': 3.154, 'timestamp': datetime.datetime(2024, 9, 11, 4, 39, 18)}\n",
      "{'altitude': 166.20000000000005, 'cadence': 86, 'distance': 11334.94, 'enhanced_altitude': 166.20000000000005, 'enhanced_speed': 3.126, 'fractional_cadence': 0.0, 'heart_rate': 158, 'position_lat': 601779899, 'position_long': 362336441, 'speed': 3.126, 'timestamp': datetime.datetime(2024, 9, 11, 4, 39, 25)}\n",
      "{'altitude': 167.20000000000005, 'cadence': 86, 'distance': 11356.77, 'enhanced_altitude': 167.20000000000005, 'enhanced_speed': 3.116, 'fractional_cadence': 0.0, 'heart_rate': 159, 'position_lat': 601782045, 'position_long': 362334988, 'speed': 3.116, 'timestamp': datetime.datetime(2024, 9, 11, 4, 39, 32)}\n",
      "{'altitude': 167.0, 'cadence': 85, 'distance': 11379.0, 'enhanced_altitude': 167.0, 'enhanced_speed': 3.116, 'fractional_cadence': 0.5, 'heart_rate': 161, 'position_lat': 601784393, 'position_long': 362334400, 'speed': 3.116, 'timestamp': datetime.datetime(2024, 9, 11, 4, 39, 39)}\n",
      "{'altitude': 168.0, 'cadence': 85, 'distance': 11401.22, 'enhanced_altitude': 168.0, 'enhanced_speed': 3.116, 'fractional_cadence': 0.5, 'heart_rate': 161, 'position_lat': 601786610, 'position_long': 362333131, 'speed': 3.116, 'timestamp': datetime.datetime(2024, 9, 11, 4, 39, 46)}\n",
      "{'altitude': 167.0, 'cadence': 85, 'distance': 11422.81, 'enhanced_altitude': 167.0, 'enhanced_speed': 3.126, 'fractional_cadence': 0.5, 'heart_rate': 160, 'position_lat': 601788229, 'position_long': 362330557, 'speed': 3.126, 'timestamp': datetime.datetime(2024, 9, 11, 4, 39, 53)}\n",
      "{'altitude': 167.39999999999998, 'cadence': 85, 'distance': 11445.23, 'enhanced_altitude': 167.39999999999998, 'enhanced_speed': 3.135, 'fractional_cadence': 0.5, 'heart_rate': 158, 'position_lat': 601790463, 'position_long': 362329187, 'speed': 3.135, 'timestamp': datetime.datetime(2024, 9, 11, 4, 40)}\n",
      "{'altitude': 168.20000000000005, 'cadence': 84, 'distance': 11466.87, 'enhanced_altitude': 168.20000000000005, 'enhanced_speed': 3.107, 'fractional_cadence': 0.5, 'heart_rate': 155, 'position_lat': 601792671, 'position_long': 362328056, 'speed': 3.107, 'timestamp': datetime.datetime(2024, 9, 11, 4, 40, 8)}\n",
      "{'altitude': 167.39999999999998, 'cadence': 86, 'distance': 11487.88, 'enhanced_altitude': 167.39999999999998, 'enhanced_speed': 3.07, 'fractional_cadence': 0.0, 'heart_rate': 158, 'position_lat': 601794809, 'position_long': 362326958, 'speed': 3.07, 'timestamp': datetime.datetime(2024, 9, 11, 4, 40, 15)}\n",
      "{'altitude': 167.39999999999998, 'cadence': 86, 'distance': 11508.56, 'enhanced_altitude': 167.39999999999998, 'enhanced_speed': 3.06, 'fractional_cadence': 0.0, 'heart_rate': 159, 'position_lat': 601796925, 'position_long': 362325914, 'speed': 3.06, 'timestamp': datetime.datetime(2024, 9, 11, 4, 40, 22)}\n",
      "{'altitude': 166.20000000000005, 'cadence': 87, 'distance': 11530.95, 'enhanced_altitude': 166.20000000000005, 'enhanced_speed': 3.023, 'fractional_cadence': 0.0, 'heart_rate': 160, 'position_lat': 601799181, 'position_long': 362324630, 'speed': 3.023, 'timestamp': datetime.datetime(2024, 9, 11, 4, 40, 30)}\n",
      "{'altitude': 165.79999999999995, 'cadence': 86, 'distance': 11552.14, 'enhanced_altitude': 165.79999999999995, 'enhanced_speed': 3.014, 'fractional_cadence': 0.0, 'heart_rate': 160, 'position_lat': 601801263, 'position_long': 362323216, 'speed': 3.014, 'timestamp': datetime.datetime(2024, 9, 11, 4, 40, 37)}\n",
      "{'altitude': 166.20000000000005, 'cadence': 86, 'distance': 11572.43, 'enhanced_altitude': 166.20000000000005, 'enhanced_speed': 3.004, 'fractional_cadence': 0.0, 'heart_rate': 160, 'position_lat': 601803314, 'position_long': 362322072, 'speed': 3.004, 'timestamp': datetime.datetime(2024, 9, 11, 4, 40, 44)}\n",
      "{'altitude': 167.60000000000002, 'cadence': 87, 'distance': 11593.85, 'enhanced_altitude': 167.60000000000002, 'enhanced_speed': 2.995, 'fractional_cadence': 0.0, 'heart_rate': 161, 'position_lat': 601805496, 'position_long': 362320987, 'speed': 2.995, 'timestamp': datetime.datetime(2024, 9, 11, 4, 40, 51)}\n",
      "{'altitude': 167.79999999999995, 'cadence': 86, 'distance': 11616.51, 'enhanced_altitude': 167.79999999999995, 'enhanced_speed': 3.004, 'fractional_cadence': 0.0, 'heart_rate': 162, 'position_lat': 601807912, 'position_long': 362320612, 'speed': 3.004, 'timestamp': datetime.datetime(2024, 9, 11, 4, 40, 58)}\n",
      "{'altitude': 168.39999999999998, 'cadence': 87, 'distance': 11639.2, 'enhanced_altitude': 168.39999999999998, 'enhanced_speed': 3.032, 'fractional_cadence': 0.0, 'heart_rate': 163, 'position_lat': 601810256, 'position_long': 362321059, 'speed': 3.032, 'timestamp': datetime.datetime(2024, 9, 11, 4, 41, 5)}\n",
      "{'altitude': 168.39999999999998, 'cadence': 87, 'distance': 11661.59, 'enhanced_altitude': 168.39999999999998, 'enhanced_speed': 3.042, 'fractional_cadence': 0.0, 'heart_rate': 161, 'position_lat': 601812121, 'position_long': 362323411, 'speed': 3.042, 'timestamp': datetime.datetime(2024, 9, 11, 4, 41, 12)}\n",
      "{'altitude': 166.60000000000002, 'cadence': 86, 'distance': 11684.02, 'enhanced_altitude': 166.60000000000002, 'enhanced_speed': 3.051, 'fractional_cadence': 0.0, 'heart_rate': 161, 'position_lat': 601813467, 'position_long': 362326509, 'speed': 3.051, 'timestamp': datetime.datetime(2024, 9, 11, 4, 41, 19)}\n",
      "{'altitude': 166.20000000000005, 'cadence': 85, 'distance': 11705.46, 'enhanced_altitude': 166.20000000000005, 'enhanced_speed': 3.051, 'fractional_cadence': 0.5, 'heart_rate': 159, 'position_lat': 601814138, 'position_long': 362329952, 'speed': 3.051, 'timestamp': datetime.datetime(2024, 9, 11, 4, 41, 26)}\n",
      "{'altitude': 169.0, 'cadence': 85, 'distance': 11726.64, 'enhanced_altitude': 169.0, 'enhanced_speed': 3.051, 'fractional_cadence': 0.5, 'heart_rate': 160, 'position_lat': 601813525, 'position_long': 362333357, 'speed': 3.051, 'timestamp': datetime.datetime(2024, 9, 11, 4, 41, 33)}\n",
      "{'altitude': 172.39999999999998, 'cadence': 86, 'distance': 11747.08, 'enhanced_altitude': 172.39999999999998, 'enhanced_speed': 3.014, 'fractional_cadence': 0.0, 'heart_rate': 159, 'position_lat': 601812814, 'position_long': 362336615, 'speed': 3.014, 'timestamp': datetime.datetime(2024, 9, 11, 4, 41, 41)}\n",
      "{'altitude': 174.20000000000005, 'cadence': 86, 'distance': 11767.47, 'enhanced_altitude': 174.20000000000005, 'enhanced_speed': 2.976, 'fractional_cadence': 0.0, 'heart_rate': 161, 'position_lat': 601812133, 'position_long': 362339872, 'speed': 2.976, 'timestamp': datetime.datetime(2024, 9, 11, 4, 41, 48)}\n",
      "{'altitude': 178.79999999999995, 'cadence': 86, 'distance': 11789.58, 'enhanced_altitude': 178.79999999999995, 'enhanced_speed': 2.967, 'fractional_cadence': 0.0, 'heart_rate': 162, 'position_lat': 601811479, 'position_long': 362343442, 'speed': 2.967, 'timestamp': datetime.datetime(2024, 9, 11, 4, 41, 56)}\n",
      "{'altitude': 183.20000000000005, 'cadence': 86, 'distance': 11811.38, 'enhanced_altitude': 183.20000000000005, 'enhanced_speed': 2.93, 'fractional_cadence': 0.0, 'heart_rate': 161, 'position_lat': 601810732, 'position_long': 362346888, 'speed': 2.93, 'timestamp': datetime.datetime(2024, 9, 11, 4, 42, 4)}\n",
      "{'altitude': 186.0, 'cadence': 87, 'distance': 11831.72, 'enhanced_altitude': 186.0, 'enhanced_speed': 2.902, 'fractional_cadence': 0.0, 'heart_rate': 161, 'position_lat': 601809911, 'position_long': 362350045, 'speed': 2.902, 'timestamp': datetime.datetime(2024, 9, 11, 4, 42, 11)}\n",
      "{'altitude': 188.0, 'cadence': 88, 'distance': 11854.8, 'enhanced_altitude': 188.0, 'enhanced_speed': 2.921, 'fractional_cadence': 0.0, 'heart_rate': 163, 'position_lat': 601808846, 'position_long': 362353534, 'speed': 2.921, 'timestamp': datetime.datetime(2024, 9, 11, 4, 42, 18)}\n",
      "{'altitude': 188.0, 'cadence': 88, 'distance': 11865.61, 'enhanced_altitude': 188.0, 'enhanced_speed': 2.939, 'fractional_cadence': 0.0, 'heart_rate': 166, 'position_lat': 601808322, 'position_long': 362355151, 'speed': 2.939, 'timestamp': datetime.datetime(2024, 9, 11, 4, 42, 21)}\n",
      "{'altitude': 188.0, 'cadence': 90, 'distance': 11887.21, 'enhanced_altitude': 188.0, 'enhanced_speed': 2.976, 'fractional_cadence': 0.0, 'heart_rate': 166, 'position_lat': 601807466, 'position_long': 362358527, 'speed': 2.976, 'timestamp': datetime.datetime(2024, 9, 11, 4, 42, 27)}\n",
      "{'altitude': 188.60000000000002, 'cadence': 90, 'distance': 11906.66, 'enhanced_altitude': 188.60000000000002, 'enhanced_speed': 3.032, 'fractional_cadence': 0.0, 'heart_rate': 169, 'position_lat': 601806872, 'position_long': 362361635, 'speed': 3.032, 'timestamp': datetime.datetime(2024, 9, 11, 4, 42, 33)}\n",
      "{'altitude': 188.79999999999995, 'cadence': 89, 'distance': 11911.61, 'enhanced_altitude': 188.79999999999995, 'enhanced_speed': 3.032, 'fractional_cadence': 0.0, 'heart_rate': 169, 'position_lat': 601806957, 'position_long': 362362462, 'speed': 3.032, 'timestamp': datetime.datetime(2024, 9, 11, 4, 42, 34)}\n",
      "{'altitude': 189.79999999999995, 'cadence': 88, 'distance': 11932.79, 'enhanced_altitude': 189.79999999999995, 'enhanced_speed': 2.865, 'fractional_cadence': 0.0, 'heart_rate': 170, 'position_lat': 601808311, 'position_long': 362365346, 'speed': 2.865, 'timestamp': datetime.datetime(2024, 9, 11, 4, 42, 45)}\n",
      "{'altitude': 185.39999999999998, 'cadence': 86, 'distance': 11955.51, 'enhanced_altitude': 185.39999999999998, 'enhanced_speed': 2.893, 'fractional_cadence': 0.0, 'heart_rate': 171, 'position_lat': 601810366, 'position_long': 362367369, 'speed': 2.893, 'timestamp': datetime.datetime(2024, 9, 11, 4, 42, 52)}\n",
      "{'altitude': 177.0, 'cadence': 86, 'distance': 11978.07, 'enhanced_altitude': 177.0, 'enhanced_speed': 2.958, 'fractional_cadence': 0.5, 'heart_rate': 169, 'position_lat': 601812262, 'position_long': 362369738, 'speed': 2.958, 'timestamp': datetime.datetime(2024, 9, 11, 4, 42, 59)}\n",
      "{'altitude': 174.39999999999998, 'cadence': 86, 'distance': 11984.15, 'enhanced_altitude': 174.39999999999998, 'enhanced_speed': 2.958, 'fractional_cadence': 0.5, 'heart_rate': 166, 'position_lat': 601812749, 'position_long': 362370427, 'speed': 2.958, 'timestamp': datetime.datetime(2024, 9, 11, 4, 43)}\n",
      "{'altitude': 168.20000000000005, 'cadence': 88, 'distance': 12006.25, 'enhanced_altitude': 168.20000000000005, 'enhanced_speed': 2.958, 'fractional_cadence': 0.0, 'heart_rate': 164, 'position_lat': 601814681, 'position_long': 362372584, 'speed': 2.958, 'timestamp': datetime.datetime(2024, 9, 11, 4, 43, 8)}\n",
      "{'altitude': 166.39999999999998, 'cadence': 86, 'distance': 12029.3, 'enhanced_altitude': 166.39999999999998, 'enhanced_speed': 3.023, 'fractional_cadence': 0.0, 'heart_rate': 163, 'position_lat': 601816564, 'position_long': 362375060, 'speed': 3.023, 'timestamp': datetime.datetime(2024, 9, 11, 4, 43, 15)}\n",
      "{'altitude': 168.60000000000002, 'cadence': 86, 'distance': 12051.57, 'enhanced_altitude': 168.60000000000002, 'enhanced_speed': 3.023, 'fractional_cadence': 0.0, 'heart_rate': 163, 'position_lat': 601817440, 'position_long': 362378563, 'speed': 3.023, 'timestamp': datetime.datetime(2024, 9, 11, 4, 43, 22)}\n",
      "{'altitude': 169.20000000000005, 'cadence': 86, 'distance': 12074.07, 'enhanced_altitude': 169.20000000000005, 'enhanced_speed': 2.958, 'fractional_cadence': 0.0, 'heart_rate': 163, 'position_lat': 601817919, 'position_long': 362382227, 'speed': 2.958, 'timestamp': datetime.datetime(2024, 9, 11, 4, 43, 30)}\n",
      "{'altitude': 173.39999999999998, 'cadence': 86, 'distance': 12094.22, 'enhanced_altitude': 173.39999999999998, 'enhanced_speed': 2.939, 'fractional_cadence': 0.0, 'heart_rate': 163, 'position_lat': 601817698, 'position_long': 362385631, 'speed': 2.939, 'timestamp': datetime.datetime(2024, 9, 11, 4, 43, 37)}\n",
      "{'altitude': 176.60000000000002, 'cadence': 87, 'distance': 12116.91, 'enhanced_altitude': 176.60000000000002, 'enhanced_speed': 2.911, 'fractional_cadence': 0.0, 'heart_rate': 161, 'position_lat': 601817214, 'position_long': 362389377, 'speed': 2.911, 'timestamp': datetime.datetime(2024, 9, 11, 4, 43, 45)}\n",
      "{'altitude': 178.79999999999995, 'cadence': 87, 'distance': 12138.75, 'enhanced_altitude': 178.79999999999995, 'enhanced_speed': 2.921, 'fractional_cadence': 0.0, 'heart_rate': 161, 'position_lat': 601816649, 'position_long': 362392940, 'speed': 2.921, 'timestamp': datetime.datetime(2024, 9, 11, 4, 43, 52)}\n",
      "{'altitude': 179.0, 'cadence': 87, 'distance': 12152.39, 'enhanced_altitude': 179.0, 'enhanced_speed': 2.921, 'fractional_cadence': 0.0, 'heart_rate': 164, 'position_lat': 601816116, 'position_long': 362395091, 'speed': 2.921, 'timestamp': datetime.datetime(2024, 9, 11, 4, 43, 56)}\n",
      "{'altitude': 177.79999999999995, 'cadence': 86, 'distance': 12172.45, 'enhanced_altitude': 177.79999999999995, 'enhanced_speed': 2.967, 'fractional_cadence': 0.0, 'heart_rate': 163, 'position_lat': 601815087, 'position_long': 362398053, 'speed': 2.967, 'timestamp': datetime.datetime(2024, 9, 11, 4, 44, 2)}\n",
      "{'altitude': 175.79999999999995, 'cadence': 87, 'distance': 12192.97, 'enhanced_altitude': 175.79999999999995, 'enhanced_speed': 3.004, 'fractional_cadence': 0.0, 'heart_rate': 163, 'position_lat': 601813943, 'position_long': 362400987, 'speed': 3.004, 'timestamp': datetime.datetime(2024, 9, 11, 4, 44, 8)}\n",
      "{'altitude': 171.0, 'cadence': 86, 'distance': 12213.13, 'enhanced_altitude': 171.0, 'enhanced_speed': 3.023, 'fractional_cadence': 0.0, 'heart_rate': 163, 'position_lat': 601812829, 'position_long': 362403889, 'speed': 3.023, 'timestamp': datetime.datetime(2024, 9, 11, 4, 44, 14)}\n",
      "{'altitude': 171.20000000000005, 'cadence': 86, 'distance': 12216.76, 'enhanced_altitude': 171.20000000000005, 'enhanced_speed': 3.032, 'fractional_cadence': 0.0, 'heart_rate': 160, 'position_lat': 601812619, 'position_long': 362404406, 'speed': 3.032, 'timestamp': datetime.datetime(2024, 9, 11, 4, 44, 15)}\n",
      "{'altitude': 170.39999999999998, 'cadence': 86, 'distance': 12220.37, 'enhanced_altitude': 170.39999999999998, 'enhanced_speed': 3.042, 'fractional_cadence': 0.0, 'heart_rate': 164, 'position_lat': 601812374, 'position_long': 362404879, 'speed': 3.042, 'timestamp': datetime.datetime(2024, 9, 11, 4, 44, 16)}\n",
      "{'altitude': 170.79999999999995, 'cadence': 86, 'distance': 12223.9, 'enhanced_altitude': 170.79999999999995, 'enhanced_speed': 3.051, 'fractional_cadence': 0.0, 'heart_rate': 161, 'position_lat': 601812138, 'position_long': 362405344, 'speed': 3.051, 'timestamp': datetime.datetime(2024, 9, 11, 4, 44, 17)}\n",
      "{'altitude': 169.0, 'cadence': 85, 'distance': 12244.28, 'enhanced_altitude': 169.0, 'enhanced_speed': 3.079, 'fractional_cadence': 0.5, 'heart_rate': 162, 'position_lat': 601810704, 'position_long': 362407923, 'speed': 3.079, 'timestamp': datetime.datetime(2024, 9, 11, 4, 44, 23)}\n",
      "{'altitude': 167.39999999999998, 'cadence': 85, 'distance': 12265.11, 'enhanced_altitude': 167.39999999999998, 'enhanced_speed': 3.06, 'fractional_cadence': 0.5, 'heart_rate': 161, 'position_lat': 601808816, 'position_long': 362409743, 'speed': 3.06, 'timestamp': datetime.datetime(2024, 9, 11, 4, 44, 30)}\n",
      "{'altitude': 168.79999999999995, 'cadence': 84, 'distance': 12287.48, 'enhanced_altitude': 168.79999999999995, 'enhanced_speed': 2.948, 'fractional_cadence': 0.5, 'heart_rate': 163, 'position_lat': 601807053, 'position_long': 362412042, 'speed': 2.948, 'timestamp': datetime.datetime(2024, 9, 11, 4, 44, 38)}\n",
      "{'altitude': 172.79999999999995, 'cadence': 84, 'distance': 12308.47, 'enhanced_altitude': 172.79999999999995, 'enhanced_speed': 2.939, 'fractional_cadence': 0.5, 'heart_rate': 161, 'position_lat': 601806499, 'position_long': 362415481, 'speed': 2.939, 'timestamp': datetime.datetime(2024, 9, 11, 4, 44, 45)}\n",
      "{'altitude': 174.20000000000005, 'cadence': 84, 'distance': 12329.55, 'enhanced_altitude': 174.20000000000005, 'enhanced_speed': 2.948, 'fractional_cadence': 0.5, 'heart_rate': 162, 'position_lat': 601805602, 'position_long': 362418735, 'speed': 2.948, 'timestamp': datetime.datetime(2024, 9, 11, 4, 44, 52)}\n",
      "{'altitude': 173.0, 'cadence': 85, 'distance': 12344.94, 'enhanced_altitude': 173.0, 'enhanced_speed': 2.986, 'fractional_cadence': 0.5, 'heart_rate': 159, 'position_lat': 601804368, 'position_long': 362420416, 'speed': 2.986, 'timestamp': datetime.datetime(2024, 9, 11, 4, 44, 57)}\n",
      "{'altitude': 170.60000000000002, 'cadence': 86, 'distance': 12366.32, 'enhanced_altitude': 170.60000000000002, 'enhanced_speed': 2.921, 'fractional_cadence': 0.0, 'heart_rate': 160, 'position_lat': 601802175, 'position_long': 362421467, 'speed': 2.921, 'timestamp': datetime.datetime(2024, 9, 11, 4, 45, 5)}\n",
      "{'altitude': 171.79999999999995, 'cadence': 85, 'distance': 12386.59, 'enhanced_altitude': 171.79999999999995, 'enhanced_speed': 2.865, 'fractional_cadence': 0.5, 'heart_rate': 161, 'position_lat': 601800123, 'position_long': 362422630, 'speed': 2.865, 'timestamp': datetime.datetime(2024, 9, 11, 4, 45, 13)}\n",
      "{'altitude': 170.79999999999995, 'cadence': 86, 'distance': 12407.91, 'enhanced_altitude': 170.79999999999995, 'enhanced_speed': 2.809, 'fractional_cadence': 0.0, 'heart_rate': 163, 'position_lat': 601797876, 'position_long': 362423265, 'speed': 2.809, 'timestamp': datetime.datetime(2024, 9, 11, 4, 45, 21)}\n",
      "{'altitude': 170.79999999999995, 'cadence': 85, 'distance': 12427.92, 'enhanced_altitude': 170.79999999999995, 'enhanced_speed': 2.846, 'fractional_cadence': 0.5, 'heart_rate': 162, 'position_lat': 601795773, 'position_long': 362423917, 'speed': 2.846, 'timestamp': datetime.datetime(2024, 9, 11, 4, 45, 27)}\n",
      "{'altitude': 171.39999999999998, 'cadence': 84, 'distance': 12448.36, 'enhanced_altitude': 171.39999999999998, 'enhanced_speed': 2.883, 'fractional_cadence': 0.5, 'heart_rate': 162, 'position_lat': 601793680, 'position_long': 362424970, 'speed': 2.883, 'timestamp': datetime.datetime(2024, 9, 11, 4, 45, 34)}\n",
      "{'altitude': 172.20000000000005, 'cadence': 85, 'distance': 12468.46, 'enhanced_altitude': 172.20000000000005, 'enhanced_speed': 2.865, 'fractional_cadence': 0.5, 'heart_rate': 163, 'position_lat': 601791612, 'position_long': 362425972, 'speed': 2.865, 'timestamp': datetime.datetime(2024, 9, 11, 4, 45, 41)}\n",
      "{'altitude': 173.0, 'cadence': 85, 'distance': 12489.34, 'enhanced_altitude': 173.0, 'enhanced_speed': 2.874, 'fractional_cadence': 0.5, 'heart_rate': 163, 'position_lat': 601789470, 'position_long': 362427004, 'speed': 2.874, 'timestamp': datetime.datetime(2024, 9, 11, 4, 45, 48)}\n",
      "{'altitude': 176.60000000000002, 'cadence': 85, 'distance': 12510.74, 'enhanced_altitude': 176.60000000000002, 'enhanced_speed': 2.855, 'fractional_cadence': 0.5, 'heart_rate': 164, 'position_lat': 601787369, 'position_long': 362428416, 'speed': 2.855, 'timestamp': datetime.datetime(2024, 9, 11, 4, 45, 56)}\n",
      "{'altitude': 179.0, 'cadence': 84, 'distance': 12532.21, 'enhanced_altitude': 179.0, 'enhanced_speed': 2.827, 'fractional_cadence': 0.5, 'heart_rate': 162, 'position_lat': 601785174, 'position_long': 362429419, 'speed': 2.827, 'timestamp': datetime.datetime(2024, 9, 11, 4, 46, 4)}\n",
      "{'altitude': 177.79999999999995, 'cadence': 83, 'distance': 12553.72, 'enhanced_altitude': 177.79999999999995, 'enhanced_speed': 2.818, 'fractional_cadence': 0.5, 'heart_rate': 163, 'position_lat': 601782999, 'position_long': 362428256, 'speed': 2.818, 'timestamp': datetime.datetime(2024, 9, 11, 4, 46, 11)}\n",
      "{'altitude': 177.20000000000005, 'cadence': 83, 'distance': 12576.16, 'enhanced_altitude': 177.20000000000005, 'enhanced_speed': 2.874, 'fractional_cadence': 0.5, 'heart_rate': 162, 'position_lat': 601780811, 'position_long': 362426650, 'speed': 2.874, 'timestamp': datetime.datetime(2024, 9, 11, 4, 46, 17)}\n",
      "{'altitude': 178.0, 'cadence': 84, 'distance': 12596.73, 'enhanced_altitude': 178.0, 'enhanced_speed': 2.976, 'fractional_cadence': 0.5, 'heart_rate': 161, 'position_lat': 601778722, 'position_long': 362425523, 'speed': 2.976, 'timestamp': datetime.datetime(2024, 9, 11, 4, 46, 23)}\n",
      "{'altitude': 177.0, 'cadence': 84, 'distance': 12619.15, 'enhanced_altitude': 177.0, 'enhanced_speed': 3.042, 'fractional_cadence': 0.5, 'heart_rate': 160, 'position_lat': 601776484, 'position_long': 362424144, 'speed': 3.042, 'timestamp': datetime.datetime(2024, 9, 11, 4, 46, 30)}\n",
      "{'altitude': 174.60000000000002, 'cadence': 85, 'distance': 12639.39, 'enhanced_altitude': 174.60000000000002, 'enhanced_speed': 3.088, 'fractional_cadence': 0.5, 'heart_rate': 160, 'position_lat': 601774467, 'position_long': 362422924, 'speed': 3.088, 'timestamp': datetime.datetime(2024, 9, 11, 4, 46, 36)}\n",
      "{'altitude': 171.0, 'cadence': 84, 'distance': 12660.1, 'enhanced_altitude': 171.0, 'enhanced_speed': 3.107, 'fractional_cadence': 0.5, 'heart_rate': 159, 'position_lat': 601772364, 'position_long': 362421782, 'speed': 3.107, 'timestamp': datetime.datetime(2024, 9, 11, 4, 46, 43)}\n",
      "{'altitude': 172.79999999999995, 'cadence': 86, 'distance': 12680.3, 'enhanced_altitude': 172.79999999999995, 'enhanced_speed': 3.06, 'fractional_cadence': 0.0, 'heart_rate': 159, 'position_lat': 601770799, 'position_long': 362419642, 'speed': 3.06, 'timestamp': datetime.datetime(2024, 9, 11, 4, 46, 50)}\n",
      "{'altitude': 173.39999999999998, 'cadence': 85, 'distance': 12702.15, 'enhanced_altitude': 173.39999999999998, 'enhanced_speed': 3.088, 'fractional_cadence': 0.5, 'heart_rate': 159, 'position_lat': 601769526, 'position_long': 362416568, 'speed': 3.088, 'timestamp': datetime.datetime(2024, 9, 11, 4, 46, 57)}\n",
      "{'altitude': 175.60000000000002, 'cadence': 85, 'distance': 12723.29, 'enhanced_altitude': 175.60000000000002, 'enhanced_speed': 3.079, 'fractional_cadence': 0.5, 'heart_rate': 159, 'position_lat': 601768743, 'position_long': 362413241, 'speed': 3.079, 'timestamp': datetime.datetime(2024, 9, 11, 4, 47, 4)}\n",
      "{'altitude': 175.79999999999995, 'cadence': 85, 'distance': 12745.43, 'enhanced_altitude': 175.79999999999995, 'enhanced_speed': 3.088, 'fractional_cadence': 0.5, 'heart_rate': 160, 'position_lat': 601767770, 'position_long': 362409852, 'speed': 3.088, 'timestamp': datetime.datetime(2024, 9, 11, 4, 47, 11)}\n",
      "{'altitude': 175.79999999999995, 'cadence': 84, 'distance': 12766.23, 'enhanced_altitude': 175.79999999999995, 'enhanced_speed': 3.107, 'fractional_cadence': 0.5, 'heart_rate': 159, 'position_lat': 601766409, 'position_long': 362407092, 'speed': 3.107, 'timestamp': datetime.datetime(2024, 9, 11, 4, 47, 18)}\n",
      "{'altitude': 176.20000000000005, 'cadence': 84, 'distance': 12789.16, 'enhanced_altitude': 176.20000000000005, 'enhanced_speed': 3.088, 'fractional_cadence': 0.5, 'heart_rate': 158, 'position_lat': 601765194, 'position_long': 362403750, 'speed': 3.088, 'timestamp': datetime.datetime(2024, 9, 11, 4, 47, 26)}\n",
      "{'altitude': 175.20000000000005, 'cadence': 84, 'distance': 12809.71, 'enhanced_altitude': 175.20000000000005, 'enhanced_speed': 3.079, 'fractional_cadence': 0.0, 'heart_rate': 158, 'position_lat': 601764248, 'position_long': 362400647, 'speed': 3.079, 'timestamp': datetime.datetime(2024, 9, 11, 4, 47, 33)}\n",
      "{'altitude': 173.60000000000002, 'cadence': 84, 'distance': 12831.14, 'enhanced_altitude': 173.60000000000002, 'enhanced_speed': 3.07, 'fractional_cadence': 0.5, 'heart_rate': 160, 'position_lat': 601763430, 'position_long': 362397281, 'speed': 3.07, 'timestamp': datetime.datetime(2024, 9, 11, 4, 47, 40)}\n",
      "{'altitude': 173.20000000000005, 'cadence': 84, 'distance': 12846.42, 'enhanced_altitude': 173.20000000000005, 'enhanced_speed': 3.079, 'fractional_cadence': 0.5, 'heart_rate': 157, 'position_lat': 601762955, 'position_long': 362394825, 'speed': 3.079, 'timestamp': datetime.datetime(2024, 9, 11, 4, 47, 45)}\n",
      "{'altitude': 173.60000000000002, 'cadence': 85, 'distance': 12868.84, 'enhanced_altitude': 173.60000000000002, 'enhanced_speed': 3.098, 'fractional_cadence': 0.5, 'heart_rate': 156, 'position_lat': 601762222, 'position_long': 362391228, 'speed': 3.098, 'timestamp': datetime.datetime(2024, 9, 11, 4, 47, 52)}\n",
      "{'altitude': 174.60000000000002, 'cadence': 84, 'distance': 12890.27, 'enhanced_altitude': 174.60000000000002, 'enhanced_speed': 3.107, 'fractional_cadence': 0.5, 'heart_rate': 157, 'position_lat': 601761660, 'position_long': 362387751, 'speed': 3.107, 'timestamp': datetime.datetime(2024, 9, 11, 4, 47, 59)}\n",
      "{'altitude': 177.39999999999998, 'cadence': 84, 'distance': 12911.47, 'enhanced_altitude': 177.39999999999998, 'enhanced_speed': 3.116, 'fractional_cadence': 0.5, 'heart_rate': 157, 'position_lat': 601761282, 'position_long': 362384231, 'speed': 3.116, 'timestamp': datetime.datetime(2024, 9, 11, 4, 48, 6)}\n",
      "{'altitude': 179.0, 'cadence': 85, 'distance': 12933.09, 'enhanced_altitude': 179.0, 'enhanced_speed': 3.079, 'fractional_cadence': 0.5, 'heart_rate': 156, 'position_lat': 601759663, 'position_long': 362381721, 'speed': 3.079, 'timestamp': datetime.datetime(2024, 9, 11, 4, 48, 14)}\n",
      "{'altitude': 176.20000000000005, 'cadence': 84, 'distance': 12953.74, 'enhanced_altitude': 176.20000000000005, 'enhanced_speed': 3.07, 'fractional_cadence': 0.5, 'heart_rate': 157, 'position_lat': 601758567, 'position_long': 362378753, 'speed': 3.07, 'timestamp': datetime.datetime(2024, 9, 11, 4, 48, 21)}\n",
      "{'altitude': 174.20000000000005, 'cadence': 85, 'distance': 12974.09, 'enhanced_altitude': 174.20000000000005, 'enhanced_speed': 3.06, 'fractional_cadence': 0.5, 'heart_rate': 157, 'position_lat': 601757841, 'position_long': 362375526, 'speed': 3.06, 'timestamp': datetime.datetime(2024, 9, 11, 4, 48, 28)}\n",
      "{'altitude': 172.0, 'cadence': 84, 'distance': 12996.26, 'enhanced_altitude': 172.0, 'enhanced_speed': 3.023, 'fractional_cadence': 0.5, 'heart_rate': 157, 'position_lat': 601756832, 'position_long': 362372157, 'speed': 3.023, 'timestamp': datetime.datetime(2024, 9, 11, 4, 48, 36)}\n",
      "{'altitude': 170.79999999999995, 'cadence': 84, 'distance': 13016.73, 'enhanced_altitude': 170.79999999999995, 'enhanced_speed': 2.986, 'fractional_cadence': 0.5, 'heart_rate': 157, 'position_lat': 601755866, 'position_long': 362369058, 'speed': 2.986, 'timestamp': datetime.datetime(2024, 9, 11, 4, 48, 44)}\n",
      "{'altitude': 173.39999999999998, 'cadence': 84, 'distance': 13039.12, 'enhanced_altitude': 173.39999999999998, 'enhanced_speed': 2.967, 'fractional_cadence': 0.5, 'heart_rate': 158, 'position_lat': 601755171, 'position_long': 362365468, 'speed': 2.967, 'timestamp': datetime.datetime(2024, 9, 11, 4, 48, 52)}\n",
      "{'altitude': 178.39999999999998, 'cadence': 85, 'distance': 13060.1, 'enhanced_altitude': 178.39999999999998, 'enhanced_speed': 2.93, 'fractional_cadence': 0.5, 'heart_rate': 155, 'position_lat': 601754362, 'position_long': 362362210, 'speed': 2.93, 'timestamp': datetime.datetime(2024, 9, 11, 4, 49)}\n",
      "{'altitude': 176.39999999999998, 'cadence': 85, 'distance': 13082.92, 'enhanced_altitude': 176.39999999999998, 'enhanced_speed': 2.93, 'fractional_cadence': 0.5, 'heart_rate': 155, 'position_lat': 601753489, 'position_long': 362358640, 'speed': 2.93, 'timestamp': datetime.datetime(2024, 9, 11, 4, 49, 7)}\n",
      "{'altitude': 174.0, 'cadence': 80, 'distance': 13098.54, 'enhanced_altitude': 174.0, 'enhanced_speed': 2.781, 'fractional_cadence': 0.0, 'heart_rate': 153, 'position_lat': 601752878, 'position_long': 362356379, 'speed': 2.781, 'timestamp': datetime.datetime(2024, 9, 11, 4, 49, 15)}\n",
      "{'altitude': 174.79999999999995, 'cadence': 79, 'distance': 13113.41, 'enhanced_altitude': 174.79999999999995, 'enhanced_speed': 2.202, 'fractional_cadence': 0.5, 'heart_rate': 150, 'position_lat': 601753874, 'position_long': 362358351, 'speed': 2.202, 'timestamp': datetime.datetime(2024, 9, 11, 4, 49, 23)}\n",
      "{'altitude': 175.39999999999998, 'cadence': 81, 'distance': 13133.94, 'enhanced_altitude': 175.39999999999998, 'enhanced_speed': 2.127, 'fractional_cadence': 0.5, 'heart_rate': 151, 'position_lat': 601754554, 'position_long': 362361622, 'speed': 2.127, 'timestamp': datetime.datetime(2024, 9, 11, 4, 49, 32)}\n",
      "{'altitude': 177.39999999999998, 'cadence': 82, 'distance': 13155.8, 'enhanced_altitude': 177.39999999999998, 'enhanced_speed': 2.211, 'fractional_cadence': 0.0, 'heart_rate': 150, 'position_lat': 601755611, 'position_long': 362364911, 'speed': 2.211, 'timestamp': datetime.datetime(2024, 9, 11, 4, 49, 41)}\n",
      "{'altitude': 180.39999999999998, 'cadence': 81, 'distance': 13177.38, 'enhanced_altitude': 180.39999999999998, 'enhanced_speed': 2.249, 'fractional_cadence': 0.5, 'heart_rate': 153, 'position_lat': 601756822, 'position_long': 362368050, 'speed': 2.249, 'timestamp': datetime.datetime(2024, 9, 11, 4, 49, 50)}\n",
      "{'altitude': 181.20000000000005, 'cadence': 82, 'distance': 13198.98, 'enhanced_altitude': 181.20000000000005, 'enhanced_speed': 2.286, 'fractional_cadence': 0.0, 'heart_rate': 151, 'position_lat': 601758340, 'position_long': 362370805, 'speed': 2.286, 'timestamp': datetime.datetime(2024, 9, 11, 4, 49, 59)}\n",
      "{'altitude': 182.60000000000002, 'cadence': 83, 'distance': 13220.18, 'enhanced_altitude': 182.60000000000002, 'enhanced_speed': 2.314, 'fractional_cadence': 0.5, 'heart_rate': 152, 'position_lat': 601759158, 'position_long': 362374110, 'speed': 2.314, 'timestamp': datetime.datetime(2024, 9, 11, 4, 50, 8)}\n",
      "{'altitude': 182.39999999999998, 'cadence': 82, 'distance': 13237.63, 'enhanced_altitude': 182.39999999999998, 'enhanced_speed': 2.305, 'fractional_cadence': 0.0, 'heart_rate': 148, 'position_lat': 601759788, 'position_long': 362376874, 'speed': 2.305, 'timestamp': datetime.datetime(2024, 9, 11, 4, 50, 16)}\n",
      "{'altitude': 179.79999999999995, 'cadence': 82, 'distance': 13258.34, 'enhanced_altitude': 179.79999999999995, 'enhanced_speed': 2.305, 'fractional_cadence': 0.5, 'heart_rate': 148, 'position_lat': 601760809, 'position_long': 362379993, 'speed': 2.305, 'timestamp': datetime.datetime(2024, 9, 11, 4, 50, 25)}\n",
      "{'altitude': 175.39999999999998, 'cadence': 82, 'distance': 13280.61, 'enhanced_altitude': 175.39999999999998, 'enhanced_speed': 2.314, 'fractional_cadence': 0.5, 'heart_rate': 149, 'position_lat': 601762500, 'position_long': 362382577, 'speed': 2.314, 'timestamp': datetime.datetime(2024, 9, 11, 4, 50, 34)}\n",
      "{'altitude': 174.39999999999998, 'cadence': 82, 'distance': 13300.63, 'enhanced_altitude': 174.39999999999998, 'enhanced_speed': 2.342, 'fractional_cadence': 0.0, 'heart_rate': 149, 'position_lat': 601762832, 'position_long': 362385828, 'speed': 2.342, 'timestamp': datetime.datetime(2024, 9, 11, 4, 50, 42)}\n",
      "{'altitude': 171.39999999999998, 'cadence': 80, 'distance': 13321.03, 'enhanced_altitude': 171.39999999999998, 'enhanced_speed': 2.333, 'fractional_cadence': 0.5, 'heart_rate': 146, 'position_lat': 601763327, 'position_long': 362389161, 'speed': 2.333, 'timestamp': datetime.datetime(2024, 9, 11, 4, 50, 51)}\n",
      "{'altitude': 172.39999999999998, 'cadence': 82, 'distance': 13342.65, 'enhanced_altitude': 172.39999999999998, 'enhanced_speed': 2.333, 'fractional_cadence': 0.0, 'heart_rate': 146, 'position_lat': 601764226, 'position_long': 362392483, 'speed': 2.333, 'timestamp': datetime.datetime(2024, 9, 11, 4, 51)}\n",
      "{'altitude': 173.60000000000002, 'cadence': 81, 'distance': 13359.78, 'enhanced_altitude': 173.60000000000002, 'enhanced_speed': 2.333, 'fractional_cadence': 0.5, 'heart_rate': 149, 'position_lat': 601764950, 'position_long': 362395114, 'speed': 2.333, 'timestamp': datetime.datetime(2024, 9, 11, 4, 51, 7)}\n",
      "{'altitude': 177.60000000000002, 'cadence': 81, 'distance': 13382.48, 'enhanced_altitude': 177.60000000000002, 'enhanced_speed': 2.323, 'fractional_cadence': 0.5, 'heart_rate': 150, 'position_lat': 601765605, 'position_long': 362398770, 'speed': 2.323, 'timestamp': datetime.datetime(2024, 9, 11, 4, 51, 17)}\n",
      "{'altitude': 178.0, 'cadence': 80, 'distance': 13394.49, 'enhanced_altitude': 178.0, 'enhanced_speed': 2.323, 'fractional_cadence': 0.5, 'heart_rate': 147, 'position_lat': 601765939, 'position_long': 362400705, 'speed': 2.323, 'timestamp': datetime.datetime(2024, 9, 11, 4, 51, 22)}\n",
      "{'altitude': 179.20000000000005, 'cadence': 81, 'distance': 13416.75, 'enhanced_altitude': 179.20000000000005, 'enhanced_speed': 2.333, 'fractional_cadence': 0.5, 'heart_rate': 147, 'position_lat': 601767040, 'position_long': 362404017, 'speed': 2.333, 'timestamp': datetime.datetime(2024, 9, 11, 4, 51, 31)}\n",
      "{'altitude': 180.20000000000005, 'cadence': 81, 'distance': 13437.67, 'enhanced_altitude': 180.20000000000005, 'enhanced_speed': 2.342, 'fractional_cadence': 0.5, 'heart_rate': 146, 'position_lat': 601768153, 'position_long': 362407062, 'speed': 2.342, 'timestamp': datetime.datetime(2024, 9, 11, 4, 51, 40)}\n",
      "{'altitude': 177.60000000000002, 'cadence': 81, 'distance': 13458.75, 'enhanced_altitude': 177.60000000000002, 'enhanced_speed': 2.333, 'fractional_cadence': 0.5, 'heart_rate': 144, 'position_lat': 601769063, 'position_long': 362410317, 'speed': 2.333, 'timestamp': datetime.datetime(2024, 9, 11, 4, 51, 49)}\n",
      "{'altitude': 175.0, 'cadence': 79, 'distance': 13480.25, 'enhanced_altitude': 175.0, 'enhanced_speed': 2.314, 'fractional_cadence': 0.5, 'heart_rate': 143, 'position_lat': 601769546, 'position_long': 362413851, 'speed': 2.314, 'timestamp': datetime.datetime(2024, 9, 11, 4, 51, 59)}\n",
      "{'altitude': 177.79999999999995, 'cadence': 80, 'distance': 13502.12, 'enhanced_altitude': 177.79999999999995, 'enhanced_speed': 2.305, 'fractional_cadence': 0.5, 'heart_rate': 142, 'position_lat': 601770797, 'position_long': 362416968, 'speed': 2.305, 'timestamp': datetime.datetime(2024, 9, 11, 4, 52, 8)}\n",
      "{'altitude': 179.79999999999995, 'cadence': 81, 'distance': 13513.59, 'enhanced_altitude': 179.79999999999995, 'enhanced_speed': 2.323, 'fractional_cadence': 0.5, 'heart_rate': 139, 'position_lat': 601770845, 'position_long': 362418855, 'speed': 2.323, 'timestamp': datetime.datetime(2024, 9, 11, 4, 52, 13)}\n",
      "{'altitude': 180.20000000000005, 'cadence': 81, 'distance': 13517.25, 'enhanced_altitude': 180.20000000000005, 'enhanced_speed': 2.305, 'fractional_cadence': 0.5, 'heart_rate': 140, 'position_lat': 601770597, 'position_long': 362419325, 'speed': 2.305, 'timestamp': datetime.datetime(2024, 9, 11, 4, 52, 14)}\n",
      "{'altitude': 180.79999999999995, 'cadence': 81, 'distance': 13532.48, 'enhanced_altitude': 180.79999999999995, 'enhanced_speed': 2.277, 'fractional_cadence': 0.5, 'heart_rate': 143, 'position_lat': 601769230, 'position_long': 362420744, 'speed': 2.277, 'timestamp': datetime.datetime(2024, 9, 11, 4, 52, 22)}\n",
      "{'altitude': 180.39999999999998, 'cadence': 83, 'distance': 13543.69, 'enhanced_altitude': 180.39999999999998, 'enhanced_speed': 2.305, 'fractional_cadence': 0.5, 'heart_rate': 145, 'position_lat': 601768099, 'position_long': 362421321, 'speed': 2.305, 'timestamp': datetime.datetime(2024, 9, 11, 4, 52, 26)}\n",
      "{'altitude': 182.0, 'cadence': 82, 'distance': 13566.19, 'enhanced_altitude': 182.0, 'enhanced_speed': 2.333, 'fractional_cadence': 0.0, 'heart_rate': 144, 'position_lat': 601766554, 'position_long': 362418374, 'speed': 2.333, 'timestamp': datetime.datetime(2024, 9, 11, 4, 52, 36)}\n",
      "{'altitude': 182.0, 'cadence': 81, 'distance': 13586.66, 'enhanced_altitude': 182.0, 'enhanced_speed': 2.342, 'fractional_cadence': 0.5, 'heart_rate': 143, 'position_lat': 601765236, 'position_long': 362415634, 'speed': 2.342, 'timestamp': datetime.datetime(2024, 9, 11, 4, 52, 45)}\n",
      "{'altitude': 182.0, 'cadence': 82, 'distance': 13608.87, 'enhanced_altitude': 182.0, 'enhanced_speed': 2.342, 'fractional_cadence': 0.0, 'heart_rate': 142, 'position_lat': 601763081, 'position_long': 362415125, 'speed': 2.342, 'timestamp': datetime.datetime(2024, 9, 11, 4, 52, 55)}\n",
      "{'altitude': 181.79999999999995, 'cadence': 81, 'distance': 13624.07, 'enhanced_altitude': 181.79999999999995, 'enhanced_speed': 2.342, 'fractional_cadence': 0.5, 'heart_rate': 145, 'position_lat': 601761573, 'position_long': 362416118, 'speed': 2.342, 'timestamp': datetime.datetime(2024, 9, 11, 4, 53, 2)}\n",
      "{'altitude': 180.20000000000005, 'cadence': 80, 'distance': 13644.29, 'enhanced_altitude': 180.20000000000005, 'enhanced_speed': 2.342, 'fractional_cadence': 0.5, 'heart_rate': 143, 'position_lat': 601759548, 'position_long': 362417343, 'speed': 2.342, 'timestamp': datetime.datetime(2024, 9, 11, 4, 53, 11)}\n",
      "{'altitude': 180.60000000000002, 'cadence': 81, 'distance': 13664.57, 'enhanced_altitude': 180.60000000000002, 'enhanced_speed': 2.333, 'fractional_cadence': 0.5, 'heart_rate': 143, 'position_lat': 601757441, 'position_long': 362418251, 'speed': 2.333, 'timestamp': datetime.datetime(2024, 9, 11, 4, 53, 19)}\n",
      "{'altitude': 184.39999999999998, 'cadence': 80, 'distance': 13686.25, 'enhanced_altitude': 184.39999999999998, 'enhanced_speed': 2.351, 'fractional_cadence': 0.5, 'heart_rate': 143, 'position_lat': 601755088, 'position_long': 362419125, 'speed': 2.351, 'timestamp': datetime.datetime(2024, 9, 11, 4, 53, 27)}\n",
      "{'altitude': 183.39999999999998, 'cadence': 82, 'distance': 13708.65, 'enhanced_altitude': 183.39999999999998, 'enhanced_speed': 2.379, 'fractional_cadence': 0.0, 'heart_rate': 144, 'position_lat': 601752917, 'position_long': 362420702, 'speed': 2.379, 'timestamp': datetime.datetime(2024, 9, 11, 4, 53, 36)}\n",
      "{'altitude': 179.60000000000002, 'cadence': 80, 'distance': 13729.56, 'enhanced_altitude': 179.60000000000002, 'enhanced_speed': 2.323, 'fractional_cadence': 0.5, 'heart_rate': 143, 'position_lat': 601750892, 'position_long': 362422212, 'speed': 2.323, 'timestamp': datetime.datetime(2024, 9, 11, 4, 53, 46)}\n",
      "{'altitude': 178.79999999999995, 'cadence': 81, 'distance': 13751.69, 'enhanced_altitude': 178.79999999999995, 'enhanced_speed': 2.295, 'fractional_cadence': 0.5, 'heart_rate': 143, 'position_lat': 601748657, 'position_long': 362423398, 'speed': 2.295, 'timestamp': datetime.datetime(2024, 9, 11, 4, 53, 56)}\n",
      "{'altitude': 180.0, 'cadence': 81, 'distance': 13773.44, 'enhanced_altitude': 180.0, 'enhanced_speed': 2.305, 'fractional_cadence': 0.5, 'heart_rate': 143, 'position_lat': 601746653, 'position_long': 362425371, 'speed': 2.305, 'timestamp': datetime.datetime(2024, 9, 11, 4, 54, 5)}\n",
      "{'altitude': 179.39999999999998, 'cadence': 81, 'distance': 13794.23, 'enhanced_altitude': 179.39999999999998, 'enhanced_speed': 2.305, 'fractional_cadence': 0.5, 'heart_rate': 143, 'position_lat': 601744844, 'position_long': 362427398, 'speed': 2.305, 'timestamp': datetime.datetime(2024, 9, 11, 4, 54, 14)}\n",
      "{'altitude': 176.60000000000002, 'cadence': 81, 'distance': 13814.44, 'enhanced_altitude': 176.60000000000002, 'enhanced_speed': 2.305, 'fractional_cadence': 0.5, 'heart_rate': 143, 'position_lat': 601743029, 'position_long': 362429235, 'speed': 2.305, 'timestamp': datetime.datetime(2024, 9, 11, 4, 54, 23)}\n",
      "{'altitude': 174.39999999999998, 'cadence': 81, 'distance': 13828.67, 'enhanced_altitude': 174.39999999999998, 'enhanced_speed': 2.295, 'fractional_cadence': 0.5, 'heart_rate': 140, 'position_lat': 601741592, 'position_long': 362430077, 'speed': 2.295, 'timestamp': datetime.datetime(2024, 9, 11, 4, 54, 29)}\n",
      "{'altitude': 175.0, 'cadence': 81, 'distance': 13850.96, 'enhanced_altitude': 175.0, 'enhanced_speed': 2.305, 'fractional_cadence': 0.5, 'heart_rate': 142, 'position_lat': 601739354, 'position_long': 362431692, 'speed': 2.305, 'timestamp': datetime.datetime(2024, 9, 11, 4, 54, 38)}\n",
      "{'altitude': 177.39999999999998, 'cadence': 80, 'distance': 13873.07, 'enhanced_altitude': 177.39999999999998, 'enhanced_speed': 2.305, 'fractional_cadence': 0.5, 'heart_rate': 144, 'position_lat': 601736935, 'position_long': 362432640, 'speed': 2.305, 'timestamp': datetime.datetime(2024, 9, 11, 4, 54, 48)}\n",
      "{'altitude': 180.20000000000005, 'cadence': 81, 'distance': 13894.44, 'enhanced_altitude': 180.20000000000005, 'enhanced_speed': 2.295, 'fractional_cadence': 0.5, 'heart_rate': 143, 'position_lat': 601734552, 'position_long': 362433172, 'speed': 2.295, 'timestamp': datetime.datetime(2024, 9, 11, 4, 54, 57)}\n",
      "{'altitude': 179.0, 'cadence': 81, 'distance': 13916.3, 'enhanced_altitude': 179.0, 'enhanced_speed': 2.295, 'fractional_cadence': 0.5, 'heart_rate': 143, 'position_lat': 601732210, 'position_long': 362434304, 'speed': 2.295, 'timestamp': datetime.datetime(2024, 9, 11, 4, 55, 6)}\n",
      "{'altitude': 179.60000000000002, 'cadence': 81, 'distance': 13921.88, 'enhanced_altitude': 179.60000000000002, 'enhanced_speed': 2.286, 'fractional_cadence': 0.5, 'heart_rate': 143, 'position_lat': 601731583, 'position_long': 362434319, 'speed': 2.286, 'timestamp': datetime.datetime(2024, 9, 11, 4, 55, 8)}\n"
     ]
    }
   ],
   "source": [
    "  "
   ]
  },
  {
   "cell_type": "code",
   "execution_count": 56,
   "id": "7bb3f486",
   "metadata": {},
   "outputs": [
    {
     "data": {
      "text/plain": [
       "Index(['cadence', 'distance', 'enhanced_speed', 'fractional_cadence',\n",
       "       'heart_rate', 'speed', 'timestamp', 'altitude', 'enhanced_altitude',\n",
       "       'position_lat', 'position_long', 'time_only', 'heart_rate_rolling_avg'],\n",
       "      dtype='object')"
      ]
     },
     "execution_count": 56,
     "metadata": {},
     "output_type": "execute_result"
    }
   ],
   "source": [
    "df.columns"
   ]
  },
  {
   "cell_type": "code",
   "execution_count": 59,
   "id": "6171aa94",
   "metadata": {},
   "outputs": [
    {
     "data": {
      "text/plain": [
       "0      0.000\n",
       "1      0.000\n",
       "2      1.577\n",
       "3      1.540\n",
       "4      1.633\n",
       "       ...  \n",
       "697    2.305\n",
       "698    2.305\n",
       "699    2.295\n",
       "700    2.295\n",
       "701    2.286\n",
       "Name: speed, Length: 702, dtype: float64"
      ]
     },
     "execution_count": 59,
     "metadata": {},
     "output_type": "execute_result"
    }
   ],
   "source": [
    "df.speed\n"
   ]
  },
  {
   "cell_type": "code",
   "execution_count": null,
   "id": "df2075cd",
   "metadata": {},
   "outputs": [],
   "source": []
  }
 ],
 "metadata": {
  "kernelspec": {
   "display_name": "Python 3 (ipykernel)",
   "language": "python",
   "name": "python3"
  },
  "language_info": {
   "codemirror_mode": {
    "name": "ipython",
    "version": 3
   },
   "file_extension": ".py",
   "mimetype": "text/x-python",
   "name": "python",
   "nbconvert_exporter": "python",
   "pygments_lexer": "ipython3",
   "version": "3.9.13"
  }
 },
 "nbformat": 4,
 "nbformat_minor": 5
}
